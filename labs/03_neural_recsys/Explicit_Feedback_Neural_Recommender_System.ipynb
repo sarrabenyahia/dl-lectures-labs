{
 "cells": [
  {
   "cell_type": "markdown",
   "metadata": {},
   "source": [
    "# Explicit Feedback Neural Recommender Systems\n",
    "\n",
    "Goals:\n",
    "- Understand recommender data\n",
    "- Build different models architectures using Keras\n",
    "- Retrieve Embeddings and visualize them\n",
    "- Add metadata information as input to the model"
   ]
  },
  {
   "cell_type": "code",
   "execution_count": 1,
   "metadata": {},
   "outputs": [],
   "source": [
    "%matplotlib inline\n",
    "import matplotlib.pyplot as plt\n",
    "import numpy as np\n",
    "import os.path as op\n",
    "\n",
    "from zipfile import ZipFile\n",
    "try:\n",
    "    from urllib.request import urlretrieve\n",
    "except ImportError:  # Python 2 compat\n",
    "    from urllib import urlretrieve\n",
    "\n",
    "\n",
    "ML_100K_URL = \"http://files.grouplens.org/datasets/movielens/ml-100k.zip\"\n",
    "ML_100K_FILENAME = ML_100K_URL.rsplit('/', 1)[1]\n",
    "ML_100K_FOLDER = 'ml-100k'\n",
    "\n",
    "if not op.exists(ML_100K_FILENAME):\n",
    "    print('Downloading %s to %s...' % (ML_100K_URL, ML_100K_FILENAME))\n",
    "    urlretrieve(ML_100K_URL, ML_100K_FILENAME)\n",
    "\n",
    "if not op.exists(ML_100K_FOLDER):\n",
    "    print('Extracting %s to %s...' % (ML_100K_FILENAME, ML_100K_FOLDER))\n",
    "    ZipFile(ML_100K_FILENAME).extractall('.')"
   ]
  },
  {
   "cell_type": "markdown",
   "metadata": {},
   "source": [
    "### Ratings file\n",
    "\n",
    "Each line contains a rated movie: \n",
    "- a user\n",
    "- an item\n",
    "- a rating from 1 to 5 stars"
   ]
  },
  {
   "cell_type": "code",
   "execution_count": 2,
   "metadata": {},
   "outputs": [
    {
     "data": {
      "text/html": [
       "<div>\n",
       "<style scoped>\n",
       "    .dataframe tbody tr th:only-of-type {\n",
       "        vertical-align: middle;\n",
       "    }\n",
       "\n",
       "    .dataframe tbody tr th {\n",
       "        vertical-align: top;\n",
       "    }\n",
       "\n",
       "    .dataframe thead th {\n",
       "        text-align: right;\n",
       "    }\n",
       "</style>\n",
       "<table border=\"1\" class=\"dataframe\">\n",
       "  <thead>\n",
       "    <tr style=\"text-align: right;\">\n",
       "      <th></th>\n",
       "      <th>user_id</th>\n",
       "      <th>item_id</th>\n",
       "      <th>rating</th>\n",
       "      <th>timestamp</th>\n",
       "    </tr>\n",
       "  </thead>\n",
       "  <tbody>\n",
       "    <tr>\n",
       "      <th>0</th>\n",
       "      <td>196</td>\n",
       "      <td>242</td>\n",
       "      <td>3</td>\n",
       "      <td>881250949</td>\n",
       "    </tr>\n",
       "    <tr>\n",
       "      <th>1</th>\n",
       "      <td>186</td>\n",
       "      <td>302</td>\n",
       "      <td>3</td>\n",
       "      <td>891717742</td>\n",
       "    </tr>\n",
       "    <tr>\n",
       "      <th>2</th>\n",
       "      <td>22</td>\n",
       "      <td>377</td>\n",
       "      <td>1</td>\n",
       "      <td>878887116</td>\n",
       "    </tr>\n",
       "    <tr>\n",
       "      <th>3</th>\n",
       "      <td>244</td>\n",
       "      <td>51</td>\n",
       "      <td>2</td>\n",
       "      <td>880606923</td>\n",
       "    </tr>\n",
       "    <tr>\n",
       "      <th>4</th>\n",
       "      <td>166</td>\n",
       "      <td>346</td>\n",
       "      <td>1</td>\n",
       "      <td>886397596</td>\n",
       "    </tr>\n",
       "  </tbody>\n",
       "</table>\n",
       "</div>"
      ],
      "text/plain": [
       "   user_id  item_id  rating  timestamp\n",
       "0      196      242       3  881250949\n",
       "1      186      302       3  891717742\n",
       "2       22      377       1  878887116\n",
       "3      244       51       2  880606923\n",
       "4      166      346       1  886397596"
      ]
     },
     "execution_count": 2,
     "metadata": {},
     "output_type": "execute_result"
    }
   ],
   "source": [
    "import pandas as pd\n",
    "\n",
    "raw_ratings = pd.read_csv(op.join(ML_100K_FOLDER, 'u.data'), sep='\\t',\n",
    "                      names=[\"user_id\", \"item_id\", \"rating\", \"timestamp\"])\n",
    "raw_ratings.head()"
   ]
  },
  {
   "cell_type": "markdown",
   "metadata": {},
   "source": [
    "### Item metadata file\n",
    "\n",
    "The item metadata file contains metadata like the name of the movie or the date it was released. The movies file contains columns indicating the movie's genres. Let's only load the first five columns of the file with `usecols`."
   ]
  },
  {
   "cell_type": "code",
   "execution_count": 3,
   "metadata": {},
   "outputs": [
    {
     "data": {
      "text/html": [
       "<div>\n",
       "<style scoped>\n",
       "    .dataframe tbody tr th:only-of-type {\n",
       "        vertical-align: middle;\n",
       "    }\n",
       "\n",
       "    .dataframe tbody tr th {\n",
       "        vertical-align: top;\n",
       "    }\n",
       "\n",
       "    .dataframe thead th {\n",
       "        text-align: right;\n",
       "    }\n",
       "</style>\n",
       "<table border=\"1\" class=\"dataframe\">\n",
       "  <thead>\n",
       "    <tr style=\"text-align: right;\">\n",
       "      <th></th>\n",
       "      <th>item_id</th>\n",
       "      <th>title</th>\n",
       "      <th>release_date</th>\n",
       "      <th>video_release_date</th>\n",
       "      <th>imdb_url</th>\n",
       "    </tr>\n",
       "  </thead>\n",
       "  <tbody>\n",
       "    <tr>\n",
       "      <th>0</th>\n",
       "      <td>1</td>\n",
       "      <td>Toy Story (1995)</td>\n",
       "      <td>01-Jan-1995</td>\n",
       "      <td>NaN</td>\n",
       "      <td>http://us.imdb.com/M/title-exact?Toy%20Story%2...</td>\n",
       "    </tr>\n",
       "    <tr>\n",
       "      <th>1</th>\n",
       "      <td>2</td>\n",
       "      <td>GoldenEye (1995)</td>\n",
       "      <td>01-Jan-1995</td>\n",
       "      <td>NaN</td>\n",
       "      <td>http://us.imdb.com/M/title-exact?GoldenEye%20(...</td>\n",
       "    </tr>\n",
       "    <tr>\n",
       "      <th>2</th>\n",
       "      <td>3</td>\n",
       "      <td>Four Rooms (1995)</td>\n",
       "      <td>01-Jan-1995</td>\n",
       "      <td>NaN</td>\n",
       "      <td>http://us.imdb.com/M/title-exact?Four%20Rooms%...</td>\n",
       "    </tr>\n",
       "    <tr>\n",
       "      <th>3</th>\n",
       "      <td>4</td>\n",
       "      <td>Get Shorty (1995)</td>\n",
       "      <td>01-Jan-1995</td>\n",
       "      <td>NaN</td>\n",
       "      <td>http://us.imdb.com/M/title-exact?Get%20Shorty%...</td>\n",
       "    </tr>\n",
       "    <tr>\n",
       "      <th>4</th>\n",
       "      <td>5</td>\n",
       "      <td>Copycat (1995)</td>\n",
       "      <td>01-Jan-1995</td>\n",
       "      <td>NaN</td>\n",
       "      <td>http://us.imdb.com/M/title-exact?Copycat%20(1995)</td>\n",
       "    </tr>\n",
       "  </tbody>\n",
       "</table>\n",
       "</div>"
      ],
      "text/plain": [
       "   item_id              title release_date  video_release_date  \\\n",
       "0        1   Toy Story (1995)  01-Jan-1995                 NaN   \n",
       "1        2   GoldenEye (1995)  01-Jan-1995                 NaN   \n",
       "2        3  Four Rooms (1995)  01-Jan-1995                 NaN   \n",
       "3        4  Get Shorty (1995)  01-Jan-1995                 NaN   \n",
       "4        5     Copycat (1995)  01-Jan-1995                 NaN   \n",
       "\n",
       "                                            imdb_url  \n",
       "0  http://us.imdb.com/M/title-exact?Toy%20Story%2...  \n",
       "1  http://us.imdb.com/M/title-exact?GoldenEye%20(...  \n",
       "2  http://us.imdb.com/M/title-exact?Four%20Rooms%...  \n",
       "3  http://us.imdb.com/M/title-exact?Get%20Shorty%...  \n",
       "4  http://us.imdb.com/M/title-exact?Copycat%20(1995)  "
      ]
     },
     "execution_count": 3,
     "metadata": {},
     "output_type": "execute_result"
    }
   ],
   "source": [
    "m_cols = ['item_id', 'title', 'release_date', 'video_release_date', 'imdb_url']\n",
    "items = pd.read_csv(op.join(ML_100K_FOLDER, 'u.item'), sep='|',\n",
    "                    names=m_cols, usecols=range(5), encoding='latin-1')\n",
    "items.head()"
   ]
  },
  {
   "cell_type": "markdown",
   "metadata": {},
   "source": [
    "Let's write a bit of Python preprocessing code to extract the release year as an integer value:"
   ]
  },
  {
   "cell_type": "code",
   "execution_count": 4,
   "metadata": {},
   "outputs": [
    {
     "data": {
      "image/png": "[encoded data removed]",
      "text/plain": [
       "<Figure size 640x480 with 1 Axes>"
      ]
     },
     "metadata": {},
     "output_type": "display_data"
    }
   ],
   "source": [
    "def extract_year(release_date):\n",
    "    if hasattr(release_date, 'split'):\n",
    "        components = release_date.split('-')\n",
    "        if len(components) == 3:\n",
    "            return int(components[2])\n",
    "    # Missing value marker\n",
    "    return 1920\n",
    "\n",
    "\n",
    "items['release_year'] = items['release_date'].map(extract_year)\n",
    "items.hist('release_year', bins=50);"
   ]
  },
  {
   "cell_type": "markdown",
   "metadata": {},
   "source": [
    "Enrich the raw ratings data with the collected items metadata:"
   ]
  },
  {
   "cell_type": "code",
   "execution_count": 5,
   "metadata": {},
   "outputs": [],
   "source": [
    "all_ratings = pd.merge(items, raw_ratings)"
   ]
  },
  {
   "cell_type": "code",
   "execution_count": 6,
   "metadata": {},
   "outputs": [
    {
     "data": {
      "text/html": [
       "<div>\n",
       "<style scoped>\n",
       "    .dataframe tbody tr th:only-of-type {\n",
       "        vertical-align: middle;\n",
       "    }\n",
       "\n",
       "    .dataframe tbody tr th {\n",
       "        vertical-align: top;\n",
       "    }\n",
       "\n",
       "    .dataframe thead th {\n",
       "        text-align: right;\n",
       "    }\n",
       "</style>\n",
       "<table border=\"1\" class=\"dataframe\">\n",
       "  <thead>\n",
       "    <tr style=\"text-align: right;\">\n",
       "      <th></th>\n",
       "      <th>item_id</th>\n",
       "      <th>title</th>\n",
       "      <th>release_date</th>\n",
       "      <th>video_release_date</th>\n",
       "      <th>imdb_url</th>\n",
       "      <th>release_year</th>\n",
       "      <th>user_id</th>\n",
       "      <th>rating</th>\n",
       "      <th>timestamp</th>\n",
       "    </tr>\n",
       "  </thead>\n",
       "  <tbody>\n",
       "    <tr>\n",
       "      <th>0</th>\n",
       "      <td>1</td>\n",
       "      <td>Toy Story (1995)</td>\n",
       "      <td>01-Jan-1995</td>\n",
       "      <td>NaN</td>\n",
       "      <td>http://us.imdb.com/M/title-exact?Toy%20Story%2...</td>\n",
       "      <td>1995</td>\n",
       "      <td>308</td>\n",
       "      <td>4</td>\n",
       "      <td>887736532</td>\n",
       "    </tr>\n",
       "    <tr>\n",
       "      <th>1</th>\n",
       "      <td>1</td>\n",
       "      <td>Toy Story (1995)</td>\n",
       "      <td>01-Jan-1995</td>\n",
       "      <td>NaN</td>\n",
       "      <td>http://us.imdb.com/M/title-exact?Toy%20Story%2...</td>\n",
       "      <td>1995</td>\n",
       "      <td>287</td>\n",
       "      <td>5</td>\n",
       "      <td>875334088</td>\n",
       "    </tr>\n",
       "    <tr>\n",
       "      <th>2</th>\n",
       "      <td>1</td>\n",
       "      <td>Toy Story (1995)</td>\n",
       "      <td>01-Jan-1995</td>\n",
       "      <td>NaN</td>\n",
       "      <td>http://us.imdb.com/M/title-exact?Toy%20Story%2...</td>\n",
       "      <td>1995</td>\n",
       "      <td>148</td>\n",
       "      <td>4</td>\n",
       "      <td>877019411</td>\n",
       "    </tr>\n",
       "    <tr>\n",
       "      <th>3</th>\n",
       "      <td>1</td>\n",
       "      <td>Toy Story (1995)</td>\n",
       "      <td>01-Jan-1995</td>\n",
       "      <td>NaN</td>\n",
       "      <td>http://us.imdb.com/M/title-exact?Toy%20Story%2...</td>\n",
       "      <td>1995</td>\n",
       "      <td>280</td>\n",
       "      <td>4</td>\n",
       "      <td>891700426</td>\n",
       "    </tr>\n",
       "    <tr>\n",
       "      <th>4</th>\n",
       "      <td>1</td>\n",
       "      <td>Toy Story (1995)</td>\n",
       "      <td>01-Jan-1995</td>\n",
       "      <td>NaN</td>\n",
       "      <td>http://us.imdb.com/M/title-exact?Toy%20Story%2...</td>\n",
       "      <td>1995</td>\n",
       "      <td>66</td>\n",
       "      <td>3</td>\n",
       "      <td>883601324</td>\n",
       "    </tr>\n",
       "  </tbody>\n",
       "</table>\n",
       "</div>"
      ],
      "text/plain": [
       "   item_id             title release_date  video_release_date  \\\n",
       "0        1  Toy Story (1995)  01-Jan-1995                 NaN   \n",
       "1        1  Toy Story (1995)  01-Jan-1995                 NaN   \n",
       "2        1  Toy Story (1995)  01-Jan-1995                 NaN   \n",
       "3        1  Toy Story (1995)  01-Jan-1995                 NaN   \n",
       "4        1  Toy Story (1995)  01-Jan-1995                 NaN   \n",
       "\n",
       "                                            imdb_url  release_year  user_id  \\\n",
       "0  http://us.imdb.com/M/title-exact?Toy%20Story%2...          1995      308   \n",
       "1  http://us.imdb.com/M/title-exact?Toy%20Story%2...          1995      287   \n",
       "2  http://us.imdb.com/M/title-exact?Toy%20Story%2...          1995      148   \n",
       "3  http://us.imdb.com/M/title-exact?Toy%20Story%2...          1995      280   \n",
       "4  http://us.imdb.com/M/title-exact?Toy%20Story%2...          1995       66   \n",
       "\n",
       "   rating  timestamp  \n",
       "0       4  887736532  \n",
       "1       5  875334088  \n",
       "2       4  877019411  \n",
       "3       4  891700426  \n",
       "4       3  883601324  "
      ]
     },
     "execution_count": 6,
     "metadata": {},
     "output_type": "execute_result"
    }
   ],
   "source": [
    "all_ratings.head()"
   ]
  },
  {
   "cell_type": "markdown",
   "metadata": {},
   "source": [
    "### Data preprocessing\n",
    "\n",
    "To understand well the distribution of the data, the following statistics are computed:\n",
    "- the number of users\n",
    "- the number of items\n",
    "- the rating distribution\n",
    "- the popularity of each movie"
   ]
  },
  {
   "cell_type": "code",
   "execution_count": 7,
   "metadata": {},
   "outputs": [
    {
     "data": {
      "text/plain": [
       "1"
      ]
     },
     "execution_count": 7,
     "metadata": {},
     "output_type": "execute_result"
    }
   ],
   "source": [
    "min_user_id = all_ratings['user_id'].min()\n",
    "min_user_id"
   ]
  },
  {
   "cell_type": "code",
   "execution_count": 8,
   "metadata": {},
   "outputs": [
    {
     "data": {
      "text/plain": [
       "943"
      ]
     },
     "execution_count": 8,
     "metadata": {},
     "output_type": "execute_result"
    }
   ],
   "source": [
    "max_user_id = all_ratings['user_id'].max()\n",
    "max_user_id"
   ]
  },
  {
   "cell_type": "code",
   "execution_count": 9,
   "metadata": {},
   "outputs": [
    {
     "data": {
      "text/plain": [
       "1"
      ]
     },
     "execution_count": 9,
     "metadata": {},
     "output_type": "execute_result"
    }
   ],
   "source": [
    "min_item_id = all_ratings['item_id'].min()\n",
    "min_item_id"
   ]
  },
  {
   "cell_type": "code",
   "execution_count": 10,
   "metadata": {},
   "outputs": [
    {
     "data": {
      "text/plain": [
       "1682"
      ]
     },
     "execution_count": 10,
     "metadata": {},
     "output_type": "execute_result"
    }
   ],
   "source": [
    "max_item_id = all_ratings['item_id'].max()\n",
    "max_item_id"
   ]
  },
  {
   "cell_type": "code",
   "execution_count": 11,
   "metadata": {},
   "outputs": [
    {
     "data": {
      "text/plain": [
       "count    100000.000000\n",
       "mean          3.529860\n",
       "std           1.125674\n",
       "min           1.000000\n",
       "25%           3.000000\n",
       "50%           4.000000\n",
       "75%           4.000000\n",
       "max           5.000000\n",
       "Name: rating, dtype: float64"
      ]
     },
     "execution_count": 11,
     "metadata": {},
     "output_type": "execute_result"
    }
   ],
   "source": [
    "all_ratings['rating'].describe()"
   ]
  },
  {
   "cell_type": "markdown",
   "metadata": {},
   "source": [
    "Let's do a bit more pandas magic compute the popularity of each movie (number of ratings):"
   ]
  },
  {
   "cell_type": "code",
   "execution_count": 12,
   "metadata": {},
   "outputs": [
    {
     "data": {
      "text/html": [
       "<div>\n",
       "<style scoped>\n",
       "    .dataframe tbody tr th:only-of-type {\n",
       "        vertical-align: middle;\n",
       "    }\n",
       "\n",
       "    .dataframe tbody tr th {\n",
       "        vertical-align: top;\n",
       "    }\n",
       "\n",
       "    .dataframe thead th {\n",
       "        text-align: right;\n",
       "    }\n",
       "</style>\n",
       "<table border=\"1\" class=\"dataframe\">\n",
       "  <thead>\n",
       "    <tr style=\"text-align: right;\">\n",
       "      <th></th>\n",
       "      <th>item_id</th>\n",
       "      <th>popularity</th>\n",
       "      <th>title</th>\n",
       "      <th>release_date</th>\n",
       "      <th>video_release_date</th>\n",
       "      <th>imdb_url</th>\n",
       "      <th>release_year</th>\n",
       "    </tr>\n",
       "  </thead>\n",
       "  <tbody>\n",
       "    <tr>\n",
       "      <th>49</th>\n",
       "      <td>50</td>\n",
       "      <td>583</td>\n",
       "      <td>Star Wars (1977)</td>\n",
       "      <td>01-Jan-1977</td>\n",
       "      <td>NaN</td>\n",
       "      <td>http://us.imdb.com/M/title-exact?Star%20Wars%2...</td>\n",
       "      <td>1977</td>\n",
       "    </tr>\n",
       "    <tr>\n",
       "      <th>257</th>\n",
       "      <td>258</td>\n",
       "      <td>509</td>\n",
       "      <td>Contact (1997)</td>\n",
       "      <td>11-Jul-1997</td>\n",
       "      <td>NaN</td>\n",
       "      <td>http://us.imdb.com/Title?Contact+(1997/I)</td>\n",
       "      <td>1997</td>\n",
       "    </tr>\n",
       "    <tr>\n",
       "      <th>99</th>\n",
       "      <td>100</td>\n",
       "      <td>508</td>\n",
       "      <td>Fargo (1996)</td>\n",
       "      <td>14-Feb-1997</td>\n",
       "      <td>NaN</td>\n",
       "      <td>http://us.imdb.com/M/title-exact?Fargo%20(1996)</td>\n",
       "      <td>1997</td>\n",
       "    </tr>\n",
       "    <tr>\n",
       "      <th>180</th>\n",
       "      <td>181</td>\n",
       "      <td>507</td>\n",
       "      <td>Return of the Jedi (1983)</td>\n",
       "      <td>14-Mar-1997</td>\n",
       "      <td>NaN</td>\n",
       "      <td>http://us.imdb.com/M/title-exact?Return%20of%2...</td>\n",
       "      <td>1997</td>\n",
       "    </tr>\n",
       "    <tr>\n",
       "      <th>293</th>\n",
       "      <td>294</td>\n",
       "      <td>485</td>\n",
       "      <td>Liar Liar (1997)</td>\n",
       "      <td>21-Mar-1997</td>\n",
       "      <td>NaN</td>\n",
       "      <td>http://us.imdb.com/Title?Liar+Liar+(1997)</td>\n",
       "      <td>1997</td>\n",
       "    </tr>\n",
       "    <tr>\n",
       "      <th>285</th>\n",
       "      <td>286</td>\n",
       "      <td>481</td>\n",
       "      <td>English Patient, The (1996)</td>\n",
       "      <td>15-Nov-1996</td>\n",
       "      <td>NaN</td>\n",
       "      <td>http://us.imdb.com/M/title-exact?English%20Pat...</td>\n",
       "      <td>1996</td>\n",
       "    </tr>\n",
       "    <tr>\n",
       "      <th>287</th>\n",
       "      <td>288</td>\n",
       "      <td>478</td>\n",
       "      <td>Scream (1996)</td>\n",
       "      <td>20-Dec-1996</td>\n",
       "      <td>NaN</td>\n",
       "      <td>http://us.imdb.com/M/title-exact?Scream%20(1996)</td>\n",
       "      <td>1996</td>\n",
       "    </tr>\n",
       "    <tr>\n",
       "      <th>0</th>\n",
       "      <td>1</td>\n",
       "      <td>452</td>\n",
       "      <td>Toy Story (1995)</td>\n",
       "      <td>01-Jan-1995</td>\n",
       "      <td>NaN</td>\n",
       "      <td>http://us.imdb.com/M/title-exact?Toy%20Story%2...</td>\n",
       "      <td>1995</td>\n",
       "    </tr>\n",
       "    <tr>\n",
       "      <th>299</th>\n",
       "      <td>300</td>\n",
       "      <td>431</td>\n",
       "      <td>Air Force One (1997)</td>\n",
       "      <td>01-Jan-1997</td>\n",
       "      <td>NaN</td>\n",
       "      <td>http://us.imdb.com/M/title-exact?Air+Force+One...</td>\n",
       "      <td>1997</td>\n",
       "    </tr>\n",
       "    <tr>\n",
       "      <th>120</th>\n",
       "      <td>121</td>\n",
       "      <td>429</td>\n",
       "      <td>Independence Day (ID4) (1996)</td>\n",
       "      <td>03-Jul-1996</td>\n",
       "      <td>NaN</td>\n",
       "      <td>http://us.imdb.com/M/title-exact?Independence%...</td>\n",
       "      <td>1996</td>\n",
       "    </tr>\n",
       "  </tbody>\n",
       "</table>\n",
       "</div>"
      ],
      "text/plain": [
       "     item_id  popularity                          title release_date  \\\n",
       "49        50         583               Star Wars (1977)  01-Jan-1977   \n",
       "257      258         509                 Contact (1997)  11-Jul-1997   \n",
       "99       100         508                   Fargo (1996)  14-Feb-1997   \n",
       "180      181         507      Return of the Jedi (1983)  14-Mar-1997   \n",
       "293      294         485               Liar Liar (1997)  21-Mar-1997   \n",
       "285      286         481    English Patient, The (1996)  15-Nov-1996   \n",
       "287      288         478                  Scream (1996)  20-Dec-1996   \n",
       "0          1         452               Toy Story (1995)  01-Jan-1995   \n",
       "299      300         431           Air Force One (1997)  01-Jan-1997   \n",
       "120      121         429  Independence Day (ID4) (1996)  03-Jul-1996   \n",
       "\n",
       "     video_release_date                                           imdb_url  \\\n",
       "49                  NaN  http://us.imdb.com/M/title-exact?Star%20Wars%2...   \n",
       "257                 NaN          http://us.imdb.com/Title?Contact+(1997/I)   \n",
       "99                  NaN    http://us.imdb.com/M/title-exact?Fargo%20(1996)   \n",
       "180                 NaN  http://us.imdb.com/M/title-exact?Return%20of%2...   \n",
       "293                 NaN          http://us.imdb.com/Title?Liar+Liar+(1997)   \n",
       "285                 NaN  http://us.imdb.com/M/title-exact?English%20Pat...   \n",
       "287                 NaN   http://us.imdb.com/M/title-exact?Scream%20(1996)   \n",
       "0                   NaN  http://us.imdb.com/M/title-exact?Toy%20Story%2...   \n",
       "299                 NaN  http://us.imdb.com/M/title-exact?Air+Force+One...   \n",
       "120                 NaN  http://us.imdb.com/M/title-exact?Independence%...   \n",
       "\n",
       "     release_year  \n",
       "49           1977  \n",
       "257          1997  \n",
       "99           1997  \n",
       "180          1997  \n",
       "293          1997  \n",
       "285          1996  \n",
       "287          1996  \n",
       "0            1995  \n",
       "299          1997  \n",
       "120          1996  "
      ]
     },
     "execution_count": 12,
     "metadata": {},
     "output_type": "execute_result"
    }
   ],
   "source": [
    "popularity = all_ratings.groupby('item_id').size().reset_index(name='popularity')\n",
    "items = pd.merge(popularity, items)\n",
    "items.nlargest(10, 'popularity')"
   ]
  },
  {
   "cell_type": "code",
   "execution_count": 13,
   "metadata": {},
   "outputs": [
    {
     "data": {
      "text/plain": [
       "'GoodFellas (1990)'"
      ]
     },
     "execution_count": 13,
     "metadata": {},
     "output_type": "execute_result"
    }
   ],
   "source": [
    "items[\"title\"][181]"
   ]
  },
  {
   "cell_type": "code",
   "execution_count": 14,
   "metadata": {},
   "outputs": [
    {
     "data": {
      "text/plain": [
       "'Return of the Jedi (1983)'"
      ]
     },
     "execution_count": 14,
     "metadata": {},
     "output_type": "execute_result"
    }
   ],
   "source": [
    "indexed_items = items.set_index('item_id')\n",
    "indexed_items[\"title\"][181]"
   ]
  },
  {
   "cell_type": "code",
   "execution_count": 15,
   "metadata": {},
   "outputs": [
    {
     "data": {
      "text/html": [
       "<div>\n",
       "<style scoped>\n",
       "    .dataframe tbody tr th:only-of-type {\n",
       "        vertical-align: middle;\n",
       "    }\n",
       "\n",
       "    .dataframe tbody tr th {\n",
       "        vertical-align: top;\n",
       "    }\n",
       "\n",
       "    .dataframe thead th {\n",
       "        text-align: right;\n",
       "    }\n",
       "</style>\n",
       "<table border=\"1\" class=\"dataframe\">\n",
       "  <thead>\n",
       "    <tr style=\"text-align: right;\">\n",
       "      <th></th>\n",
       "      <th>item_id</th>\n",
       "      <th>popularity</th>\n",
       "      <th>video_release_date</th>\n",
       "      <th>release_year</th>\n",
       "      <th>user_id</th>\n",
       "      <th>rating</th>\n",
       "      <th>timestamp</th>\n",
       "    </tr>\n",
       "  </thead>\n",
       "  <tbody>\n",
       "    <tr>\n",
       "      <th>count</th>\n",
       "      <td>100000.000000</td>\n",
       "      <td>100000.000000</td>\n",
       "      <td>0.0</td>\n",
       "      <td>100000.000000</td>\n",
       "      <td>100000.00000</td>\n",
       "      <td>100000.000000</td>\n",
       "      <td>1.000000e+05</td>\n",
       "    </tr>\n",
       "    <tr>\n",
       "      <th>mean</th>\n",
       "      <td>425.530130</td>\n",
       "      <td>168.071900</td>\n",
       "      <td>NaN</td>\n",
       "      <td>1987.950100</td>\n",
       "      <td>462.48475</td>\n",
       "      <td>3.529860</td>\n",
       "      <td>8.835289e+08</td>\n",
       "    </tr>\n",
       "    <tr>\n",
       "      <th>std</th>\n",
       "      <td>330.798356</td>\n",
       "      <td>121.784558</td>\n",
       "      <td>NaN</td>\n",
       "      <td>14.169558</td>\n",
       "      <td>266.61442</td>\n",
       "      <td>1.125674</td>\n",
       "      <td>5.343856e+06</td>\n",
       "    </tr>\n",
       "    <tr>\n",
       "      <th>min</th>\n",
       "      <td>1.000000</td>\n",
       "      <td>1.000000</td>\n",
       "      <td>NaN</td>\n",
       "      <td>1920.000000</td>\n",
       "      <td>1.00000</td>\n",
       "      <td>1.000000</td>\n",
       "      <td>8.747247e+08</td>\n",
       "    </tr>\n",
       "    <tr>\n",
       "      <th>25%</th>\n",
       "      <td>175.000000</td>\n",
       "      <td>71.000000</td>\n",
       "      <td>NaN</td>\n",
       "      <td>1986.000000</td>\n",
       "      <td>254.00000</td>\n",
       "      <td>3.000000</td>\n",
       "      <td>8.794487e+08</td>\n",
       "    </tr>\n",
       "    <tr>\n",
       "      <th>50%</th>\n",
       "      <td>322.000000</td>\n",
       "      <td>145.000000</td>\n",
       "      <td>NaN</td>\n",
       "      <td>1994.000000</td>\n",
       "      <td>447.00000</td>\n",
       "      <td>4.000000</td>\n",
       "      <td>8.828269e+08</td>\n",
       "    </tr>\n",
       "    <tr>\n",
       "      <th>75%</th>\n",
       "      <td>631.000000</td>\n",
       "      <td>239.000000</td>\n",
       "      <td>NaN</td>\n",
       "      <td>1996.000000</td>\n",
       "      <td>682.00000</td>\n",
       "      <td>4.000000</td>\n",
       "      <td>8.882600e+08</td>\n",
       "    </tr>\n",
       "    <tr>\n",
       "      <th>max</th>\n",
       "      <td>1682.000000</td>\n",
       "      <td>583.000000</td>\n",
       "      <td>NaN</td>\n",
       "      <td>1998.000000</td>\n",
       "      <td>943.00000</td>\n",
       "      <td>5.000000</td>\n",
       "      <td>8.932866e+08</td>\n",
       "    </tr>\n",
       "  </tbody>\n",
       "</table>\n",
       "</div>"
      ],
      "text/plain": [
       "             item_id     popularity  video_release_date   release_year  \\\n",
       "count  100000.000000  100000.000000                 0.0  100000.000000   \n",
       "mean      425.530130     168.071900                 NaN    1987.950100   \n",
       "std       330.798356     121.784558                 NaN      14.169558   \n",
       "min         1.000000       1.000000                 NaN    1920.000000   \n",
       "25%       175.000000      71.000000                 NaN    1986.000000   \n",
       "50%       322.000000     145.000000                 NaN    1994.000000   \n",
       "75%       631.000000     239.000000                 NaN    1996.000000   \n",
       "max      1682.000000     583.000000                 NaN    1998.000000   \n",
       "\n",
       "            user_id         rating     timestamp  \n",
       "count  100000.00000  100000.000000  1.000000e+05  \n",
       "mean      462.48475       3.529860  8.835289e+08  \n",
       "std       266.61442       1.125674  5.343856e+06  \n",
       "min         1.00000       1.000000  8.747247e+08  \n",
       "25%       254.00000       3.000000  8.794487e+08  \n",
       "50%       447.00000       4.000000  8.828269e+08  \n",
       "75%       682.00000       4.000000  8.882600e+08  \n",
       "max       943.00000       5.000000  8.932866e+08  "
      ]
     },
     "execution_count": 15,
     "metadata": {},
     "output_type": "execute_result"
    }
   ],
   "source": [
    "all_ratings = pd.merge(popularity, all_ratings)\n",
    "all_ratings.describe()"
   ]
  },
  {
   "cell_type": "code",
   "execution_count": 16,
   "metadata": {},
   "outputs": [
    {
     "data": {
      "text/html": [
       "<div>\n",
       "<style scoped>\n",
       "    .dataframe tbody tr th:only-of-type {\n",
       "        vertical-align: middle;\n",
       "    }\n",
       "\n",
       "    .dataframe tbody tr th {\n",
       "        vertical-align: top;\n",
       "    }\n",
       "\n",
       "    .dataframe thead th {\n",
       "        text-align: right;\n",
       "    }\n",
       "</style>\n",
       "<table border=\"1\" class=\"dataframe\">\n",
       "  <thead>\n",
       "    <tr style=\"text-align: right;\">\n",
       "      <th></th>\n",
       "      <th>item_id</th>\n",
       "      <th>popularity</th>\n",
       "      <th>title</th>\n",
       "      <th>release_date</th>\n",
       "      <th>video_release_date</th>\n",
       "      <th>imdb_url</th>\n",
       "      <th>release_year</th>\n",
       "      <th>user_id</th>\n",
       "      <th>rating</th>\n",
       "      <th>timestamp</th>\n",
       "    </tr>\n",
       "  </thead>\n",
       "  <tbody>\n",
       "    <tr>\n",
       "      <th>0</th>\n",
       "      <td>1</td>\n",
       "      <td>452</td>\n",
       "      <td>Toy Story (1995)</td>\n",
       "      <td>01-Jan-1995</td>\n",
       "      <td>NaN</td>\n",
       "      <td>http://us.imdb.com/M/title-exact?Toy%20Story%2...</td>\n",
       "      <td>1995</td>\n",
       "      <td>308</td>\n",
       "      <td>4</td>\n",
       "      <td>887736532</td>\n",
       "    </tr>\n",
       "    <tr>\n",
       "      <th>1</th>\n",
       "      <td>1</td>\n",
       "      <td>452</td>\n",
       "      <td>Toy Story (1995)</td>\n",
       "      <td>01-Jan-1995</td>\n",
       "      <td>NaN</td>\n",
       "      <td>http://us.imdb.com/M/title-exact?Toy%20Story%2...</td>\n",
       "      <td>1995</td>\n",
       "      <td>287</td>\n",
       "      <td>5</td>\n",
       "      <td>875334088</td>\n",
       "    </tr>\n",
       "    <tr>\n",
       "      <th>2</th>\n",
       "      <td>1</td>\n",
       "      <td>452</td>\n",
       "      <td>Toy Story (1995)</td>\n",
       "      <td>01-Jan-1995</td>\n",
       "      <td>NaN</td>\n",
       "      <td>http://us.imdb.com/M/title-exact?Toy%20Story%2...</td>\n",
       "      <td>1995</td>\n",
       "      <td>148</td>\n",
       "      <td>4</td>\n",
       "      <td>877019411</td>\n",
       "    </tr>\n",
       "    <tr>\n",
       "      <th>3</th>\n",
       "      <td>1</td>\n",
       "      <td>452</td>\n",
       "      <td>Toy Story (1995)</td>\n",
       "      <td>01-Jan-1995</td>\n",
       "      <td>NaN</td>\n",
       "      <td>http://us.imdb.com/M/title-exact?Toy%20Story%2...</td>\n",
       "      <td>1995</td>\n",
       "      <td>280</td>\n",
       "      <td>4</td>\n",
       "      <td>891700426</td>\n",
       "    </tr>\n",
       "    <tr>\n",
       "      <th>4</th>\n",
       "      <td>1</td>\n",
       "      <td>452</td>\n",
       "      <td>Toy Story (1995)</td>\n",
       "      <td>01-Jan-1995</td>\n",
       "      <td>NaN</td>\n",
       "      <td>http://us.imdb.com/M/title-exact?Toy%20Story%2...</td>\n",
       "      <td>1995</td>\n",
       "      <td>66</td>\n",
       "      <td>3</td>\n",
       "      <td>883601324</td>\n",
       "    </tr>\n",
       "  </tbody>\n",
       "</table>\n",
       "</div>"
      ],
      "text/plain": [
       "   item_id  popularity             title release_date  video_release_date  \\\n",
       "0        1         452  Toy Story (1995)  01-Jan-1995                 NaN   \n",
       "1        1         452  Toy Story (1995)  01-Jan-1995                 NaN   \n",
       "2        1         452  Toy Story (1995)  01-Jan-1995                 NaN   \n",
       "3        1         452  Toy Story (1995)  01-Jan-1995                 NaN   \n",
       "4        1         452  Toy Story (1995)  01-Jan-1995                 NaN   \n",
       "\n",
       "                                            imdb_url  release_year  user_id  \\\n",
       "0  http://us.imdb.com/M/title-exact?Toy%20Story%2...          1995      308   \n",
       "1  http://us.imdb.com/M/title-exact?Toy%20Story%2...          1995      287   \n",
       "2  http://us.imdb.com/M/title-exact?Toy%20Story%2...          1995      148   \n",
       "3  http://us.imdb.com/M/title-exact?Toy%20Story%2...          1995      280   \n",
       "4  http://us.imdb.com/M/title-exact?Toy%20Story%2...          1995       66   \n",
       "\n",
       "   rating  timestamp  \n",
       "0       4  887736532  \n",
       "1       5  875334088  \n",
       "2       4  877019411  \n",
       "3       4  891700426  \n",
       "4       3  883601324  "
      ]
     },
     "execution_count": 16,
     "metadata": {},
     "output_type": "execute_result"
    }
   ],
   "source": [
    "all_ratings.head()"
   ]
  },
  {
   "cell_type": "markdown",
   "metadata": {},
   "source": [
    "Later in the analysis we will assume that this popularity does not come from the ratings themselves but from an external metadata, e.g. box office numbers in the month after the release in movie theaters.\n",
    "\n",
    "Let's split the enriched data in a train / test split to make it possible to do predictive modeling:"
   ]
  },
  {
   "cell_type": "code",
   "execution_count": 17,
   "metadata": {},
   "outputs": [],
   "source": [
    "from sklearn.model_selection import train_test_split\n",
    "\n",
    "ratings_train, ratings_test = train_test_split(\n",
    "    all_ratings, test_size=0.2, random_state=0)\n",
    "\n",
    "user_id_train = np.array(ratings_train['user_id'])\n",
    "item_id_train = np.array(ratings_train['item_id'])\n",
    "rating_train = np.array(ratings_train['rating'])\n",
    "\n",
    "user_id_test = np.array(ratings_test['user_id'])\n",
    "item_id_test = np.array(ratings_test['item_id'])\n",
    "rating_test = np.array(ratings_test['rating'])"
   ]
  },
  {
   "cell_type": "markdown",
   "metadata": {},
   "source": [
    "# Explicit feedback: supervised ratings prediction\n",
    "\n",
    "For each pair of (user, item) try to predict the rating the user would give to the item.\n",
    "\n",
    "This is the classical setup for building recommender systems from offline data with explicit supervision signal. "
   ]
  },
  {
   "cell_type": "markdown",
   "metadata": {},
   "source": [
    "## Predictive ratings  as a regression problem\n",
    "\n",
    "The following code implements the following architecture:\n",
    "\n",
    "<img src=\"images/rec_archi_1.svg\" style=\"width: 600px;\" />"
   ]
  },
  {
   "cell_type": "code",
   "execution_count": 18,
   "metadata": {},
   "outputs": [],
   "source": [
    "from tensorflow.keras.layers import Embedding, Flatten, Dense, Dropout\n",
    "from tensorflow.keras.layers import Dot\n",
    "from tensorflow.keras.models import Model"
   ]
  },
  {
   "cell_type": "code",
   "execution_count": 19,
   "metadata": {},
   "outputs": [],
   "source": [
    "# For each sample we input the integer identifiers\n",
    "# of a single user and a single item\n",
    "class RegressionModel(Model):\n",
    "    def __init__(self, embedding_size, max_user_id, max_item_id):\n",
    "        super().__init__()\n",
    "        \n",
    "        self.user_embedding = Embedding(output_dim=embedding_size,\n",
    "                                        input_dim=max_user_id + 1,\n",
    "                                        input_length=1,\n",
    "                                        name='user_embedding')\n",
    "        self.item_embedding = Embedding(output_dim=embedding_size,\n",
    "                                        input_dim=max_item_id + 1,\n",
    "                                        input_length=1,\n",
    "                                        name='item_embedding')\n",
    "        \n",
    "        # The following two layers don't have parameters.\n",
    "        self.flatten = Flatten()\n",
    "        self.dot = Dot(axes=1)\n",
    "        \n",
    "    def call(self, inputs):\n",
    "        user_inputs = inputs[0]\n",
    "        item_inputs = inputs[1]\n",
    "        \n",
    "        user_vecs = self.flatten(self.user_embedding(user_inputs))\n",
    "        item_vecs = self.flatten(self.item_embedding(item_inputs))\n",
    "        \n",
    "        y = self.dot([user_vecs, item_vecs])\n",
    "        return y\n",
    "\n",
    "\n",
    "model = RegressionModel(64, max_user_id, max_item_id)\n",
    "model.compile(optimizer=\"adam\", loss='mae')"
   ]
  },
  {
   "cell_type": "code",
   "execution_count": 20,
   "metadata": {},
   "outputs": [
    {
     "name": "stdout",
     "output_type": "stream",
     "text": [
      " 425/2500 [====>.........................] - ETA: 0s"
     ]
    },
    {
     "name": "stderr",
     "output_type": "stream",
     "text": [
      "2023-03-08 09:19:23.471460: W tensorflow/tsl/platform/profile_utils/cpu_utils.cc:128] Failed to get CPU frequency: 0 Hz\n"
     ]
    },
    {
     "name": "stdout",
     "output_type": "stream",
     "text": [
      "2500/2500 [==============================] - 1s 231us/step\n"
     ]
    },
    {
     "data": {
      "text/plain": [
       "(80000, 1)"
      ]
     },
     "execution_count": 20,
     "metadata": {},
     "output_type": "execute_result"
    }
   ],
   "source": [
    "# Useful for debugging the output shape of model\n",
    "initial_train_preds = model.predict([user_id_train, item_id_train])\n",
    "initial_train_preds.shape"
   ]
  },
  {
   "cell_type": "markdown",
   "metadata": {},
   "source": [
    "### Model error\n",
    "\n",
    "Using `initial_train_preds`, compute the model errors:\n",
    "- mean absolute error\n",
    "- mean squared error\n",
    "\n",
    "Converting a pandas Series to numpy array is usually implicit, but you may use `rating_train.values` to do so explicitly. Be sure to monitor the shapes of each object you deal with by using `object.shape`."
   ]
  },
  {
   "cell_type": "code",
   "execution_count": 21,
   "metadata": {},
   "outputs": [
    {
     "name": "stdout",
     "output_type": "stream",
     "text": [
      "Random init MSE: 13.720\n",
      "Random init MAE: 3.529\n",
      "Random init MSE: 13.720\n",
      "Random init MAE: 3.529\n"
     ]
    }
   ],
   "source": [
    "# %load solutions/compute_errors.py\n",
    "squared_differences = np.square(initial_train_preds[:,0] - rating_train)\n",
    "absolute_differences = np.abs(initial_train_preds[:,0] - rating_train)\n",
    "\n",
    "print(\"Random init MSE: %0.3f\" % np.mean(squared_differences))\n",
    "print(\"Random init MAE: %0.3f\" % np.mean(absolute_differences))\n",
    "\n",
    "# You may also use sklearn metrics to do so using scikit-learn:\n",
    "\n",
    "from sklearn.metrics import mean_absolute_error, mean_squared_error\n",
    "\n",
    "print(\"Random init MSE: %0.3f\" % mean_squared_error(initial_train_preds, rating_train))\n",
    "print(\"Random init MAE: %0.3f\" % mean_absolute_error(initial_train_preds, rating_train))\n"
   ]
  },
  {
   "cell_type": "code",
   "execution_count": 22,
   "metadata": {},
   "outputs": [
    {
     "name": "stdout",
     "output_type": "stream",
     "text": [
      "RMSE: 3.7039953794064218 MAE: 3.5285847860069786\n"
     ]
    }
   ],
   "source": [
    "from sklearn.metrics import mean_squared_error, mean_absolute_error\n",
    "\n",
    "#RMSE\n",
    "print(\"RMSE:\" ,mean_squared_error(rating_train, initial_train_preds, squared=False), \"MAE:\",\n",
    "#MAE\n",
    "mean_absolute_error(rating_train, initial_train_preds))"
   ]
  },
  {
   "cell_type": "markdown",
   "metadata": {},
   "source": [
    "### Monitoring runs\n",
    "\n",
    "Keras enables to monitor various variables during training. \n",
    "\n",
    "`history.history` returned by the `model.fit` function is a dictionary\n",
    "containing the `'loss'` and validation loss `'val_loss'` after each epoch"
   ]
  },
  {
   "cell_type": "code",
   "execution_count": 23,
   "metadata": {},
   "outputs": [
    {
     "name": "stdout",
     "output_type": "stream",
     "text": [
      "Epoch 1/10\n",
      "1125/1125 [==============================] - 1s 765us/step - loss: 2.6335 - val_loss: 1.0385\n",
      "Epoch 2/10\n",
      "1125/1125 [==============================] - 1s 710us/step - loss: 0.8474 - val_loss: 0.7984\n",
      "Epoch 3/10\n",
      "1125/1125 [==============================] - 1s 713us/step - loss: 0.7560 - val_loss: 0.7676\n",
      "Epoch 4/10\n",
      "1125/1125 [==============================] - 1s 704us/step - loss: 0.7318 - val_loss: 0.7571\n",
      "Epoch 5/10\n",
      "1125/1125 [==============================] - 1s 700us/step - loss: 0.7119 - val_loss: 0.7516\n",
      "Epoch 6/10\n",
      "1125/1125 [==============================] - 1s 711us/step - loss: 0.6917 - val_loss: 0.7442\n",
      "Epoch 7/10\n",
      "1125/1125 [==============================] - 1s 707us/step - loss: 0.6717 - val_loss: 0.7373\n",
      "Epoch 8/10\n",
      "1125/1125 [==============================] - 1s 730us/step - loss: 0.6519 - val_loss: 0.7394\n",
      "Epoch 9/10\n",
      "1125/1125 [==============================] - 1s 697us/step - loss: 0.6297 - val_loss: 0.7392\n",
      "Epoch 10/10\n",
      "1125/1125 [==============================] - 1s 704us/step - loss: 0.6068 - val_loss: 0.7401\n",
      "CPU times: user 10.8 s, sys: 3.19 s, total: 14 s\n",
      "Wall time: 8.35 s\n"
     ]
    }
   ],
   "source": [
    "%%time\n",
    "\n",
    "# Training the model\n",
    "history = model.fit([user_id_train, item_id_train], rating_train,\n",
    "                    batch_size=64, epochs=10, validation_split=0.1,\n",
    "                    shuffle=True)"
   ]
  },
  {
   "cell_type": "code",
   "execution_count": 24,
   "metadata": {},
   "outputs": [
    {
     "data": {
      "image/png": "[encoded data removed]",
      "text/plain": [
       "<Figure size 640x480 with 1 Axes>"
      ]
     },
     "metadata": {},
     "output_type": "display_data"
    }
   ],
   "source": [
    "plt.plot(history.history['loss'], label='train')\n",
    "plt.plot(history.history['val_loss'], label='validation')\n",
    "plt.ylim(0, 2)\n",
    "plt.legend(loc='best')\n",
    "plt.title('Loss');\n",
    "\n",
    "#On overfit un peu car la loss de validation augmente légèrement vers la fin"
   ]
  },
  {
   "cell_type": "markdown",
   "metadata": {},
   "source": [
    "**Questions**:\n",
    "\n",
    "- Why is the train loss higher than the first loss in the first few epochs?\n",
    "- Why is Keras not computing the train loss on the full training set at the end of each epoch as it does on the validation set?\n",
    "\n",
    "\n",
    "Now that the model is trained, the model MSE and MAE look nicer:"
   ]
  },
  {
   "cell_type": "code",
   "execution_count": 25,
   "metadata": {},
   "outputs": [],
   "source": [
    "def plot_predictions(y_true, y_pred):\n",
    "    plt.figure(figsize=(4, 4))\n",
    "    plt.xlim(-1, 6)\n",
    "    plt.xlabel(\"True rating\")\n",
    "    plt.ylim(-1, 6)\n",
    "    plt.ylabel(\"Predicted rating\")\n",
    "    plt.scatter(y_true, y_pred, s=60, alpha=0.01)"
   ]
  },
  {
   "cell_type": "code",
   "execution_count": 26,
   "metadata": {},
   "outputs": [
    {
     "name": "stdout",
     "output_type": "stream",
     "text": [
      "625/625 [==============================] - 0s 265us/step\n",
      "Final test MSE: 0.902\n",
      "Final test MAE: 0.733\n"
     ]
    },
    {
     "data": {
      "image/png": "[encoded data removed]",
      "text/plain": [
       "<Figure size 400x400 with 1 Axes>"
      ]
     },
     "metadata": {},
     "output_type": "display_data"
    }
   ],
   "source": [
    "from sklearn.metrics import mean_squared_error\n",
    "from sklearn.metrics import mean_absolute_error\n",
    "\n",
    "test_preds = model.predict([user_id_test, item_id_test])\n",
    "print(\"Final test MSE: %0.3f\" % mean_squared_error(test_preds, rating_test))\n",
    "print(\"Final test MAE: %0.3f\" % mean_absolute_error(test_preds, rating_test))\n",
    "plot_predictions(rating_test, test_preds)"
   ]
  },
  {
   "cell_type": "code",
   "execution_count": 27,
   "metadata": {},
   "outputs": [
    {
     "name": "stdout",
     "output_type": "stream",
     "text": [
      "2500/2500 [==============================] - 1s 247us/step\n",
      "Final train MSE: 0.645\n",
      "Final train MAE: 0.589\n"
     ]
    },
    {
     "data": {
      "image/png": "[encoded data removed]",
      "text/plain": [
       "<Figure size 400x400 with 1 Axes>"
      ]
     },
     "metadata": {},
     "output_type": "display_data"
    }
   ],
   "source": [
    "train_preds = model.predict([user_id_train, item_id_train])\n",
    "print(\"Final train MSE: %0.3f\" % mean_squared_error(train_preds, rating_train))\n",
    "print(\"Final train MAE: %0.3f\" % mean_absolute_error(train_preds, rating_train))\n",
    "plot_predictions(rating_train, train_preds)"
   ]
  },
  {
   "cell_type": "markdown",
   "metadata": {},
   "source": [
    "### Model Embeddings\n",
    "\n",
    "- It is possible to retrieve the embeddings by simply using the Keras function `model.get_weights` which returns all the model learnable parameters.\n",
    "- The weights are returned the same order as they were build in the model\n",
    "- What is the total number of parameters?"
   ]
  },
  {
   "cell_type": "code",
   "execution_count": 28,
   "metadata": {},
   "outputs": [
    {
     "data": {
      "text/plain": [
       "[(944, 64), (1683, 64)]"
      ]
     },
     "execution_count": 28,
     "metadata": {},
     "output_type": "execute_result"
    }
   ],
   "source": [
    "# weights and shape\n",
    "weights = model.get_weights()\n",
    "[w.shape for w in weights]"
   ]
  },
  {
   "cell_type": "code",
   "execution_count": 29,
   "metadata": {},
   "outputs": [
    {
     "name": "stdout",
     "output_type": "stream",
     "text": [
      "Model: \"regression_model\"\n",
      "_________________________________________________________________\n",
      " Layer (type)                Output Shape              Param #   \n",
      "=================================================================\n",
      " user_embedding (Embedding)  multiple                  60416     \n",
      "                                                                 \n",
      " item_embedding (Embedding)  multiple                  107712    \n",
      "                                                                 \n",
      " flatten (Flatten)           multiple                  0         \n",
      "                                                                 \n",
      " dot (Dot)                   multiple                  0         \n",
      "                                                                 \n",
      "=================================================================\n",
      "Total params: 168,128\n",
      "Trainable params: 168,128\n",
      "Non-trainable params: 0\n",
      "_________________________________________________________________\n"
     ]
    }
   ],
   "source": [
    "# Solution: \n",
    "model.summary()"
   ]
  },
  {
   "cell_type": "code",
   "execution_count": 30,
   "metadata": {},
   "outputs": [],
   "source": [
    "user_embeddings = weights[0]\n",
    "item_embeddings = weights[1]"
   ]
  },
  {
   "cell_type": "code",
   "execution_count": 31,
   "metadata": {},
   "outputs": [
    {
     "name": "stdout",
     "output_type": "stream",
     "text": [
      "Title for item_id=181: Return of the Jedi (1983)\n"
     ]
    }
   ],
   "source": [
    "item_id = 181\n",
    "print(f\"Title for item_id={item_id}: {indexed_items['title'][item_id]}\")"
   ]
  },
  {
   "cell_type": "code",
   "execution_count": 32,
   "metadata": {},
   "outputs": [
    {
     "name": "stdout",
     "output_type": "stream",
     "text": [
      "Embedding vector for item_id=181\n",
      "[-0.39485824  0.32563376 -0.29551324 -0.40069237  0.17436159 -0.25452808\n",
      " -0.44204012 -0.13362114 -0.2978691   0.7822367  -0.499165    0.19185707\n",
      " -0.25652105  0.4602492  -0.08938773 -0.42173243 -0.2204116   0.21450189\n",
      " -0.37357268  0.01277706  0.33918256 -0.43159267 -0.26067966  0.19311114\n",
      " -0.25048563  0.16186634  0.13585413  0.4127813   0.27470374  0.01249286\n",
      "  0.24262072  0.36609548  0.26226687 -0.19558117 -0.53307986 -0.08979051\n",
      "  0.43517506 -0.46157604  0.3792197   0.07476348  0.43120986  0.37871066\n",
      "  0.2576772  -0.12844446 -0.3084602  -0.07810748 -0.2063091   0.35292524\n",
      " -0.30326045  0.6917079  -0.03485937  0.3022859   0.40190825  0.337822\n",
      "  0.20739806  0.24268334  0.08240294 -0.1815493   0.43865296  0.30917355\n",
      " -0.45117247  0.06248526  0.32120588 -0.11138304]\n",
      "shape: (64,)\n"
     ]
    }
   ],
   "source": [
    "print(f\"Embedding vector for item_id={item_id}\")\n",
    "print(item_embeddings[item_id])\n",
    "print(\"shape:\", item_embeddings[item_id].shape)"
   ]
  },
  {
   "cell_type": "markdown",
   "metadata": {},
   "source": [
    "### Finding most similar items\n",
    "\n",
    "Finding k most similar items to a point in embedding space\n",
    "\n",
    "- Write in numpy a function to compute the cosine similarity between two points in embedding space.\n",
    "- Test it on the following cells to check the similarities between popular movies.\n",
    "- Bonus: try to generalize the function to compute the similarities between one movie and all the others and return the most related movies.\n",
    "\n",
    "Notes:\n",
    "- you may use `np.linalg.norm` to compute the norm of vector, and you may specify the `axis=`\n",
    "- the numpy function `np.argsort(...)` enables to compute the sorted indices of a vector\n",
    "- `items[\"name\"][idxs]` returns the names of the items indexed by array idxs"
   ]
  },
  {
   "cell_type": "code",
   "execution_count": 33,
   "metadata": {},
   "outputs": [],
   "source": [
    "EPSILON = 1e-07  # to avoid division by 0.\n",
    "\n",
    "\n",
    "def cosine(x, y):\n",
    "    cosine = np.dot(x, y.T) / ((np.linalg.norm(x) * np.linalg.norm(y)) + EPSILON)\n",
    "    return cosine"
   ]
  },
  {
   "cell_type": "code",
   "execution_count": 34,
   "metadata": {},
   "outputs": [],
   "source": [
    "# %load solutions/similarity.py\n",
    "EPSILON = 1e-07\n",
    "\n",
    "\n",
    "def cosine(x, y):\n",
    "    dot_products = np.dot(x, y.T)\n",
    "    norm_products = np.linalg.norm(x) * np.linalg.norm(y)\n",
    "    return dot_products / (norm_products + EPSILON)\n"
   ]
  },
  {
   "cell_type": "code",
   "execution_count": 35,
   "metadata": {},
   "outputs": [
    {
     "name": "stdout",
     "output_type": "stream",
     "text": [
      "Star Wars (1977)\n",
      "Return of the Jedi (1983)\n",
      "Cosine similarity: 0.932\n"
     ]
    }
   ],
   "source": [
    "def print_similarity(item_a, item_b, item_embeddings, titles):\n",
    "    print(titles[item_a])\n",
    "    print(titles[item_b])\n",
    "    similarity = cosine(item_embeddings[item_a],\n",
    "                        item_embeddings[item_b])\n",
    "    print(f\"Cosine similarity: {similarity:.3}\")\n",
    "    \n",
    "print_similarity(50, 181, item_embeddings, indexed_items[\"title\"])"
   ]
  },
  {
   "cell_type": "code",
   "execution_count": 36,
   "metadata": {},
   "outputs": [
    {
     "name": "stdout",
     "output_type": "stream",
     "text": [
      "Return of the Jedi (1983)\n",
      "Scream (1996)\n",
      "Cosine similarity: 0.717\n"
     ]
    }
   ],
   "source": [
    "print_similarity(181, 288, item_embeddings, indexed_items[\"title\"])"
   ]
  },
  {
   "cell_type": "code",
   "execution_count": 37,
   "metadata": {},
   "outputs": [
    {
     "name": "stdout",
     "output_type": "stream",
     "text": [
      "Return of the Jedi (1983)\n",
      "Toy Story (1995)\n",
      "Cosine similarity: 0.826\n"
     ]
    }
   ],
   "source": [
    "print_similarity(181, 1, item_embeddings, indexed_items[\"title\"])"
   ]
  },
  {
   "cell_type": "code",
   "execution_count": 38,
   "metadata": {},
   "outputs": [
    {
     "name": "stdout",
     "output_type": "stream",
     "text": [
      "Return of the Jedi (1983)\n",
      "Return of the Jedi (1983)\n",
      "Cosine similarity: 1.0\n"
     ]
    }
   ],
   "source": [
    "print_similarity(181, 181, item_embeddings, indexed_items[\"title\"])"
   ]
  },
  {
   "cell_type": "code",
   "execution_count": 39,
   "metadata": {},
   "outputs": [
    {
     "data": {
      "text/plain": [
       "array([0.02341964, 0.8261074 , 0.71221954, ..., 0.73547214, 0.8335711 ,\n",
       "       0.62599313], dtype=float32)"
      ]
     },
     "execution_count": 39,
     "metadata": {},
     "output_type": "execute_result"
    }
   ],
   "source": [
    "def cosine_similarities(item_id, item_embeddings):\n",
    "    \"\"\"Compute similarities between item_id and all items embeddings\"\"\"\n",
    "    query_vector = item_embeddings[item_id]\n",
    "    dot_products = item_embeddings @ query_vector\n",
    "\n",
    "    query_vector_norm = np.linalg.norm(query_vector)\n",
    "    all_item_norms = np.linalg.norm(item_embeddings, axis=1)\n",
    "    norm_products = query_vector_norm * all_item_norms\n",
    "    return dot_products / (norm_products + EPSILON)\n",
    "\n",
    "\n",
    "similarities = cosine_similarities(181, item_embeddings)\n",
    "similarities"
   ]
  },
  {
   "cell_type": "code",
   "execution_count": 40,
   "metadata": {},
   "outputs": [
    {
     "data": {
      "image/png": "[encoded data removed]",
      "text/plain": [
       "<Figure size 640x480 with 1 Axes>"
      ]
     },
     "metadata": {},
     "output_type": "display_data"
    }
   ],
   "source": [
    "plt.hist(similarities, bins=30);"
   ]
  },
  {
   "cell_type": "code",
   "execution_count": 41,
   "metadata": {},
   "outputs": [
    {
     "data": {
      "text/plain": [
       "[(50, 'Star Wars (1977)', 1.0000001),\n",
       " (181, 'Return of the Jedi (1983)', 0.9319856),\n",
       " (172, 'Empire Strikes Back, The (1980)', 0.9230993),\n",
       " (174, 'Raiders of the Lost Ark (1981)', 0.9037031),\n",
       " (12, 'Usual Suspects, The (1995)', 0.89289856),\n",
       " (183, 'Alien (1979)', 0.8907371),\n",
       " (96, 'Terminator 2: Judgment Day (1991)', 0.88484406),\n",
       " (211, 'M*A*S*H (1970)', 0.8839922),\n",
       " (195, 'Terminator, The (1984)', 0.8805354),\n",
       " (205, 'Patton (1970)', 0.879193)]"
      ]
     },
     "execution_count": 41,
     "metadata": {},
     "output_type": "execute_result"
    }
   ],
   "source": [
    "def most_similar(item_id, item_embeddings, titles,\n",
    "                 top_n=30):\n",
    "    sims = cosine_similarities(item_id, item_embeddings)\n",
    "    # [::-1] makes it possible to reverse the order of a numpy\n",
    "    # array, this is required because most similar items have\n",
    "    # a larger cosine similarity value\n",
    "    sorted_indexes = np.argsort(sims)[::-1]\n",
    "    idxs = sorted_indexes[0:top_n]\n",
    "    return list(zip(idxs, titles[idxs], sims[idxs]))\n",
    "\n",
    "\n",
    "most_similar(50, item_embeddings, indexed_items[\"title\"], top_n=10)"
   ]
  },
  {
   "cell_type": "code",
   "execution_count": 42,
   "metadata": {},
   "outputs": [],
   "source": [
    "# items[items['title'].str.contains(\"Star Trek\")]"
   ]
  },
  {
   "cell_type": "code",
   "execution_count": 43,
   "metadata": {},
   "outputs": [
    {
     "data": {
      "text/plain": [
       "[(227, 'Star Trek VI: The Undiscovered Country (1991)', 1.0),\n",
       " (230, 'Star Trek IV: The Voyage Home (1986)', 0.9129602),\n",
       " (1552, 'Hunted, The (1995)', 0.8927269),\n",
       " (228, 'Star Trek: The Wrath of Khan (1982)', 0.8921553),\n",
       " (246, 'Chasing Amy (1997)', 0.88860863),\n",
       " (1305, \"National Lampoon's Senior Trip (1995)\", 0.88834184),\n",
       " (75, 'Brother Minister: The Assassination of Malcolm X (1994)', 0.88817483),\n",
       " (68, 'Crow, The (1994)', 0.8848788),\n",
       " (399, 'Three Musketeers, The (1993)', 0.88482094),\n",
       " (1345, 'Day the Sun Turned Cold, The (Tianguo niezi) (1994)', 0.8844965)]"
      ]
     },
     "execution_count": 43,
     "metadata": {},
     "output_type": "execute_result"
    }
   ],
   "source": [
    "most_similar(227, item_embeddings, indexed_items[\"title\"], top_n=10)"
   ]
  },
  {
   "cell_type": "markdown",
   "metadata": {},
   "source": [
    "The similarities do not always make sense: the number of ratings is low and the embedding  does not automatically capture semantic relationships in that context. Better representations arise with higher number of ratings, and less overfitting  in models or maybe better loss function, such as those based on implicit feedback."
   ]
  },
  {
   "cell_type": "markdown",
   "metadata": {},
   "source": [
    "### Visualizing embeddings using TSNE\n",
    "\n",
    "- we use scikit learn to visualize items embeddings\n",
    "- Try different perplexities, and visualize user embeddings as well\n",
    "- What can you conclude ?"
   ]
  },
  {
   "cell_type": "code",
   "execution_count": 44,
   "metadata": {},
   "outputs": [],
   "source": [
    "from sklearn.manifold import TSNE\n",
    "\n",
    "item_tsne = TSNE(perplexity=30).fit_transform(item_embeddings)"
   ]
  },
  {
   "cell_type": "code",
   "execution_count": 45,
   "metadata": {},
   "outputs": [
    {
     "data": {
      "image/png": "[encoded data removed]",
      "text/plain": [
       "<Figure size 1000x1000 with 1 Axes>"
      ]
     },
     "metadata": {},
     "output_type": "display_data"
    }
   ],
   "source": [
    "import matplotlib.pyplot as plt\n",
    "\n",
    "plt.figure(figsize=(10, 10))\n",
    "plt.scatter(item_tsne[:, 0], item_tsne[:, 1]);\n",
    "plt.xticks(()); plt.yticks(());\n",
    "plt.show()"
   ]
  },
  {
   "cell_type": "code",
   "execution_count": 46,
   "metadata": {},
   "outputs": [
    {
     "name": "stdout",
     "output_type": "stream",
     "text": [
      "Note: you may need to restart the kernel to use updated packages.\n"
     ]
    }
   ],
   "source": [
    "%pip install -q plotly"
   ]
  },
  {
   "cell_type": "code",
   "execution_count": 47,
   "metadata": {},
   "outputs": [
    {
     "data": {
      "application/vnd.plotly.v1+json": {
       "config": {
        "plotlyServerURL": "https://plot.ly"
       },
       "data": [
        {
         "customdata": [
          [
           1,
           "Toy Story (1995)",
           1995,
           452
          ],
          [
           2,
           "GoldenEye (1995)",
           1995,
           131
          ],
          [
           3,
           "Four Rooms (1995)",
           1995,
           90
          ],
          [
           4,
           "Get Shorty (1995)",
           1995,
           209
          ],
          [
           5,
           "Copycat (1995)",
           1995,
           86
          ],
          [
           6,
           "Shanghai Triad (Yao a yao yao dao waipo qiao) (1995)",
           1995,
           26
          ],
          [
           7,
           "Twelve Monkeys (1995)",
           1995,
           392
          ],
          [
           8,
           "Babe (1995)",
           1995,
           219
          ],
          [
           9,
           "Dead Man Walking (1995)",
           1995,
           299
          ],
          [
           10,
           "Richard III (1995)",
           1996,
           89
          ],
          [
           11,
           "Seven (Se7en) (1995)",
           1995,
           236
          ],
          [
           12,
           "Usual Suspects, The (1995)",
           1995,
           267
          ],
          [
           13,
           "Mighty Aphrodite (1995)",
           1995,
           184
          ],
          [
           14,
           "Postino, Il (1994)",
           1994,
           183
          ],
          [
           15,
           "Mr. Holland's Opus (1995)",
           1996,
           293
          ],
          [
           16,
           "French Twist (Gazon maudit) (1995)",
           1995,
           39
          ],
          [
           17,
           "From Dusk Till Dawn (1996)",
           1996,
           92
          ],
          [
           18,
           "White Balloon, The (1995)",
           1995,
           10
          ],
          [
           19,
           "Antonia's Line (1995)",
           1995,
           69
          ],
          [
           20,
           "Angels and Insects (1995)",
           1995,
           72
          ],
          [
           21,
           "Muppet Treasure Island (1996)",
           1996,
           84
          ],
          [
           22,
           "Braveheart (1995)",
           1996,
           297
          ],
          [
           23,
           "Taxi Driver (1976)",
           1996,
           182
          ],
          [
           24,
           "Rumble in the Bronx (1995)",
           1996,
           174
          ],
          [
           25,
           "Birdcage, The (1996)",
           1996,
           293
          ],
          [
           26,
           "Brothers McMullen, The (1995)",
           1995,
           73
          ],
          [
           27,
           "Bad Boys (1995)",
           1995,
           57
          ],
          [
           28,
           "Apollo 13 (1995)",
           1995,
           276
          ],
          [
           29,
           "Batman Forever (1995)",
           1995,
           114
          ],
          [
           30,
           "Belle de jour (1967)",
           1967,
           37
          ],
          [
           31,
           "Crimson Tide (1995)",
           1995,
           154
          ],
          [
           32,
           "Crumb (1994)",
           1994,
           81
          ],
          [
           33,
           "Desperado (1995)",
           1995,
           97
          ],
          [
           34,
           "Doom Generation, The (1995)",
           1995,
           7
          ],
          [
           35,
           "Free Willy 2: The Adventure Home (1995)",
           1995,
           11
          ],
          [
           36,
           "Mad Love (1995)",
           1995,
           13
          ],
          [
           37,
           "Nadja (1994)",
           1994,
           8
          ],
          [
           38,
           "Net, The (1995)",
           1995,
           120
          ],
          [
           39,
           "Strange Days (1995)",
           1995,
           87
          ],
          [
           40,
           "To Wong Foo, Thanks for Everything! Julie Newmar (1995)",
           1995,
           57
          ],
          [
           41,
           "Billy Madison (1995)",
           1995,
           37
          ],
          [
           42,
           "Clerks (1994)",
           1994,
           148
          ],
          [
           43,
           "Disclosure (1994)",
           1994,
           40
          ],
          [
           44,
           "Dolores Claiborne (1994)",
           1994,
           79
          ],
          [
           45,
           "Eat Drink Man Woman (1994)",
           1994,
           80
          ],
          [
           46,
           "Exotica (1994)",
           1994,
           27
          ],
          [
           47,
           "Ed Wood (1994)",
           1994,
           133
          ],
          [
           48,
           "Hoop Dreams (1994)",
           1994,
           117
          ],
          [
           49,
           "I.Q. (1994)",
           1994,
           81
          ],
          [
           50,
           "Star Wars (1977)",
           1977,
           583
          ],
          [
           51,
           "Legends of the Fall (1994)",
           1994,
           81
          ],
          [
           52,
           "Madness of King George, The (1994)",
           1994,
           91
          ],
          [
           53,
           "Natural Born Killers (1994)",
           1994,
           128
          ],
          [
           54,
           "Outbreak (1995)",
           1995,
           104
          ],
          [
           55,
           "Professional, The (1994)",
           1994,
           149
          ],
          [
           56,
           "Pulp Fiction (1994)",
           1994,
           394
          ],
          [
           57,
           "Priest (1994)",
           1994,
           40
          ],
          [
           58,
           "Quiz Show (1994)",
           1994,
           175
          ],
          [
           59,
           "Three Colors: Red (1994)",
           1994,
           83
          ],
          [
           60,
           "Three Colors: Blue (1993)",
           1993,
           64
          ],
          [
           61,
           "Three Colors: White (1994)",
           1994,
           59
          ],
          [
           62,
           "Stargate (1994)",
           1994,
           127
          ],
          [
           63,
           "Santa Clause, The (1994)",
           1994,
           82
          ],
          [
           64,
           "Shawshank Redemption, The (1994)",
           1994,
           283
          ],
          [
           65,
           "What's Eating Gilbert Grape (1993)",
           1993,
           115
          ],
          [
           66,
           "While You Were Sleeping (1995)",
           1995,
           162
          ],
          [
           67,
           "Ace Ventura: Pet Detective (1994)",
           1994,
           103
          ],
          [
           68,
           "Crow, The (1994)",
           1994,
           134
          ],
          [
           69,
           "Forrest Gump (1994)",
           1994,
           321
          ],
          [
           70,
           "Four Weddings and a Funeral (1994)",
           1994,
           251
          ],
          [
           71,
           "Lion King, The (1994)",
           1994,
           220
          ],
          [
           72,
           "Mask, The (1994)",
           1994,
           129
          ],
          [
           73,
           "Maverick (1994)",
           1994,
           128
          ],
          [
           74,
           "Faster Pussycat! Kill! Kill! (1965)",
           1965,
           7
          ],
          [
           75,
           "Brother Minister: The Assassination of Malcolm X (1994)",
           1994,
           5
          ],
          [
           76,
           "Carlito's Way (1993)",
           1993,
           54
          ],
          [
           77,
           "Firm, The (1993)",
           1993,
           151
          ],
          [
           78,
           "Free Willy (1993)",
           1993,
           33
          ],
          [
           79,
           "Fugitive, The (1993)",
           1993,
           336
          ],
          [
           80,
           "Hot Shots! Part Deux (1993)",
           1993,
           68
          ],
          [
           81,
           "Hudsucker Proxy, The (1994)",
           1994,
           110
          ],
          [
           82,
           "Jurassic Park (1993)",
           1993,
           261
          ],
          [
           83,
           "Much Ado About Nothing (1993)",
           1993,
           176
          ],
          [
           84,
           "Robert A. Heinlein's The Puppet Masters (1994)",
           1994,
           18
          ],
          [
           85,
           "Ref, The (1994)",
           1994,
           58
          ],
          [
           86,
           "Remains of the Day, The (1993)",
           1993,
           150
          ],
          [
           87,
           "Searching for Bobby Fischer (1993)",
           1993,
           138
          ],
          [
           88,
           "Sleepless in Seattle (1993)",
           1993,
           213
          ],
          [
           89,
           "Blade Runner (1982)",
           1982,
           275
          ],
          [
           90,
           "So I Married an Axe Murderer (1993)",
           1993,
           95
          ],
          [
           91,
           "Nightmare Before Christmas, The (1993)",
           1993,
           143
          ],
          [
           92,
           "True Romance (1993)",
           1993,
           104
          ],
          [
           93,
           "Welcome to the Dollhouse (1995)",
           1996,
           112
          ],
          [
           94,
           "Home Alone (1990)",
           1990,
           137
          ],
          [
           95,
           "Aladdin (1992)",
           1992,
           219
          ],
          [
           96,
           "Terminator 2: Judgment Day (1991)",
           1991,
           295
          ],
          [
           97,
           "Dances with Wolves (1990)",
           1990,
           256
          ],
          [
           98,
           "Silence of the Lambs, The (1991)",
           1991,
           390
          ],
          [
           99,
           "Snow White and the Seven Dwarfs (1937)",
           1937,
           172
          ],
          [
           100,
           "Fargo (1996)",
           1997,
           508
          ],
          [
           101,
           "Heavy Metal (1981)",
           1981,
           73
          ],
          [
           102,
           "Aristocats, The (1970)",
           1970,
           54
          ],
          [
           103,
           "All Dogs Go to Heaven 2 (1996)",
           1996,
           15
          ],
          [
           104,
           "Theodore Rex (1995)",
           1996,
           5
          ],
          [
           105,
           "Sgt. Bilko (1996)",
           1996,
           74
          ],
          [
           106,
           "Diabolique (1996)",
           1996,
           71
          ],
          [
           107,
           "Moll Flanders (1996)",
           1996,
           42
          ],
          [
           108,
           "Kids in the Hall: Brain Candy (1996)",
           1996,
           65
          ],
          [
           109,
           "Mystery Science Theater 3000: The Movie (1996)",
           1996,
           130
          ],
          [
           110,
           "Operation Dumbo Drop (1995)",
           1995,
           31
          ],
          [
           111,
           "Truth About Cats & Dogs, The (1996)",
           1996,
           272
          ],
          [
           112,
           "Flipper (1996)",
           1996,
           20
          ],
          [
           113,
           "Horseman on the Roof, The (Hussard sur le toit, Le) (1995)",
           1996,
           9
          ],
          [
           114,
           "Wallace & Gromit: The Best of Aardman Animation (1996)",
           1996,
           67
          ],
          [
           115,
           "Haunted World of Edward D. Wood Jr., The (1995)",
           1996,
           15
          ],
          [
           116,
           "Cold Comfort Farm (1995)",
           1996,
           125
          ],
          [
           117,
           "Rock, The (1996)",
           1996,
           378
          ],
          [
           118,
           "Twister (1996)",
           1996,
           293
          ],
          [
           119,
           "Maya Lin: A Strong Clear Vision (1994)",
           1994,
           4
          ],
          [
           120,
           "Striptease (1996)",
           1996,
           67
          ],
          [
           121,
           "Independence Day (ID4) (1996)",
           1996,
           429
          ],
          [
           122,
           "Cable Guy, The (1996)",
           1996,
           106
          ],
          [
           123,
           "Frighteners, The (1996)",
           1996,
           115
          ],
          [
           124,
           "Lone Star (1996)",
           1996,
           187
          ],
          [
           125,
           "Phenomenon (1996)",
           1996,
           244
          ],
          [
           126,
           "Spitfire Grill, The (1996)",
           1996,
           97
          ],
          [
           127,
           "Godfather, The (1972)",
           1972,
           413
          ],
          [
           128,
           "Supercop (1992)",
           1996,
           65
          ],
          [
           129,
           "Bound (1996)",
           1996,
           129
          ],
          [
           130,
           "Kansas City (1996)",
           1996,
           23
          ],
          [
           131,
           "Breakfast at Tiffany's (1961)",
           1961,
           95
          ],
          [
           132,
           "Wizard of Oz, The (1939)",
           1939,
           246
          ],
          [
           133,
           "Gone with the Wind (1939)",
           1939,
           171
          ],
          [
           134,
           "Citizen Kane (1941)",
           1941,
           198
          ],
          [
           135,
           "2001: A Space Odyssey (1968)",
           1968,
           259
          ],
          [
           136,
           "Mr. Smith Goes to Washington (1939)",
           1939,
           105
          ],
          [
           137,
           "Big Night (1996)",
           1996,
           171
          ],
          [
           138,
           "D3: The Mighty Ducks (1996)",
           1996,
           19
          ],
          [
           139,
           "Love Bug, The (1969)",
           1969,
           50
          ],
          [
           140,
           "Homeward Bound: The Incredible Journey (1993)",
           1993,
           61
          ],
          [
           141,
           "20,000 Leagues Under the Sea (1954)",
           1954,
           72
          ],
          [
           142,
           "Bedknobs and Broomsticks (1971)",
           1971,
           57
          ],
          [
           143,
           "Sound of Music, The (1965)",
           1965,
           222
          ],
          [
           144,
           "Die Hard (1988)",
           1988,
           243
          ],
          [
           145,
           "Lawnmower Man, The (1992)",
           1992,
           65
          ],
          [
           146,
           "Unhook the Stars (1996)",
           1996,
           10
          ],
          [
           147,
           "Long Kiss Goodnight, The (1996)",
           1996,
           185
          ],
          [
           148,
           "Ghost and the Darkness, The (1996)",
           1996,
           128
          ],
          [
           149,
           "Jude (1996)",
           1996,
           23
          ],
          [
           150,
           "Swingers (1996)",
           1996,
           157
          ],
          [
           151,
           "Willy Wonka and the Chocolate Factory (1971)",
           1971,
           326
          ],
          [
           152,
           "Sleeper (1973)",
           1973,
           82
          ],
          [
           153,
           "Fish Called Wanda, A (1988)",
           1988,
           247
          ],
          [
           154,
           "Monty Python's Life of Brian (1979)",
           1979,
           174
          ],
          [
           155,
           "Dirty Dancing (1987)",
           1987,
           98
          ],
          [
           156,
           "Reservoir Dogs (1992)",
           1992,
           148
          ],
          [
           157,
           "Platoon (1986)",
           1986,
           127
          ],
          [
           158,
           "Weekend at Bernie's (1989)",
           1989,
           60
          ],
          [
           159,
           "Basic Instinct (1992)",
           1992,
           101
          ],
          [
           160,
           "Glengarry Glen Ross (1992)",
           1992,
           69
          ],
          [
           161,
           "Top Gun (1986)",
           1986,
           220
          ],
          [
           162,
           "On Golden Pond (1981)",
           1981,
           106
          ],
          [
           163,
           "Return of the Pink Panther, The (1974)",
           1974,
           92
          ],
          [
           164,
           "Abyss, The (1989)",
           1989,
           151
          ],
          [
           165,
           "Jean de Florette (1986)",
           1986,
           64
          ],
          [
           166,
           "Manon of the Spring (Manon des sources) (1986)",
           1986,
           58
          ],
          [
           167,
           "Private Benjamin (1980)",
           1980,
           67
          ],
          [
           168,
           "Monty Python and the Holy Grail (1974)",
           1974,
           316
          ],
          [
           169,
           "Wrong Trousers, The (1993)",
           1993,
           118
          ],
          [
           170,
           "Cinema Paradiso (1988)",
           1988,
           121
          ],
          [
           171,
           "Delicatessen (1991)",
           1991,
           65
          ],
          [
           172,
           "Empire Strikes Back, The (1980)",
           1980,
           367
          ],
          [
           173,
           "Princess Bride, The (1987)",
           1987,
           324
          ],
          [
           174,
           "Raiders of the Lost Ark (1981)",
           1981,
           420
          ],
          [
           175,
           "Brazil (1985)",
           1985,
           208
          ],
          [
           176,
           "Aliens (1986)",
           1986,
           284
          ],
          [
           177,
           "Good, The Bad and The Ugly, The (1966)",
           1966,
           137
          ],
          [
           178,
           "12 Angry Men (1957)",
           1957,
           125
          ],
          [
           179,
           "Clockwork Orange, A (1971)",
           1971,
           221
          ],
          [
           180,
           "Apocalypse Now (1979)",
           1979,
           221
          ],
          [
           181,
           "Return of the Jedi (1983)",
           1997,
           507
          ],
          [
           182,
           "GoodFellas (1990)",
           1990,
           226
          ],
          [
           183,
           "Alien (1979)",
           1979,
           291
          ],
          [
           184,
           "Army of Darkness (1993)",
           1993,
           116
          ],
          [
           185,
           "Psycho (1960)",
           1960,
           239
          ],
          [
           186,
           "Blues Brothers, The (1980)",
           1980,
           251
          ],
          [
           187,
           "Godfather: Part II, The (1974)",
           1974,
           209
          ],
          [
           188,
           "Full Metal Jacket (1987)",
           1987,
           170
          ],
          [
           189,
           "Grand Day Out, A (1992)",
           1992,
           66
          ],
          [
           190,
           "Henry V (1989)",
           1989,
           124
          ],
          [
           191,
           "Amadeus (1984)",
           1984,
           276
          ],
          [
           192,
           "Raging Bull (1980)",
           1980,
           116
          ],
          [
           193,
           "Right Stuff, The (1983)",
           1983,
           157
          ],
          [
           194,
           "Sting, The (1973)",
           1973,
           241
          ],
          [
           195,
           "Terminator, The (1984)",
           1984,
           301
          ],
          [
           196,
           "Dead Poets Society (1989)",
           1989,
           251
          ],
          [
           197,
           "Graduate, The (1967)",
           1967,
           239
          ],
          [
           198,
           "Nikita (La Femme Nikita) (1990)",
           1990,
           127
          ],
          [
           199,
           "Bridge on the River Kwai, The (1957)",
           1957,
           165
          ],
          [
           200,
           "Shining, The (1980)",
           1980,
           206
          ],
          [
           201,
           "Evil Dead II (1987)",
           1987,
           89
          ],
          [
           202,
           "Groundhog Day (1993)",
           1993,
           280
          ],
          [
           203,
           "Unforgiven (1992)",
           1992,
           182
          ],
          [
           204,
           "Back to the Future (1985)",
           1985,
           350
          ],
          [
           205,
           "Patton (1970)",
           1970,
           136
          ],
          [
           206,
           "Akira (1988)",
           1988,
           50
          ],
          [
           207,
           "Cyrano de Bergerac (1990)",
           1990,
           66
          ],
          [
           208,
           "Young Frankenstein (1974)",
           1974,
           200
          ],
          [
           209,
           "This Is Spinal Tap (1984)",
           1984,
           191
          ],
          [
           210,
           "Indiana Jones and the Last Crusade (1989)",
           1989,
           331
          ],
          [
           211,
           "M*A*S*H (1970)",
           1970,
           206
          ],
          [
           212,
           "Unbearable Lightness of Being, The (1988)",
           1988,
           92
          ],
          [
           213,
           "Room with a View, A (1986)",
           1986,
           134
          ],
          [
           214,
           "Pink Floyd - The Wall (1982)",
           1982,
           114
          ],
          [
           215,
           "Field of Dreams (1989)",
           1989,
           212
          ],
          [
           216,
           "When Harry Met Sally... (1989)",
           1989,
           290
          ],
          [
           217,
           "Bram Stoker's Dracula (1992)",
           1992,
           120
          ],
          [
           218,
           "Cape Fear (1991)",
           1991,
           171
          ],
          [
           219,
           "Nightmare on Elm Street, A (1984)",
           1984,
           111
          ],
          [
           220,
           "Mirror Has Two Faces, The (1996)",
           1996,
           66
          ],
          [
           221,
           "Breaking the Waves (1996)",
           1996,
           74
          ],
          [
           222,
           "Star Trek: First Contact (1996)",
           1996,
           365
          ],
          [
           223,
           "Sling Blade (1996)",
           1996,
           136
          ],
          [
           224,
           "Ridicule (1996)",
           1996,
           44
          ],
          [
           225,
           "101 Dalmatians (1996)",
           1996,
           109
          ],
          [
           226,
           "Die Hard 2 (1990)",
           1990,
           166
          ],
          [
           227,
           "Star Trek VI: The Undiscovered Country (1991)",
           1991,
           161
          ],
          [
           228,
           "Star Trek: The Wrath of Khan (1982)",
           1982,
           244
          ],
          [
           229,
           "Star Trek III: The Search for Spock (1984)",
           1984,
           171
          ],
          [
           230,
           "Star Trek IV: The Voyage Home (1986)",
           1986,
           199
          ],
          [
           231,
           "Batman Returns (1992)",
           1992,
           142
          ],
          [
           232,
           "Young Guns (1988)",
           1988,
           101
          ],
          [
           233,
           "Under Siege (1992)",
           1992,
           124
          ],
          [
           234,
           "Jaws (1975)",
           1975,
           280
          ],
          [
           235,
           "Mars Attacks! (1996)",
           1996,
           217
          ],
          [
           236,
           "Citizen Ruth (1996)",
           1996,
           45
          ],
          [
           237,
           "Jerry Maguire (1996)",
           1996,
           384
          ],
          [
           238,
           "Raising Arizona (1987)",
           1987,
           256
          ],
          [
           239,
           "Sneakers (1992)",
           1992,
           150
          ],
          [
           240,
           "Beavis and Butt-head Do America (1996)",
           1996,
           156
          ],
          [
           241,
           "Last of the Mohicans, The (1992)",
           1992,
           128
          ],
          [
           242,
           "Kolya (1996)",
           1997,
           117
          ],
          [
           243,
           "Jungle2Jungle (1997)",
           1997,
           132
          ],
          [
           244,
           "Smilla's Sense of Snow (1997)",
           1997,
           48
          ],
          [
           245,
           "Devil's Own, The (1997)",
           1997,
           240
          ],
          [
           246,
           "Chasing Amy (1997)",
           1997,
           124
          ],
          [
           247,
           "Turbo: A Power Rangers Movie (1997)",
           1997,
           5
          ],
          [
           248,
           "Grosse Pointe Blank (1997)",
           1997,
           160
          ],
          [
           249,
           "Austin Powers: International Man of Mystery (1997)",
           1997,
           130
          ],
          [
           250,
           "Fifth Element, The (1997)",
           1997,
           197
          ],
          [
           251,
           "Shall We Dance? (1996)",
           1997,
           46
          ],
          [
           252,
           "Lost World: Jurassic Park, The (1997)",
           1997,
           158
          ],
          [
           253,
           "Pillow Book, The (1995)",
           1997,
           26
          ],
          [
           254,
           "Batman & Robin (1997)",
           1997,
           62
          ],
          [
           255,
           "My Best Friend's Wedding (1997)",
           1997,
           172
          ],
          [
           256,
           "When the Cats Away (Chacun cherche son chat) (1996)",
           1997,
           16
          ],
          [
           257,
           "Men in Black (1997)",
           1997,
           303
          ],
          [
           258,
           "Contact (1997)",
           1997,
           509
          ],
          [
           259,
           "George of the Jungle (1997)",
           1997,
           162
          ],
          [
           260,
           "Event Horizon (1997)",
           1997,
           127
          ],
          [
           261,
           "Air Bud (1997)",
           1997,
           43
          ],
          [
           262,
           "In the Company of Men (1997)",
           1997,
           66
          ],
          [
           263,
           "Steel (1997)",
           1997,
           19
          ],
          [
           264,
           "Mimic (1997)",
           1997,
           101
          ],
          [
           265,
           "Hunt for Red October, The (1990)",
           1990,
           227
          ],
          [
           266,
           "Kull the Conqueror (1997)",
           1997,
           35
          ],
          [
           267,
           "unknown",
           1920,
           9
          ],
          [
           268,
           "Chasing Amy (1997)",
           1997,
           255
          ],
          [
           269,
           "Full Monty, The (1997)",
           1997,
           315
          ],
          [
           270,
           "Gattaca (1997)",
           1997,
           136
          ],
          [
           271,
           "Starship Troopers (1997)",
           1997,
           211
          ],
          [
           272,
           "Good Will Hunting (1997)",
           1997,
           198
          ],
          [
           273,
           "Heat (1995)",
           1995,
           223
          ],
          [
           274,
           "Sabrina (1995)",
           1995,
           190
          ],
          [
           275,
           "Sense and Sensibility (1995)",
           1995,
           268
          ],
          [
           276,
           "Leaving Las Vegas (1995)",
           1995,
           298
          ],
          [
           277,
           "Restoration (1995)",
           1995,
           71
          ],
          [
           278,
           "Bed of Roses (1996)",
           1996,
           60
          ],
          [
           279,
           "Once Upon a Time... When We Were Colored (1995)",
           1995,
           28
          ],
          [
           280,
           "Up Close and Personal (1996)",
           1996,
           85
          ],
          [
           281,
           "River Wild, The (1994)",
           1994,
           146
          ],
          [
           282,
           "Time to Kill, A (1996)",
           1996,
           232
          ],
          [
           283,
           "Emma (1996)",
           1996,
           177
          ],
          [
           284,
           "Tin Cup (1996)",
           1996,
           193
          ],
          [
           285,
           "Secrets & Lies (1996)",
           1996,
           162
          ],
          [
           286,
           "English Patient, The (1996)",
           1996,
           481
          ],
          [
           287,
           "Marvin's Room (1996)",
           1996,
           78
          ],
          [
           288,
           "Scream (1996)",
           1996,
           478
          ],
          [
           289,
           "Evita (1996)",
           1996,
           259
          ],
          [
           290,
           "Fierce Creatures (1997)",
           1997,
           96
          ],
          [
           291,
           "Absolute Power (1997)",
           1997,
           127
          ],
          [
           292,
           "Rosewood (1997)",
           1997,
           114
          ],
          [
           293,
           "Donnie Brasco (1997)",
           1997,
           147
          ],
          [
           294,
           "Liar Liar (1997)",
           1997,
           485
          ],
          [
           295,
           "Breakdown (1997)",
           1997,
           77
          ],
          [
           296,
           "Promesse, La (1996)",
           1997,
           6
          ],
          [
           297,
           "Ulee's Gold (1997)",
           1997,
           50
          ],
          [
           298,
           "Face/Off (1997)",
           1997,
           194
          ],
          [
           299,
           "Hoodlum (1997)",
           1997,
           73
          ],
          [
           300,
           "Air Force One (1997)",
           1997,
           431
          ],
          [
           301,
           "In & Out (1997)",
           1997,
           230
          ],
          [
           302,
           "L.A. Confidential (1997)",
           1997,
           297
          ],
          [
           303,
           "Ulee's Gold (1997)",
           1997,
           134
          ],
          [
           304,
           "Fly Away Home (1996)",
           1996,
           149
          ],
          [
           305,
           "Ice Storm, The (1997)",
           1997,
           87
          ],
          [
           306,
           "Mrs. Brown (Her Majesty, Mrs. Brown) (1997)",
           1997,
           96
          ],
          [
           307,
           "Devil's Advocate, The (1997)",
           1997,
           188
          ],
          [
           308,
           "FairyTale: A True Story (1997)",
           1997,
           30
          ],
          [
           309,
           "Deceiver (1997)",
           1997,
           28
          ],
          [
           310,
           "Rainmaker, The (1997)",
           1997,
           145
          ],
          [
           311,
           "Wings of the Dove, The (1997)",
           1997,
           75
          ],
          [
           312,
           "Midnight in the Garden of Good and Evil (1997)",
           1997,
           80
          ],
          [
           313,
           "Titanic (1997)",
           1997,
           350
          ],
          [
           314,
           "3 Ninjas: High Noon At Mega Mountain (1998)",
           1997,
           5
          ],
          [
           315,
           "Apt Pupil (1998)",
           1998,
           160
          ],
          [
           316,
           "As Good As It Gets (1997)",
           1997,
           112
          ],
          [
           317,
           "In the Name of the Father (1993)",
           1993,
           102
          ],
          [
           318,
           "Schindler's List (1993)",
           1993,
           298
          ],
          [
           319,
           "Everyone Says I Love You (1996)",
           1996,
           168
          ],
          [
           320,
           "Paradise Lost: The Child Murders at Robin Hood Hills (1996)",
           1996,
           20
          ],
          [
           321,
           "Mother (1996)",
           1996,
           169
          ],
          [
           322,
           "Murder at 1600 (1997)",
           1997,
           218
          ],
          [
           323,
           "Dante's Peak (1997)",
           1997,
           240
          ],
          [
           324,
           "Lost Highway (1997)",
           1997,
           125
          ],
          [
           325,
           "Crash (1996)",
           1997,
           128
          ],
          [
           326,
           "G.I. Jane (1997)",
           1997,
           175
          ],
          [
           327,
           "Cop Land (1997)",
           1997,
           175
          ],
          [
           328,
           "Conspiracy Theory (1997)",
           1997,
           295
          ],
          [
           329,
           "Desperate Measures (1998)",
           1998,
           45
          ],
          [
           330,
           "187 (1997)",
           1997,
           41
          ],
          [
           331,
           "Edge, The (1997)",
           1997,
           113
          ],
          [
           332,
           "Kiss the Girls (1997)",
           1997,
           143
          ],
          [
           333,
           "Game, The (1997)",
           1997,
           251
          ],
          [
           334,
           "U Turn (1997)",
           1997,
           64
          ],
          [
           335,
           "How to Be a Player (1997)",
           1997,
           21
          ],
          [
           336,
           "Playing God (1997)",
           1997,
           43
          ],
          [
           337,
           "House of Yes, The (1997)",
           1997,
           18
          ],
          [
           338,
           "Bean (1997)",
           1997,
           91
          ],
          [
           339,
           "Mad City (1997)",
           1997,
           47
          ],
          [
           340,
           "Boogie Nights (1997)",
           1997,
           189
          ],
          [
           341,
           "Critical Care (1997)",
           1997,
           11
          ],
          [
           342,
           "Man Who Knew Too Little, The (1997)",
           1997,
           52
          ],
          [
           343,
           "Alien: Resurrection (1997)",
           1997,
           124
          ],
          [
           344,
           "Apostle, The (1997)",
           1997,
           55
          ],
          [
           345,
           "Deconstructing Harry (1997)",
           1997,
           65
          ],
          [
           346,
           "Jackie Brown (1997)",
           1997,
           126
          ],
          [
           347,
           "Wag the Dog (1997)",
           1998,
           137
          ],
          [
           348,
           "Desperate Measures (1998)",
           1998,
           27
          ],
          [
           349,
           "Hard Rain (1998)",
           1998,
           31
          ],
          [
           350,
           "Fallen (1998)",
           1998,
           41
          ],
          [
           351,
           "Prophecy II, The (1998)",
           1998,
           20
          ],
          [
           352,
           "Spice World (1997)",
           1997,
           26
          ],
          [
           353,
           "Deep Rising (1998)",
           1998,
           14
          ],
          [
           354,
           "Wedding Singer, The (1998)",
           1998,
           72
          ],
          [
           355,
           "Sphere (1998)",
           1998,
           41
          ],
          [
           356,
           "Client, The (1994)",
           1994,
           97
          ],
          [
           357,
           "One Flew Over the Cuckoo's Nest (1975)",
           1975,
           264
          ],
          [
           358,
           "Spawn (1997)",
           1997,
           143
          ],
          [
           359,
           "Assignment, The (1997)",
           1997,
           18
          ],
          [
           360,
           "Wonderland (1997)",
           1997,
           10
          ],
          [
           361,
           "Incognito (1997)",
           1997,
           10
          ],
          [
           362,
           "Blues Brothers 2000 (1998)",
           1998,
           28
          ],
          [
           363,
           "Sudden Death (1995)",
           1995,
           47
          ],
          [
           364,
           "Ace Ventura: When Nature Calls (1995)",
           1995,
           37
          ],
          [
           365,
           "Powder (1995)",
           1995,
           48
          ],
          [
           366,
           "Dangerous Minds (1995)",
           1995,
           47
          ],
          [
           367,
           "Clueless (1995)",
           1995,
           170
          ],
          [
           368,
           "Bio-Dome (1996)",
           1996,
           31
          ],
          [
           369,
           "Black Sheep (1996)",
           1996,
           55
          ],
          [
           370,
           "Mary Reilly (1996)",
           1996,
           39
          ],
          [
           371,
           "Bridges of Madison County, The (1995)",
           1996,
           67
          ],
          [
           372,
           "Jeffrey (1995)",
           1995,
           34
          ],
          [
           373,
           "Judge Dredd (1995)",
           1995,
           39
          ],
          [
           374,
           "Mighty Morphin Power Rangers: The Movie (1995)",
           1995,
           11
          ],
          [
           375,
           "Showgirls (1995)",
           1995,
           23
          ],
          [
           376,
           "Houseguest (1994)",
           1994,
           24
          ],
          [
           377,
           "Heavyweights (1994)",
           1994,
           13
          ],
          [
           378,
           "Miracle on 34th Street (1994)",
           1994,
           101
          ],
          [
           379,
           "Tales From the Crypt Presents: Demon Knight (1995)",
           1995,
           43
          ],
          [
           380,
           "Star Trek: Generations (1994)",
           1994,
           116
          ],
          [
           381,
           "Muriel's Wedding (1994)",
           1994,
           100
          ],
          [
           382,
           "Adventures of Priscilla, Queen of the Desert, The (1994)",
           1994,
           111
          ],
          [
           383,
           "Flintstones, The (1994)",
           1994,
           31
          ],
          [
           384,
           "Naked Gun 33 1/3: The Final Insult (1994)",
           1994,
           69
          ],
          [
           385,
           "True Lies (1994)",
           1994,
           208
          ],
          [
           386,
           "Addams Family Values (1993)",
           1993,
           87
          ],
          [
           387,
           "Age of Innocence, The (1993)",
           1993,
           65
          ],
          [
           388,
           "Beverly Hills Cop III (1994)",
           1994,
           28
          ],
          [
           389,
           "Black Beauty (1994)",
           1994,
           27
          ],
          [
           390,
           "Fear of a Black Hat (1993)",
           1993,
           10
          ],
          [
           391,
           "Last Action Hero (1993)",
           1993,
           59
          ],
          [
           392,
           "Man Without a Face, The (1993)",
           1993,
           68
          ],
          [
           393,
           "Mrs. Doubtfire (1993)",
           1993,
           192
          ],
          [
           394,
           "Radioland Murders (1994)",
           1994,
           12
          ],
          [
           395,
           "Robin Hood: Men in Tights (1993)",
           1993,
           56
          ],
          [
           396,
           "Serial Mom (1994)",
           1994,
           54
          ],
          [
           397,
           "Striking Distance (1993)",
           1993,
           12
          ],
          [
           398,
           "Super Mario Bros. (1993)",
           1993,
           26
          ],
          [
           399,
           "Three Musketeers, The (1993)",
           1993,
           89
          ],
          [
           400,
           "Little Rascals, The (1994)",
           1994,
           18
          ],
          [
           401,
           "Brady Bunch Movie, The (1995)",
           1995,
           76
          ],
          [
           402,
           "Ghost (1990)",
           1990,
           170
          ],
          [
           403,
           "Batman (1989)",
           1989,
           201
          ],
          [
           404,
           "Pinocchio (1940)",
           1940,
           101
          ],
          [
           405,
           "Mission: Impossible (1996)",
           1996,
           344
          ],
          [
           406,
           "Thinner (1996)",
           1996,
           49
          ],
          [
           407,
           "Spy Hard (1996)",
           1996,
           43
          ],
          [
           408,
           "Close Shave, A (1995)",
           1996,
           112
          ],
          [
           409,
           "Jack (1996)",
           1996,
           70
          ],
          [
           410,
           "Kingpin (1996)",
           1996,
           162
          ],
          [
           411,
           "Nutty Professor, The (1996)",
           1996,
           163
          ],
          [
           412,
           "Very Brady Sequel, A (1996)",
           1996,
           93
          ],
          [
           413,
           "Tales from the Crypt Presents: Bordello of Blood (1996)",
           1996,
           55
          ],
          [
           414,
           "My Favorite Year (1982)",
           1982,
           62
          ],
          [
           415,
           "Apple Dumpling Gang, The (1975)",
           1975,
           25
          ],
          [
           416,
           "Old Yeller (1957)",
           1957,
           64
          ],
          [
           417,
           "Parent Trap, The (1961)",
           1961,
           73
          ],
          [
           418,
           "Cinderella (1950)",
           1950,
           129
          ],
          [
           419,
           "Mary Poppins (1964)",
           1964,
           178
          ],
          [
           420,
           "Alice in Wonderland (1951)",
           1951,
           81
          ],
          [
           421,
           "William Shakespeare's Romeo and Juliet (1996)",
           1996,
           106
          ],
          [
           422,
           "Aladdin and the King of Thieves (1996)",
           1996,
           26
          ],
          [
           423,
           "E.T. the Extra-Terrestrial (1982)",
           1982,
           300
          ],
          [
           424,
           "Children of the Corn: The Gathering (1996)",
           1996,
           19
          ],
          [
           425,
           "Bob Roberts (1992)",
           1992,
           85
          ],
          [
           426,
           "Transformers: The Movie, The (1986)",
           1986,
           32
          ],
          [
           427,
           "To Kill a Mockingbird (1962)",
           1962,
           219
          ],
          [
           428,
           "Harold and Maude (1971)",
           1971,
           121
          ],
          [
           429,
           "Day the Earth Stood Still, The (1951)",
           1951,
           97
          ],
          [
           430,
           "Duck Soup (1933)",
           1933,
           93
          ],
          [
           431,
           "Highlander (1986)",
           1986,
           153
          ],
          [
           432,
           "Fantasia (1940)",
           1940,
           174
          ],
          [
           433,
           "Heathers (1989)",
           1989,
           171
          ],
          [
           434,
           "Forbidden Planet (1956)",
           1956,
           67
          ],
          [
           435,
           "Butch Cassidy and the Sundance Kid (1969)",
           1969,
           216
          ],
          [
           436,
           "American Werewolf in London, An (1981)",
           1981,
           99
          ],
          [
           437,
           "Amityville 1992: It's About Time (1992)",
           1992,
           5
          ],
          [
           438,
           "Amityville 3-D (1983)",
           1983,
           6
          ],
          [
           439,
           "Amityville: A New Generation (1993)",
           1993,
           5
          ],
          [
           440,
           "Amityville II: The Possession (1982)",
           1982,
           14
          ],
          [
           441,
           "Amityville Horror, The (1979)",
           1979,
           53
          ],
          [
           442,
           "Amityville Curse, The (1990)",
           1990,
           4
          ],
          [
           443,
           "Birds, The (1963)",
           1963,
           162
          ],
          [
           444,
           "Blob, The (1958)",
           1958,
           46
          ],
          [
           445,
           "Body Snatcher, The (1945)",
           1945,
           22
          ],
          [
           446,
           "Burnt Offerings (1976)",
           1976,
           9
          ],
          [
           447,
           "Carrie (1976)",
           1976,
           121
          ],
          [
           448,
           "Omen, The (1976)",
           1976,
           85
          ],
          [
           449,
           "Star Trek: The Motion Picture (1979)",
           1979,
           117
          ],
          [
           450,
           "Star Trek V: The Final Frontier (1989)",
           1989,
           63
          ],
          [
           451,
           "Grease (1978)",
           1978,
           170
          ],
          [
           452,
           "Jaws 2 (1978)",
           1978,
           66
          ],
          [
           453,
           "Jaws 3-D (1983)",
           1983,
           16
          ],
          [
           454,
           "Bastard Out of Carolina (1996)",
           1996,
           16
          ],
          [
           455,
           "Jackie Chan's First Strike (1996)",
           1997,
           145
          ],
          [
           456,
           "Beverly Hills Ninja (1997)",
           1997,
           48
          ],
          [
           457,
           "Free Willy 3: The Rescue (1997)",
           1997,
           27
          ],
          [
           458,
           "Nixon (1995)",
           1995,
           90
          ],
          [
           459,
           "Cry, the Beloved Country (1995)",
           1995,
           24
          ],
          [
           460,
           "Crossing Guard, The (1995)",
           1995,
           28
          ],
          [
           461,
           "Smoke (1995)",
           1995,
           74
          ],
          [
           462,
           "Like Water For Chocolate (Como agua para chocolate) (1992)",
           1992,
           148
          ],
          [
           463,
           "Secret of Roan Inish, The (1994)",
           1994,
           71
          ],
          [
           464,
           "Vanya on 42nd Street (1994)",
           1994,
           27
          ],
          [
           465,
           "Jungle Book, The (1994)",
           1994,
           85
          ],
          [
           466,
           "Red Rock West (1992)",
           1992,
           52
          ],
          [
           467,
           "Bronx Tale, A (1993)",
           1993,
           48
          ],
          [
           468,
           "Rudy (1993)",
           1993,
           64
          ],
          [
           469,
           "Short Cuts (1993)",
           1993,
           67
          ],
          [
           470,
           "Tombstone (1993)",
           1993,
           108
          ],
          [
           471,
           "Courage Under Fire (1996)",
           1996,
           221
          ],
          [
           472,
           "Dragonheart (1996)",
           1996,
           158
          ],
          [
           473,
           "James and the Giant Peach (1996)",
           1996,
           126
          ],
          [
           474,
           "Dr. Strangelove or: How I Learned to Stop Worrying and Love the Bomb (1963)",
           1963,
           194
          ],
          [
           475,
           "Trainspotting (1996)",
           1996,
           250
          ],
          [
           476,
           "First Wives Club, The (1996)",
           1996,
           160
          ],
          [
           477,
           "Matilda (1996)",
           1996,
           95
          ],
          [
           478,
           "Philadelphia Story, The (1940)",
           1940,
           104
          ],
          [
           479,
           "Vertigo (1958)",
           1958,
           179
          ],
          [
           480,
           "North by Northwest (1959)",
           1959,
           179
          ],
          [
           481,
           "Apartment, The (1960)",
           1960,
           63
          ],
          [
           482,
           "Some Like It Hot (1959)",
           1959,
           128
          ],
          [
           483,
           "Casablanca (1942)",
           1942,
           243
          ],
          [
           484,
           "Maltese Falcon, The (1941)",
           1941,
           138
          ],
          [
           485,
           "My Fair Lady (1964)",
           1964,
           125
          ],
          [
           486,
           "Sabrina (1954)",
           1954,
           64
          ],
          [
           487,
           "Roman Holiday (1953)",
           1953,
           68
          ],
          [
           488,
           "Sunset Blvd. (1950)",
           1950,
           65
          ],
          [
           489,
           "Notorious (1946)",
           1946,
           52
          ],
          [
           490,
           "To Catch a Thief (1955)",
           1955,
           50
          ],
          [
           491,
           "Adventures of Robin Hood, The (1938)",
           1938,
           67
          ],
          [
           492,
           "East of Eden (1955)",
           1955,
           59
          ],
          [
           493,
           "Thin Man, The (1934)",
           1934,
           60
          ],
          [
           494,
           "His Girl Friday (1940)",
           1940,
           56
          ],
          [
           495,
           "Around the World in 80 Days (1956)",
           1956,
           59
          ],
          [
           496,
           "It's a Wonderful Life (1946)",
           1946,
           231
          ],
          [
           497,
           "Bringing Up Baby (1938)",
           1938,
           68
          ],
          [
           498,
           "African Queen, The (1951)",
           1951,
           152
          ],
          [
           499,
           "Cat on a Hot Tin Roof (1958)",
           1958,
           62
          ],
          [
           500,
           "Fly Away Home (1996)",
           1996,
           31
          ],
          [
           501,
           "Dumbo (1941)",
           1941,
           123
          ],
          [
           502,
           "Bananas (1971)",
           1971,
           57
          ],
          [
           503,
           "Candidate, The (1972)",
           1972,
           39
          ],
          [
           504,
           "Bonnie and Clyde (1967)",
           1967,
           122
          ],
          [
           505,
           "Dial M for Murder (1954)",
           1954,
           68
          ],
          [
           506,
           "Rebel Without a Cause (1955)",
           1955,
           90
          ],
          [
           507,
           "Streetcar Named Desire, A (1951)",
           1951,
           98
          ],
          [
           508,
           "People vs. Larry Flynt, The (1996)",
           1996,
           215
          ],
          [
           509,
           "My Left Foot (1989)",
           1989,
           121
          ],
          [
           510,
           "Magnificent Seven, The (1954)",
           1954,
           121
          ],
          [
           511,
           "Lawrence of Arabia (1962)",
           1962,
           173
          ],
          [
           512,
           "Wings of Desire (1987)",
           1987,
           57
          ],
          [
           513,
           "Third Man, The (1949)",
           1949,
           72
          ],
          [
           514,
           "Annie Hall (1977)",
           1977,
           180
          ],
          [
           515,
           "Boot, Das (1981)",
           1997,
           201
          ],
          [
           516,
           "Local Hero (1983)",
           1983,
           63
          ],
          [
           517,
           "Manhattan (1979)",
           1979,
           91
          ],
          [
           518,
           "Miller's Crossing (1990)",
           1990,
           89
          ],
          [
           519,
           "Treasure of the Sierra Madre, The (1948)",
           1948,
           80
          ],
          [
           520,
           "Great Escape, The (1963)",
           1963,
           124
          ],
          [
           521,
           "Deer Hunter, The (1978)",
           1978,
           120
          ],
          [
           522,
           "Down by Law (1986)",
           1986,
           35
          ],
          [
           523,
           "Cool Hand Luke (1967)",
           1967,
           164
          ],
          [
           524,
           "Great Dictator, The (1940)",
           1940,
           46
          ],
          [
           525,
           "Big Sleep, The (1946)",
           1946,
           73
          ],
          [
           526,
           "Ben-Hur (1959)",
           1959,
           124
          ],
          [
           527,
           "Gandhi (1982)",
           1982,
           195
          ],
          [
           528,
           "Killing Fields, The (1984)",
           1984,
           121
          ],
          [
           529,
           "My Life as a Dog (Mitt liv som hund) (1985)",
           1985,
           93
          ],
          [
           530,
           "Man Who Would Be King, The (1975)",
           1975,
           80
          ],
          [
           531,
           "Shine (1996)",
           1996,
           129
          ],
          [
           532,
           "Kama Sutra: A Tale of Love (1996)",
           1997,
           22
          ],
          [
           533,
           "Daytrippers, The (1996)",
           1997,
           15
          ],
          [
           534,
           "Traveller (1997)",
           1997,
           13
          ],
          [
           535,
           "Addicted to Love (1997)",
           1997,
           54
          ],
          [
           536,
           "Ponette (1996)",
           1997,
           10
          ],
          [
           537,
           "My Own Private Idaho (1991)",
           1991,
           30
          ],
          [
           538,
           "Anastasia (1997)",
           1997,
           66
          ],
          [
           539,
           "Mouse Hunt (1997)",
           1997,
           44
          ],
          [
           540,
           "Money Train (1995)",
           1995,
           43
          ],
          [
           541,
           "Mortal Kombat (1995)",
           1995,
           49
          ],
          [
           542,
           "Pocahontas (1995)",
           1995,
           51
          ],
          [
           543,
           "Misérables, Les (1995)",
           1995,
           21
          ],
          [
           544,
           "Things to Do in Denver when You're Dead (1995)",
           1996,
           71
          ],
          [
           545,
           "Vampire in Brooklyn (1995)",
           1995,
           12
          ],
          [
           546,
           "Broken Arrow (1996)",
           1996,
           254
          ],
          [
           547,
           "Young Poisoner's Handbook, The (1995)",
           1996,
           41
          ],
          [
           548,
           "NeverEnding Story III, The (1994)",
           1996,
           12
          ],
          [
           549,
           "Rob Roy (1995)",
           1995,
           92
          ],
          [
           550,
           "Die Hard: With a Vengeance (1995)",
           1995,
           151
          ],
          [
           551,
           "Lord of Illusions (1995)",
           1995,
           24
          ],
          [
           552,
           "Species (1995)",
           1995,
           45
          ],
          [
           553,
           "Walk in the Clouds, A (1995)",
           1995,
           63
          ],
          [
           554,
           "Waterworld (1995)",
           1995,
           102
          ],
          [
           555,
           "White Man's Burden (1995)",
           1995,
           10
          ],
          [
           556,
           "Wild Bill (1995)",
           1995,
           12
          ],
          [
           557,
           "Farinelli: il castrato (1994)",
           1994,
           17
          ],
          [
           558,
           "Heavenly Creatures (1994)",
           1994,
           70
          ],
          [
           559,
           "Interview with the Vampire (1994)",
           1994,
           137
          ],
          [
           560,
           "Kid in King Arthur's Court, A (1995)",
           1995,
           22
          ],
          [
           561,
           "Mary Shelley's Frankenstein (1994)",
           1994,
           59
          ],
          [
           562,
           "Quick and the Dead, The (1995)",
           1995,
           48
          ],
          [
           563,
           "Stephen King's The Langoliers (1995)",
           1995,
           29
          ],
          [
           564,
           "Tales from the Hood (1995)",
           1995,
           27
          ],
          [
           565,
           "Village of the Damned (1995)",
           1995,
           22
          ],
          [
           566,
           "Clear and Present Danger (1994)",
           1994,
           179
          ],
          [
           567,
           "Wes Craven's New Nightmare (1994)",
           1994,
           35
          ],
          [
           568,
           "Speed (1994)",
           1994,
           230
          ],
          [
           569,
           "Wolf (1994)",
           1994,
           67
          ],
          [
           570,
           "Wyatt Earp (1994)",
           1994,
           50
          ],
          [
           571,
           "Another Stakeout (1993)",
           1993,
           28
          ],
          [
           572,
           "Blown Away (1994)",
           1994,
           29
          ],
          [
           573,
           "Body Snatchers (1993)",
           1993,
           33
          ],
          [
           574,
           "Boxing Helena (1993)",
           1993,
           15
          ],
          [
           575,
           "City Slickers II: The Legend of Curly's Gold (1994)",
           1994,
           44
          ],
          [
           576,
           "Cliffhanger (1993)",
           1993,
           93
          ],
          [
           577,
           "Coneheads (1993)",
           1993,
           41
          ],
          [
           578,
           "Demolition Man (1993)",
           1993,
           92
          ],
          [
           579,
           "Fatal Instinct (1993)",
           1993,
           19
          ],
          [
           580,
           "Englishman Who Went Up a Hill, But Came Down a Mountain, The (1995)",
           1995,
           32
          ],
          [
           581,
           "Kalifornia (1993)",
           1993,
           59
          ],
          [
           582,
           "Piano, The (1993)",
           1993,
           168
          ],
          [
           583,
           "Romeo Is Bleeding (1993)",
           1993,
           37
          ],
          [
           584,
           "Secret Garden, The (1993)",
           1993,
           79
          ],
          [
           585,
           "Son in Law (1993)",
           1993,
           39
          ],
          [
           586,
           "Terminal Velocity (1994)",
           1994,
           34
          ],
          [
           587,
           "Hour of the Pig, The (1993)",
           1993,
           14
          ],
          [
           588,
           "Beauty and the Beast (1991)",
           1991,
           202
          ],
          [
           589,
           "Wild Bunch, The (1969)",
           1969,
           43
          ],
          [
           590,
           "Hellraiser: Bloodline (1996)",
           1996,
           18
          ],
          [
           591,
           "Primal Fear (1996)",
           1996,
           178
          ],
          [
           592,
           "True Crime (1995)",
           1995,
           9
          ],
          [
           593,
           "Stalingrad (1993)",
           1993,
           12
          ],
          [
           594,
           "Heavy (1995)",
           1996,
           5
          ],
          [
           595,
           "Fan, The (1996)",
           1996,
           64
          ],
          [
           596,
           "Hunchback of Notre Dame, The (1996)",
           1996,
           127
          ],
          [
           597,
           "Eraser (1996)",
           1996,
           206
          ],
          [
           598,
           "Big Squeeze, The (1996)",
           1996,
           4
          ],
          [
           599,
           "Police Story 4: Project S (Chao ji ji hua) (1993)",
           1996,
           1
          ],
          [
           600,
           "Daniel Defoe's Robinson Crusoe (1996)",
           1996,
           2
          ],
          [
           601,
           "For Whom the Bell Tolls (1943)",
           1943,
           20
          ],
          [
           602,
           "American in Paris, An (1951)",
           1951,
           50
          ],
          [
           603,
           "Rear Window (1954)",
           1954,
           209
          ],
          [
           604,
           "It Happened One Night (1934)",
           1934,
           81
          ],
          [
           605,
           "Meet Me in St. Louis (1944)",
           1944,
           31
          ],
          [
           606,
           "All About Eve (1950)",
           1950,
           66
          ],
          [
           607,
           "Rebecca (1940)",
           1940,
           66
          ],
          [
           608,
           "Spellbound (1945)",
           1945,
           30
          ],
          [
           609,
           "Father of the Bride (1950)",
           1950,
           60
          ],
          [
           610,
           "Gigi (1958)",
           1958,
           41
          ],
          [
           611,
           "Laura (1944)",
           1944,
           40
          ],
          [
           612,
           "Lost Horizon (1937)",
           1937,
           34
          ],
          [
           613,
           "My Man Godfrey (1936)",
           1936,
           27
          ],
          [
           614,
           "Giant (1956)",
           1956,
           51
          ],
          [
           615,
           "39 Steps, The (1935)",
           1935,
           59
          ],
          [
           616,
           "Night of the Living Dead (1968)",
           1968,
           64
          ],
          [
           617,
           "Blue Angel, The (Blaue Engel, Der) (1930)",
           1930,
           18
          ],
          [
           618,
           "Picnic (1955)",
           1955,
           18
          ],
          [
           619,
           "Extreme Measures (1996)",
           1996,
           64
          ],
          [
           620,
           "Chamber, The (1996)",
           1996,
           43
          ],
          [
           621,
           "Davy Crockett, King of the Wild Frontier (1955)",
           1955,
           11
          ],
          [
           622,
           "Swiss Family Robinson (1960)",
           1960,
           39
          ],
          [
           623,
           "Angels in the Outfield (1994)",
           1994,
           39
          ],
          [
           624,
           "Three Caballeros, The (1945)",
           1945,
           22
          ],
          [
           625,
           "Sword in the Stone, The (1963)",
           1963,
           82
          ],
          [
           626,
           "So Dear to My Heart (1949)",
           1949,
           4
          ],
          [
           627,
           "Robin Hood: Prince of Thieves (1991)",
           1991,
           75
          ],
          [
           628,
           "Sleepers (1996)",
           1996,
           169
          ],
          [
           629,
           "Victor/Victoria (1982)",
           1982,
           77
          ],
          [
           630,
           "Great Race, The (1965)",
           1965,
           31
          ],
          [
           631,
           "Crying Game, The (1992)",
           1992,
           119
          ],
          [
           632,
           "Sophie's Choice (1982)",
           1982,
           58
          ],
          [
           633,
           "Christmas Carol, A (1938)",
           1938,
           69
          ],
          [
           634,
           "Microcosmos: Le peuple de l'herbe (1996)",
           1996,
           24
          ],
          [
           635,
           "Fog, The (1980)",
           1980,
           23
          ],
          [
           636,
           "Escape from New York (1981)",
           1981,
           91
          ],
          [
           637,
           "Howling, The (1981)",
           1981,
           38
          ],
          [
           638,
           "Return of Martin Guerre, The (Retour de Martin Guerre, Le) (1982)",
           1982,
           44
          ],
          [
           639,
           "Tin Drum, The (Blechtrommel, Die) (1979)",
           1979,
           40
          ],
          [
           640,
           "Cook the Thief His Wife & Her Lover, The (1989)",
           1989,
           82
          ],
          [
           641,
           "Paths of Glory (1957)",
           1957,
           33
          ],
          [
           642,
           "Grifters, The (1990)",
           1990,
           89
          ],
          [
           643,
           "The Innocent (1994)",
           1994,
           4
          ],
          [
           644,
           "Thin Blue Line, The (1988)",
           1988,
           35
          ],
          [
           645,
           "Paris Is Burning (1990)",
           1990,
           27
          ],
          [
           646,
           "Once Upon a Time in the West (1969)",
           1969,
           38
          ],
          [
           647,
           "Ran (1985)",
           1985,
           70
          ],
          [
           648,
           "Quiet Man, The (1952)",
           1952,
           67
          ],
          [
           649,
           "Once Upon a Time in America (1984)",
           1984,
           50
          ],
          [
           650,
           "Seventh Seal, The (Sjunde inseglet, Det) (1957)",
           1957,
           72
          ],
          [
           651,
           "Glory (1989)",
           1989,
           171
          ],
          [
           652,
           "Rosencrantz and Guildenstern Are Dead (1990)",
           1990,
           90
          ],
          [
           653,
           "Touch of Evil (1958)",
           1958,
           34
          ],
          [
           654,
           "Chinatown (1974)",
           1974,
           147
          ],
          [
           655,
           "Stand by Me (1986)",
           1986,
           227
          ],
          [
           656,
           "M (1931)",
           1931,
           44
          ],
          [
           657,
           "Manchurian Candidate, The (1962)",
           1962,
           131
          ],
          [
           658,
           "Pump Up the Volume (1990)",
           1990,
           79
          ],
          [
           659,
           "Arsenic and Old Lace (1944)",
           1944,
           115
          ],
          [
           660,
           "Fried Green Tomatoes (1991)",
           1991,
           153
          ],
          [
           661,
           "High Noon (1952)",
           1952,
           88
          ],
          [
           662,
           "Somewhere in Time (1980)",
           1980,
           82
          ],
          [
           663,
           "Being There (1979)",
           1979,
           116
          ],
          [
           664,
           "Paris, Texas (1984)",
           1984,
           46
          ],
          [
           665,
           "Alien 3 (1992)",
           1992,
           100
          ],
          [
           666,
           "Blood For Dracula (Andy Warhol's Dracula) (1974)",
           1974,
           5
          ],
          [
           667,
           "Audrey Rose (1977)",
           1977,
           12
          ],
          [
           668,
           "Blood Beach (1981)",
           1981,
           6
          ],
          [
           669,
           "Body Parts (1991)",
           1991,
           13
          ],
          [
           670,
           "Body Snatchers (1993)",
           1993,
           36
          ],
          [
           671,
           "Bride of Frankenstein (1935)",
           1935,
           46
          ],
          [
           672,
           "Candyman (1992)",
           1992,
           65
          ],
          [
           673,
           "Cape Fear (1962)",
           1962,
           86
          ],
          [
           674,
           "Cat People (1982)",
           1982,
           48
          ],
          [
           675,
           "Nosferatu (Nosferatu, eine Symphonie des Grauens) (1922)",
           1922,
           54
          ],
          [
           676,
           "Crucible, The (1996)",
           1996,
           77
          ],
          [
           677,
           "Fire on the Mountain (1996)",
           1997,
           1
          ],
          [
           678,
           "Volcano (1997)",
           1997,
           219
          ],
          [
           679,
           "Conan the Barbarian (1981)",
           1981,
           107
          ],
          [
           680,
           "Kull the Conqueror (1997)",
           1997,
           34
          ],
          [
           681,
           "Wishmaster (1997)",
           1997,
           27
          ],
          [
           682,
           "I Know What You Did Last Summer (1997)",
           1997,
           100
          ],
          [
           683,
           "Rocket Man (1997)",
           1997,
           49
          ],
          [
           684,
           "In the Line of Fire (1993)",
           1993,
           169
          ],
          [
           685,
           "Executive Decision (1996)",
           1996,
           157
          ],
          [
           686,
           "Perfect World, A (1993)",
           1993,
           50
          ],
          [
           687,
           "McHale's Navy (1997)",
           1997,
           69
          ],
          [
           688,
           "Leave It to Beaver (1997)",
           1997,
           44
          ],
          [
           689,
           "Jackal, The (1997)",
           1997,
           87
          ],
          [
           690,
           "Seven Years in Tibet (1997)",
           1997,
           155
          ],
          [
           691,
           "Dark City (1998)",
           1998,
           16
          ],
          [
           692,
           "American President, The (1995)",
           1995,
           164
          ],
          [
           693,
           "Casino (1995)",
           1995,
           91
          ],
          [
           694,
           "Persuasion (1995)",
           1995,
           44
          ],
          [
           695,
           "Kicking and Screaming (1995)",
           1995,
           13
          ],
          [
           696,
           "City Hall (1996)",
           1996,
           79
          ],
          [
           697,
           "Basketball Diaries, The (1995)",
           1995,
           40
          ],
          [
           698,
           "Browning Version, The (1994)",
           1994,
           10
          ],
          [
           699,
           "Little Women (1994)",
           1994,
           102
          ],
          [
           700,
           "Miami Rhapsody (1995)",
           1995,
           15
          ],
          [
           701,
           "Wonderful, Horrible Life of Leni Riefenstahl, The (1993)",
           1993,
           10
          ],
          [
           702,
           "Barcelona (1994)",
           1994,
           53
          ],
          [
           703,
           "Widows' Peak (1994)",
           1994,
           19
          ],
          [
           704,
           "House of the Spirits, The (1993)",
           1993,
           24
          ],
          [
           705,
           "Singin' in the Rain (1952)",
           1952,
           137
          ],
          [
           706,
           "Bad Moon (1996)",
           1996,
           6
          ],
          [
           707,
           "Enchanted April (1991)",
           1991,
           70
          ],
          [
           708,
           "Sex, Lies, and Videotape (1989)",
           1989,
           101
          ],
          [
           709,
           "Strictly Ballroom (1992)",
           1992,
           104
          ],
          [
           710,
           "Better Off Dead... (1985)",
           1985,
           79
          ],
          [
           711,
           "Substance of Fire, The (1996)",
           1996,
           1
          ],
          [
           712,
           "Tin Men (1987)",
           1987,
           51
          ],
          [
           713,
           "Othello (1995)",
           1995,
           72
          ],
          [
           714,
           "Carrington (1995)",
           1995,
           13
          ],
          [
           715,
           "To Die For (1995)",
           1995,
           87
          ],
          [
           716,
           "Home for the Holidays (1995)",
           1995,
           58
          ],
          [
           717,
           "Juror, The (1996)",
           1996,
           82
          ],
          [
           718,
           "In the Bleak Midwinter (1995)",
           1996,
           16
          ],
          [
           719,
           "Canadian Bacon (1994)",
           1994,
           29
          ],
          [
           720,
           "First Knight (1995)",
           1995,
           86
          ],
          [
           721,
           "Mallrats (1995)",
           1995,
           54
          ],
          [
           722,
           "Nine Months (1995)",
           1995,
           58
          ],
          [
           723,
           "Boys on the Side (1995)",
           1995,
           34
          ],
          [
           724,
           "Circle of Friends (1995)",
           1995,
           76
          ],
          [
           725,
           "Exit to Eden (1994)",
           1994,
           16
          ],
          [
           726,
           "Fluke (1995)",
           1995,
           14
          ],
          [
           727,
           "Immortal Beloved (1994)",
           1994,
           63
          ],
          [
           728,
           "Junior (1994)",
           1994,
           45
          ],
          [
           729,
           "Nell (1994)",
           1994,
           81
          ],
          [
           730,
           "Queen Margot (Reine Margot, La) (1994)",
           1996,
           24
          ],
          [
           731,
           "Corrina, Corrina (1994)",
           1994,
           39
          ],
          [
           732,
           "Dave (1993)",
           1993,
           180
          ],
          [
           733,
           "Go Fish (1994)",
           1994,
           15
          ],
          [
           734,
           "Made in America (1993)",
           1993,
           27
          ],
          [
           735,
           "Philadelphia (1993)",
           1993,
           137
          ],
          [
           736,
           "Shadowlands (1993)",
           1993,
           78
          ],
          [
           737,
           "Sirens (1994)",
           1994,
           59
          ],
          [
           738,
           "Threesome (1994)",
           1994,
           31
          ],
          [
           739,
           "Pretty Woman (1990)",
           1990,
           164
          ],
          [
           740,
           "Jane Eyre (1996)",
           1996,
           63
          ],
          [
           741,
           "Last Supper, The (1995)",
           1996,
           58
          ],
          [
           742,
           "Ransom (1996)",
           1996,
           267
          ],
          [
           743,
           "Crow: City of Angels, The (1996)",
           1996,
           39
          ],
          [
           744,
           "Michael Collins (1996)",
           1996,
           92
          ],
          [
           745,
           "Ruling Class, The (1972)",
           1972,
           16
          ],
          [
           746,
           "Real Genius (1985)",
           1985,
           119
          ],
          [
           747,
           "Benny & Joon (1993)",
           1993,
           102
          ],
          [
           748,
           "Saint, The (1997)",
           1997,
           316
          ],
          [
           749,
           "MatchMaker, The (1997)",
           1997,
           51
          ],
          [
           750,
           "Amistad (1997)",
           1997,
           124
          ],
          [
           751,
           "Tomorrow Never Dies (1997)",
           1997,
           180
          ],
          [
           752,
           "Replacement Killers, The (1998)",
           1998,
           39
          ],
          [
           753,
           "Burnt By the Sun (1994)",
           1994,
           24
          ],
          [
           754,
           "Red Corner (1997)",
           1997,
           57
          ],
          [
           755,
           "Jumanji (1995)",
           1995,
           96
          ],
          [
           756,
           "Father of the Bride Part II (1995)",
           1995,
           128
          ],
          [
           757,
           "Across the Sea of Time (1995)",
           1995,
           4
          ],
          [
           758,
           "Lawnmower Man 2: Beyond Cyberspace (1996)",
           1996,
           21
          ],
          [
           759,
           "Fair Game (1995)",
           1995,
           11
          ],
          [
           760,
           "Screamers (1995)",
           1995,
           46
          ],
          [
           761,
           "Nick of Time (1995)",
           1995,
           44
          ],
          [
           762,
           "Beautiful Girls (1996)",
           1996,
           115
          ],
          [
           763,
           "Happy Gilmore (1996)",
           1996,
           149
          ],
          [
           764,
           "If Lucy Fell (1996)",
           1996,
           29
          ],
          [
           765,
           "Boomerang (1992)",
           1992,
           32
          ],
          [
           766,
           "Man of the Year (1995)",
           1996,
           9
          ],
          [
           767,
           "Addiction, The (1995)",
           1995,
           11
          ],
          [
           768,
           "Casper (1995)",
           1995,
           52
          ],
          [
           769,
           "Congo (1995)",
           1995,
           42
          ],
          [
           770,
           "Devil in a Blue Dress (1995)",
           1995,
           57
          ],
          [
           771,
           "Johnny Mnemonic (1995)",
           1995,
           41
          ],
          [
           772,
           "Kids (1995)",
           1995,
           49
          ],
          [
           773,
           "Mute Witness (1994)",
           1994,
           17
          ],
          [
           774,
           "Prophecy, The (1995)",
           1995,
           32
          ],
          [
           775,
           "Something to Talk About (1995)",
           1995,
           26
          ],
          [
           776,
           "Three Wishes (1995)",
           1995,
           9
          ],
          [
           777,
           "Castle Freak (1995)",
           1995,
           4
          ],
          [
           778,
           "Don Juan DeMarco (1995)",
           1995,
           76
          ],
          [
           779,
           "Drop Zone (1994)",
           1994,
           31
          ],
          [
           780,
           "Dumb & Dumber (1994)",
           1994,
           69
          ],
          [
           781,
           "French Kiss (1995)",
           1995,
           84
          ],
          [
           782,
           "Little Odessa (1994)",
           1994,
           10
          ],
          [
           783,
           "Milk Money (1994)",
           1994,
           37
          ],
          [
           784,
           "Beyond Bedlam (1993)",
           1993,
           2
          ],
          [
           785,
           "Only You (1994)",
           1994,
           39
          ],
          [
           786,
           "Perez Family, The (1995)",
           1995,
           14
          ],
          [
           787,
           "Roommates (1995)",
           1995,
           13
          ],
          [
           788,
           "Relative Fear (1994)",
           1994,
           3
          ],
          [
           789,
           "Swimming with Sharks (1995)",
           1995,
           47
          ],
          [
           790,
           "Tommy Boy (1995)",
           1995,
           66
          ],
          [
           791,
           "Baby-Sitters Club, The (1995)",
           1995,
           10
          ],
          [
           792,
           "Bullets Over Broadway (1994)",
           1994,
           86
          ],
          [
           793,
           "Crooklyn (1994)",
           1994,
           10
          ],
          [
           794,
           "It Could Happen to You (1994)",
           1994,
           46
          ],
          [
           795,
           "Richie Rich (1994)",
           1994,
           21
          ],
          [
           796,
           "Speechless (1994)",
           1994,
           36
          ],
          [
           797,
           "Timecop (1994)",
           1994,
           31
          ],
          [
           798,
           "Bad Company (1995)",
           1995,
           9
          ],
          [
           799,
           "Boys Life (1995)",
           1995,
           5
          ],
          [
           800,
           "In the Mouth of Madness (1995)",
           1995,
           26
          ],
          [
           801,
           "Air Up There, The (1994)",
           1994,
           16
          ],
          [
           802,
           "Hard Target (1993)",
           1993,
           40
          ],
          [
           803,
           "Heaven & Earth (1993)",
           1993,
           9
          ],
          [
           804,
           "Jimmy Hollywood (1994)",
           1994,
           8
          ],
          [
           805,
           "Manhattan Murder Mystery (1993)",
           1993,
           27
          ],
          [
           806,
           "Menace II Society (1993)",
           1993,
           50
          ],
          [
           807,
           "Poetic Justice (1993)",
           1993,
           9
          ],
          [
           808,
           "Program, The (1993)",
           1993,
           31
          ],
          [
           809,
           "Rising Sun (1993)",
           1993,
           43
          ],
          [
           810,
           "Shadow, The (1994)",
           1994,
           45
          ],
          [
           811,
           "Thirty-Two Short Films About Glenn Gould (1993)",
           1993,
           18
          ],
          [
           812,
           "Andre (1994)",
           1994,
           18
          ],
          [
           813,
           "Celluloid Closet, The (1995)",
           1996,
           56
          ],
          [
           814,
           "Great Day in Harlem, A (1994)",
           1994,
           1
          ],
          [
           815,
           "One Fine Day (1996)",
           1996,
           112
          ],
          [
           816,
           "Candyman: Farewell to the Flesh (1995)",
           1995,
           21
          ],
          [
           817,
           "Frisk (1995)",
           1996,
           3
          ],
          [
           818,
           "Girl 6 (1996)",
           1996,
           25
          ],
          [
           819,
           "Eddie (1996)",
           1996,
           40
          ],
          [
           820,
           "Space Jam (1996)",
           1996,
           93
          ],
          [
           821,
           "Mrs. Winterbourne (1996)",
           1996,
           22
          ],
          [
           822,
           "Faces (1968)",
           1968,
           4
          ],
          [
           823,
           "Mulholland Falls (1996)",
           1996,
           82
          ],
          [
           824,
           "Great White Hype, The (1996)",
           1996,
           49
          ],
          [
           825,
           "Arrival, The (1996)",
           1996,
           83
          ],
          [
           826,
           "Phantom, The (1996)",
           1996,
           80
          ],
          [
           827,
           "Daylight (1996)",
           1996,
           57
          ],
          [
           828,
           "Alaska (1996)",
           1996,
           13
          ],
          [
           829,
           "Fled (1996)",
           1996,
           34
          ],
          [
           830,
           "Power 98 (1995)",
           1996,
           1
          ],
          [
           831,
           "Escape from L.A. (1996)",
           1996,
           91
          ],
          [
           832,
           "Bogus (1996)",
           1996,
           22
          ],
          [
           833,
           "Bulletproof (1996)",
           1996,
           49
          ],
          [
           834,
           "Halloween: The Curse of Michael Myers (1995)",
           1995,
           25
          ],
          [
           835,
           "Gay Divorcee, The (1934)",
           1934,
           15
          ],
          [
           836,
           "Ninotchka (1939)",
           1939,
           26
          ],
          [
           837,
           "Meet John Doe (1941)",
           1941,
           25
          ],
          [
           838,
           "In the Line of Duty 2 (1987)",
           1996,
           4
          ],
          [
           839,
           "Loch Ness (1995)",
           1995,
           4
          ],
          [
           840,
           "Last Man Standing (1996)",
           1996,
           53
          ],
          [
           841,
           "Glimmer Man, The (1996)",
           1996,
           48
          ],
          [
           842,
           "Pollyanna (1960)",
           1960,
           27
          ],
          [
           843,
           "Shaggy Dog, The (1959)",
           1959,
           30
          ],
          [
           844,
           "Freeway (1996)",
           1996,
           42
          ],
          [
           845,
           "That Thing You Do! (1996)",
           1996,
           176
          ],
          [
           846,
           "To Gillian on Her 37th Birthday (1996)",
           1996,
           44
          ],
          [
           847,
           "Looking for Richard (1996)",
           1996,
           55
          ],
          [
           848,
           "Murder, My Sweet (1944)",
           1944,
           9
          ],
          [
           849,
           "Days of Thunder (1990)",
           1990,
           53
          ],
          [
           850,
           "Perfect Candidate, A (1996)",
           1996,
           4
          ],
          [
           851,
           "Two or Three Things I Know About Her (1966)",
           1966,
           4
          ],
          [
           852,
           "Bloody Child, The (1996)",
           1996,
           1
          ],
          [
           853,
           "Braindead (1992)",
           1992,
           14
          ],
          [
           854,
           "Bad Taste (1987)",
           1987,
           16
          ],
          [
           855,
           "Diva (1981)",
           1981,
           66
          ],
          [
           856,
           "Night on Earth (1991)",
           1991,
           36
          ],
          [
           857,
           "Paris Was a Woman (1995)",
           1996,
           1
          ],
          [
           858,
           "Amityville: Dollhouse (1996)",
           1996,
           3
          ],
          [
           859,
           "April Fool's Day (1986)",
           1986,
           15
          ],
          [
           860,
           "Believers, The (1987)",
           1987,
           16
          ],
          [
           861,
           "Nosferatu a Venezia (1986)",
           1986,
           3
          ],
          [
           862,
           "Jingle All the Way (1996)",
           1996,
           18
          ],
          [
           863,
           "Garden of Finzi-Contini, The (Giardino dei Finzi-Contini, Il) (1970)",
           1996,
           24
          ],
          [
           864,
           "My Fellow Americans (1996)",
           1996,
           86
          ],
          [
           865,
           "Ice Storm, The (1997)",
           1997,
           21
          ],
          [
           866,
           "Michael (1996)",
           1996,
           119
          ],
          [
           867,
           "Whole Wide World, The (1996)",
           1996,
           6
          ],
          [
           868,
           "Hearts and Minds (1996)",
           1997,
           5
          ],
          [
           869,
           "Fools Rush In (1997)",
           1997,
           24
          ],
          [
           870,
           "Touch (1997)",
           1997,
           9
          ],
          [
           871,
           "Vegas Vacation (1997)",
           1997,
           75
          ],
          [
           872,
           "Love Jones (1997)",
           1997,
           42
          ],
          [
           873,
           "Picture Perfect (1997)",
           1997,
           81
          ],
          [
           874,
           "Career Girls (1997)",
           1997,
           39
          ],
          [
           875,
           "She's So Lovely (1997)",
           1997,
           53
          ],
          [
           876,
           "Money Talks (1997)",
           1997,
           47
          ],
          [
           877,
           "Excess Baggage (1997)",
           1997,
           52
          ],
          [
           878,
           "That Darn Cat! (1997)",
           1997,
           33
          ],
          [
           879,
           "Peacemaker, The (1997)",
           1997,
           136
          ],
          [
           880,
           "Soul Food (1997)",
           1997,
           59
          ],
          [
           881,
           "Money Talks (1997)",
           1997,
           45
          ],
          [
           882,
           "Washington Square (1997)",
           1997,
           34
          ],
          [
           883,
           "Telling Lies in America (1997)",
           1997,
           13
          ],
          [
           884,
           "Year of the Horse (1997)",
           1997,
           7
          ],
          [
           885,
           "Phantoms (1998)",
           1998,
           13
          ],
          [
           886,
           "Life Less Ordinary, A (1997)",
           1997,
           53
          ],
          [
           887,
           "Eve's Bayou (1997)",
           1997,
           64
          ],
          [
           888,
           "One Night Stand (1997)",
           1997,
           15
          ],
          [
           889,
           "Tango Lesson, The (1997)",
           1997,
           13
          ],
          [
           890,
           "Mortal Kombat: Annihilation (1997)",
           1997,
           43
          ],
          [
           891,
           "Bent (1997)",
           1997,
           6
          ],
          [
           892,
           "Flubber (1997)",
           1997,
           53
          ],
          [
           893,
           "For Richer or Poorer (1997)",
           1997,
           14
          ],
          [
           894,
           "Home Alone 3 (1997)",
           1997,
           19
          ],
          [
           895,
           "Scream 2 (1997)",
           1997,
           106
          ],
          [
           896,
           "Sweet Hereafter, The (1997)",
           1997,
           44
          ],
          [
           897,
           "Time Tracers (1995)",
           1995,
           2
          ],
          [
           898,
           "Postman, The (1997)",
           1997,
           58
          ],
          [
           899,
           "Winter Guest, The (1997)",
           1997,
           9
          ],
          [
           900,
           "Kundun (1997)",
           1997,
           42
          ],
          [
           901,
           "Mr. Magoo (1997)",
           1997,
           12
          ],
          [
           902,
           "Big Lebowski, The (1998)",
           1997,
           42
          ],
          [
           903,
           "Afterglow (1997)",
           1997,
           18
          ],
          [
           904,
           "Ma vie en rose (My Life in Pink) (1997)",
           1997,
           20
          ],
          [
           905,
           "Great Expectations (1998)",
           1998,
           27
          ],
          [
           906,
           "Oscar & Lucinda (1997)",
           1997,
           21
          ],
          [
           907,
           "Vermin (1998)",
           1997,
           2
          ],
          [
           908,
           "Half Baked (1998)",
           1998,
           20
          ],
          [
           909,
           "Dangerous Beauty (1998)",
           1998,
           13
          ],
          [
           910,
           "Nil By Mouth (1997)",
           1998,
           4
          ],
          [
           911,
           "Twilight (1998)",
           1998,
           4
          ],
          [
           912,
           "U.S. Marshalls (1998)",
           1998,
           9
          ],
          [
           913,
           "Love and Death on Long Island (1997)",
           1998,
           2
          ],
          [
           914,
           "Wild Things (1998)",
           1998,
           11
          ],
          [
           915,
           "Primary Colors (1998)",
           1998,
           13
          ],
          [
           916,
           "Lost in Space (1998)",
           1998,
           18
          ],
          [
           917,
           "Mercury Rising (1998)",
           1998,
           7
          ],
          [
           918,
           "City of Angels (1998)",
           1998,
           8
          ],
          [
           919,
           "City of Lost Children, The (1995)",
           1995,
           96
          ],
          [
           920,
           "Two Bits (1995)",
           1995,
           5
          ],
          [
           921,
           "Farewell My Concubine (1993)",
           1993,
           46
          ],
          [
           922,
           "Dead Man (1995)",
           1996,
           34
          ],
          [
           923,
           "Raise the Red Lantern (1991)",
           1991,
           58
          ],
          [
           924,
           "White Squall (1996)",
           1996,
           85
          ],
          [
           925,
           "Unforgettable (1996)",
           1996,
           34
          ],
          [
           926,
           "Down Periscope (1996)",
           1996,
           101
          ],
          [
           927,
           "Flower of My Secret, The (Flor de mi secreto, La) (1995)",
           1996,
           6
          ],
          [
           928,
           "Craft, The (1996)",
           1996,
           104
          ],
          [
           929,
           "Harriet the Spy (1996)",
           1996,
           40
          ],
          [
           930,
           "Chain Reaction (1996)",
           1996,
           80
          ],
          [
           931,
           "Island of Dr. Moreau, The (1996)",
           1996,
           57
          ],
          [
           932,
           "First Kid (1996)",
           1996,
           40
          ],
          [
           933,
           "Funeral, The (1996)",
           1996,
           21
          ],
          [
           934,
           "Preacher's Wife, The (1996)",
           1996,
           68
          ],
          [
           935,
           "Paradise Road (1997)",
           1997,
           7
          ],
          [
           936,
           "Brassed Off (1996)",
           1997,
           32
          ],
          [
           937,
           "Thousand Acres, A (1997)",
           1997,
           37
          ],
          [
           938,
           "Smile Like Yours, A (1997)",
           1997,
           25
          ],
          [
           939,
           "Murder in the First (1995)",
           1995,
           60
          ],
          [
           940,
           "Airheads (1994)",
           1994,
           32
          ],
          [
           941,
           "With Honors (1994)",
           1994,
           46
          ],
          [
           942,
           "What's Love Got to Do with It (1993)",
           1993,
           45
          ],
          [
           943,
           "Killing Zoe (1994)",
           1994,
           40
          ],
          [
           944,
           "Renaissance Man (1994)",
           1994,
           43
          ],
          [
           945,
           "Charade (1963)",
           1963,
           40
          ],
          [
           946,
           "Fox and the Hound, The (1981)",
           1981,
           61
          ],
          [
           947,
           "Big Blue, The (Grand bleu, Le) (1988)",
           1988,
           17
          ],
          [
           948,
           "Booty Call (1997)",
           1997,
           48
          ],
          [
           949,
           "How to Make an American Quilt (1995)",
           1995,
           71
          ],
          [
           950,
           "Georgia (1995)",
           1995,
           30
          ],
          [
           951,
           "Indian in the Cupboard, The (1995)",
           1995,
           39
          ],
          [
           952,
           "Blue in the Face (1995)",
           1995,
           45
          ],
          [
           953,
           "Unstrung Heroes (1995)",
           1995,
           22
          ],
          [
           954,
           "Unzipped (1995)",
           1995,
           11
          ],
          [
           955,
           "Before Sunrise (1995)",
           1995,
           49
          ],
          [
           956,
           "Nobody's Fool (1994)",
           1994,
           46
          ],
          [
           957,
           "Pushing Hands (1992)",
           1992,
           2
          ],
          [
           958,
           "To Live (Huozhe) (1994)",
           1994,
           14
          ],
          [
           959,
           "Dazed and Confused (1993)",
           1993,
           64
          ],
          [
           960,
           "Naked (1993)",
           1993,
           25
          ],
          [
           961,
           "Orlando (1993)",
           1993,
           34
          ],
          [
           962,
           "Ruby in Paradise (1993)",
           1993,
           23
          ],
          [
           963,
           "Some Folks Call It a Sling Blade (1993)",
           1993,
           41
          ],
          [
           964,
           "Month by the Lake, A (1995)",
           1995,
           9
          ],
          [
           965,
           "Funny Face (1957)",
           1957,
           21
          ],
          [
           966,
           "Affair to Remember, An (1957)",
           1957,
           26
          ],
          [
           967,
           "Little Lord Fauntleroy (1936)",
           1936,
           12
          ],
          [
           968,
           "Inspector General, The (1949)",
           1949,
           18
          ],
          [
           969,
           "Winnie the Pooh and the Blustery Day (1968)",
           1968,
           75
          ],
          [
           970,
           "Hear My Song (1991)",
           1991,
           8
          ],
          [
           971,
           "Mediterraneo (1991)",
           1991,
           34
          ],
          [
           972,
           "Passion Fish (1992)",
           1992,
           28
          ],
          [
           973,
           "Grateful Dead (1995)",
           1996,
           4
          ],
          [
           974,
           "Eye for an Eye (1996)",
           1996,
           32
          ],
          [
           975,
           "Fear (1996)",
           1996,
           44
          ],
          [
           976,
           "Solo (1996)",
           1996,
           12
          ],
          [
           977,
           "Substitute, The (1996)",
           1996,
           49
          ],
          [
           978,
           "Heaven's Prisoners (1996)",
           1996,
           27
          ],
          [
           979,
           "Trigger Effect, The (1996)",
           1996,
           35
          ],
          [
           980,
           "Mother Night (1996)",
           1996,
           22
          ],
          [
           981,
           "Dangerous Ground (1997)",
           1996,
           8
          ],
          [
           982,
           "Maximum Risk (1996)",
           1996,
           20
          ],
          [
           983,
           "Rich Man's Wife, The (1996)",
           1996,
           15
          ],
          [
           984,
           "Shadow Conspiracy (1997)",
           1997,
           44
          ],
          [
           985,
           "Blood & Wine (1997)",
           1996,
           22
          ],
          [
           986,
           "Turbulence (1997)",
           1997,
           23
          ],
          [
           987,
           "Underworld (1997)",
           1997,
           4
          ],
          [
           988,
           "Beautician and the Beast, The (1997)",
           1997,
           86
          ],
          [
           989,
           "Cats Don't Dance (1997)",
           1997,
           32
          ],
          [
           990,
           "Anna Karenina (1997)",
           1997,
           33
          ],
          [
           991,
           "Keys to Tulsa (1997)",
           1997,
           25
          ],
          [
           992,
           "Head Above Water (1996)",
           1997,
           4
          ],
          [
           993,
           "Hercules (1997)",
           1997,
           66
          ],
          [
           994,
           "Last Time I Committed Suicide, The (1997)",
           1997,
           7
          ],
          [
           995,
           "Kiss Me, Guido (1997)",
           1997,
           31
          ],
          [
           996,
           "Big Green, The (1995)",
           1995,
           14
          ],
          [
           997,
           "Stuart Saves His Family (1995)",
           1995,
           16
          ],
          [
           998,
           "Cabin Boy (1994)",
           1994,
           16
          ],
          [
           999,
           "Clean Slate (1994)",
           1994,
           10
          ],
          [
           1000,
           "Lightning Jack (1994)",
           1994,
           10
          ],
          [
           1001,
           "Stupids, The (1996)",
           1996,
           17
          ],
          [
           1002,
           "Pest, The (1997)",
           1997,
           8
          ],
          [
           1003,
           "That Darn Cat! (1997)",
           1997,
           8
          ],
          [
           1004,
           "Geronimo: An American Legend (1993)",
           1993,
           9
          ],
          [
           1005,
           "Double vie de Véronique, La (Double Life of Veronique, The) (1991)",
           1991,
           22
          ],
          [
           1006,
           "Until the End of the World (Bis ans Ende der Welt) (1991)",
           1991,
           23
          ],
          [
           1007,
           "Waiting for Guffman (1996)",
           1997,
           47
          ],
          [
           1008,
           "I Shot Andy Warhol (1996)",
           1996,
           37
          ],
          [
           1009,
           "Stealing Beauty (1996)",
           1996,
           64
          ],
          [
           1010,
           "Basquiat (1996)",
           1996,
           44
          ],
          [
           1011,
           "2 Days in the Valley (1996)",
           1996,
           93
          ],
          [
           1012,
           "Private Parts (1997)",
           1997,
           100
          ],
          [
           1013,
           "Anaconda (1997)",
           1997,
           38
          ],
          [
           1014,
           "Romy and Michele's High School Reunion (1997)",
           1997,
           98
          ],
          [
           1015,
           "Shiloh (1997)",
           1997,
           12
          ],
          [
           1016,
           "Con Air (1997)",
           1997,
           137
          ],
          [
           1017,
           "Trees Lounge (1996)",
           1996,
           50
          ],
          [
           1018,
           "Tie Me Up! Tie Me Down! (1990)",
           1990,
           32
          ],
          [
           1019,
           "Die xue shuang xiong (Killer, The) (1989)",
           1989,
           31
          ],
          [
           1020,
           "Gaslight (1944)",
           1944,
           35
          ],
          [
           1021,
           "8 1/2 (1963)",
           1963,
           38
          ],
          [
           1022,
           "Fast, Cheap & Out of Control (1997)",
           1997,
           32
          ],
          [
           1023,
           "Fathers' Day (1997)",
           1997,
           31
          ],
          [
           1024,
           "Mrs. Dalloway (1997)",
           1997,
           15
          ],
          [
           1025,
           "Fire Down Below (1997)",
           1997,
           44
          ],
          [
           1026,
           "Lay of the Land, The (1997)",
           1997,
           4
          ],
          [
           1027,
           "Shooter, The (1995)",
           1995,
           3
          ],
          [
           1028,
           "Grumpier Old Men (1995)",
           1995,
           148
          ],
          [
           1029,
           "Jury Duty (1995)",
           1995,
           14
          ],
          [
           1030,
           "Beverly Hillbillies, The (1993)",
           1993,
           20
          ],
          [
           1031,
           "Lassie (1994)",
           1994,
           7
          ],
          [
           1032,
           "Little Big League (1994)",
           1994,
           16
          ],
          [
           1033,
           "Homeward Bound II: Lost in San Francisco (1996)",
           1996,
           32
          ],
          [
           1034,
           "Quest, The (1996)",
           1996,
           27
          ],
          [
           1035,
           "Cool Runnings (1993)",
           1993,
           68
          ],
          [
           1036,
           "Drop Dead Fred (1991)",
           1991,
           24
          ],
          [
           1037,
           "Grease 2 (1982)",
           1982,
           24
          ],
          [
           1038,
           "Switchback (1997)",
           1997,
           17
          ],
          [
           1039,
           "Hamlet (1996)",
           1997,
           90
          ],
          [
           1040,
           "Two if by Sea (1996)",
           1996,
           25
          ],
          [
           1041,
           "Forget Paris (1995)",
           1995,
           62
          ],
          [
           1042,
           "Just Cause (1995)",
           1995,
           28
          ],
          [
           1043,
           "Rent-a-Kid (1995)",
           1995,
           8
          ],
          [
           1044,
           "Paper, The (1994)",
           1994,
           40
          ],
          [
           1045,
           "Fearless (1993)",
           1993,
           25
          ],
          [
           1046,
           "Malice (1993)",
           1993,
           46
          ],
          [
           1047,
           "Multiplicity (1996)",
           1996,
           134
          ],
          [
           1048,
           "She's the One (1996)",
           1996,
           73
          ],
          [
           1049,
           "House Arrest (1996)",
           1996,
           25
          ],
          [
           1050,
           "Ghost and Mrs. Muir, The (1947)",
           1947,
           43
          ],
          [
           1051,
           "Associate, The (1996)",
           1996,
           41
          ],
          [
           1052,
           "Dracula: Dead and Loving It (1995)",
           1995,
           25
          ],
          [
           1053,
           "Now and Then (1995)",
           1995,
           24
          ],
          [
           1054,
           "Mr. Wrong (1996)",
           1996,
           23
          ],
          [
           1055,
           "Simple Twist of Fate, A (1994)",
           1994,
           10
          ],
          [
           1056,
           "Cronos (1992)",
           1992,
           10
          ],
          [
           1057,
           "Pallbearer, The (1996)",
           1996,
           22
          ],
          [
           1058,
           "War, The (1994)",
           1994,
           15
          ],
          [
           1059,
           "Don't Be a Menace to South Central While Drinking Your Juice in the Hood (1996)",
           1996,
           35
          ],
          [
           1060,
           "Adventures of Pinocchio, The (1996)",
           1996,
           39
          ],
          [
           1061,
           "Evening Star, The (1996)",
           1996,
           29
          ],
          [
           1062,
           "Four Days in September (1997)",
           1998,
           12
          ],
          [
           1063,
           "Little Princess, A (1995)",
           1995,
           41
          ],
          [
           1064,
           "Crossfire (1947)",
           1947,
           4
          ],
          [
           1065,
           "Koyaanisqatsi (1983)",
           1983,
           53
          ],
          [
           1066,
           "Balto (1995)",
           1995,
           16
          ],
          [
           1067,
           "Bottle Rocket (1996)",
           1996,
           44
          ],
          [
           1068,
           "Star Maker, The (Uomo delle stelle, L') (1995)",
           1996,
           12
          ],
          [
           1069,
           "Amateur (1994)",
           1994,
           18
          ],
          [
           1070,
           "Living in Oblivion (1995)",
           1995,
           27
          ],
          [
           1071,
           "Party Girl (1995)",
           1995,
           16
          ],
          [
           1072,
           "Pyromaniac's Love Story, A (1995)",
           1995,
           7
          ],
          [
           1073,
           "Shallow Grave (1994)",
           1994,
           66
          ],
          [
           1074,
           "Reality Bites (1994)",
           1994,
           77
          ],
          [
           1075,
           "Man of No Importance, A (1994)",
           1994,
           7
          ],
          [
           1076,
           "Pagemaster, The (1994)",
           1994,
           12
          ],
          [
           1077,
           "Love and a .45 (1994)",
           1994,
           8
          ],
          [
           1078,
           "Oliver & Company (1988)",
           1988,
           22
          ],
          [
           1079,
           "Joe's Apartment (1996)",
           1996,
           45
          ],
          [
           1080,
           "Celestial Clockwork (1994)",
           1996,
           2
          ],
          [
           1081,
           "Curdled (1996)",
           1996,
           8
          ],
          [
           1082,
           "Female Perversions (1996)",
           1997,
           8
          ],
          [
           1083,
           "Albino Alligator (1996)",
           1997,
           6
          ],
          [
           1084,
           "Anne Frank Remembered (1995)",
           1996,
           21
          ],
          [
           1085,
           "Carried Away (1996)",
           1996,
           11
          ],
          [
           1086,
           "It's My Party (1995)",
           1996,
           21
          ],
          [
           1087,
           "Bloodsport 2 (1995)",
           1996,
           10
          ],
          [
           1088,
           "Double Team (1997)",
           1997,
           13
          ],
          [
           1089,
           "Speed 2: Cruise Control (1997)",
           1997,
           38
          ],
          [
           1090,
           "Sliver (1993)",
           1993,
           37
          ],
          [
           1091,
           "Pete's Dragon (1977)",
           1977,
           43
          ],
          [
           1092,
           "Dear God (1996)",
           1996,
           12
          ],
          [
           1093,
           "Live Nude Girls (1995)",
           1996,
           23
          ],
          [
           1094,
           "Thin Line Between Love and Hate, A (1996)",
           1996,
           12
          ],
          [
           1095,
           "High School High (1996)",
           1996,
           29
          ],
          [
           1096,
           "Commandments (1997)",
           1997,
           3
          ],
          [
           1097,
           "Hate (Haine, La) (1995)",
           1996,
           18
          ],
          [
           1098,
           "Flirting With Disaster (1996)",
           1996,
           42
          ],
          [
           1099,
           "Red Firecracker, Green Firecracker (1994)",
           1994,
           13
          ],
          [
           1100,
           "What Happened Was... (1994)",
           1994,
           8
          ],
          [
           1101,
           "Six Degrees of Separation (1993)",
           1993,
           74
          ],
          [
           1102,
           "Two Much (1996)",
           1996,
           7
          ],
          [
           1103,
           "Trust (1990)",
           1990,
           19
          ],
          [
           1104,
           "C'est arrivé près de chez vous (1992)",
           1992,
           4
          ],
          [
           1105,
           "Firestorm (1998)",
           1998,
           18
          ],
          [
           1106,
           "Newton Boys, The (1998)",
           1998,
           4
          ],
          [
           1107,
           "Beyond Rangoon (1995)",
           1995,
           18
          ],
          [
           1108,
           "Feast of July (1995)",
           1995,
           5
          ],
          [
           1109,
           "Death and the Maiden (1994)",
           1994,
           28
          ],
          [
           1110,
           "Tank Girl (1995)",
           1995,
           41
          ],
          [
           1111,
           "Double Happiness (1994)",
           1996,
           7
          ],
          [
           1112,
           "Cobb (1994)",
           1994,
           15
          ],
          [
           1113,
           "Mrs. Parker and the Vicious Circle (1994)",
           1994,
           22
          ],
          [
           1114,
           "Faithful (1996)",
           1996,
           10
          ],
          [
           1115,
           "Twelfth Night (1996)",
           1996,
           29
          ],
          [
           1116,
           "Mark of Zorro, The (1940)",
           1940,
           13
          ],
          [
           1117,
           "Surviving Picasso (1996)",
           1996,
           19
          ],
          [
           1118,
           "Up in Smoke (1978)",
           1978,
           47
          ],
          [
           1119,
           "Some Kind of Wonderful (1987)",
           1987,
           59
          ],
          [
           1120,
           "I'm Not Rappaport (1996)",
           1996,
           17
          ],
          [
           1121,
           "Umbrellas of Cherbourg, The (Parapluies de Cherbourg, Les) (1964)",
           1996,
           21
          ],
          [
           1122,
           "They Made Me a Criminal (1939)",
           1939,
           1
          ],
          [
           1123,
           "Last Time I Saw Paris, The (1954)",
           1954,
           3
          ],
          [
           1124,
           "Farewell to Arms, A (1932)",
           1932,
           12
          ],
          [
           1125,
           "Innocents, The (1961)",
           1961,
           4
          ],
          [
           1126,
           "Old Man and the Sea, The (1958)",
           1958,
           32
          ],
          [
           1127,
           "Truman Show, The (1998)",
           1998,
           11
          ],
          [
           1128,
           "Heidi Fleiss: Hollywood Madam (1995) ",
           1996,
           13
          ],
          [
           1129,
           "Chungking Express (1994)",
           1996,
           28
          ],
          [
           1130,
           "Jupiter's Wife (1994)",
           1996,
           1
          ],
          [
           1131,
           "Safe (1995)",
           1995,
           13
          ],
          [
           1132,
           "Feeling Minnesota (1996)",
           1996,
           32
          ],
          [
           1133,
           "Escape to Witch Mountain (1975)",
           1975,
           30
          ],
          [
           1134,
           "Get on the Bus (1996)",
           1996,
           38
          ],
          [
           1135,
           "Doors, The (1991)",
           1991,
           46
          ],
          [
           1136,
           "Ghosts of Mississippi (1996)",
           1996,
           29
          ],
          [
           1137,
           "Beautiful Thing (1996)",
           1996,
           29
          ],
          [
           1138,
           "Best Men (1997)",
           1997,
           5
          ],
          [
           1139,
           "Hackers (1995)",
           1995,
           33
          ],
          [
           1140,
           "Road to Wellville, The (1994)",
           1994,
           17
          ],
          [
           1141,
           "War Room, The (1993)",
           1993,
           9
          ],
          [
           1142,
           "When We Were Kings (1996)",
           1997,
           44
          ],
          [
           1143,
           "Hard Eight (1996)",
           1997,
           15
          ],
          [
           1144,
           "Quiet Room, The (1996)",
           1997,
           3
          ],
          [
           1145,
           "Blue Chips (1994)",
           1994,
           9
          ],
          [
           1146,
           "Calendar Girl (1993)",
           1993,
           3
          ],
          [
           1147,
           "My Family (1995)",
           1995,
           21
          ],
          [
           1148,
           "Tom & Viv (1994)",
           1994,
           9
          ],
          [
           1149,
           "Walkabout (1971)",
           1971,
           26
          ],
          [
           1150,
           "Last Dance (1996)",
           1996,
           9
          ],
          [
           1151,
           "Original Gangstas (1996)",
           1996,
           7
          ],
          [
           1152,
           "In Love and War (1996)",
           1997,
           28
          ],
          [
           1153,
           "Backbeat (1993)",
           1993,
           19
          ],
          [
           1154,
           "Alphaville (1965)",
           1965,
           12
          ],
          [
           1155,
           "Rendezvous in Paris (Rendez-vous de Paris, Les) (1995)",
           1996,
           3
          ],
          [
           1156,
           "Cyclo (1995)",
           1996,
           1
          ],
          [
           1157,
           "Relic, The (1997)",
           1997,
           25
          ],
          [
           1158,
           "Fille seule, La (A Single Girl) (1995)",
           1996,
           4
          ],
          [
           1159,
           "Stalker (1979)",
           1979,
           11
          ],
          [
           1160,
           "Love! Valour! Compassion! (1997)",
           1997,
           26
          ],
          [
           1161,
           "Palookaville (1996)",
           1996,
           13
          ],
          [
           1162,
           "Phat Beach (1996)",
           1996,
           5
          ],
          [
           1163,
           "Portrait of a Lady, The (1996)",
           1996,
           25
          ],
          [
           1164,
           "Zeus and Roxanne (1997)",
           1997,
           6
          ],
          [
           1165,
           "Big Bully (1996)",
           1996,
           14
          ],
          [
           1166,
           "Love & Human Remains (1993)",
           1993,
           12
          ],
          [
           1167,
           "Sum of Us, The (1994)",
           1994,
           11
          ],
          [
           1168,
           "Little Buddha (1993)",
           1993,
           22
          ],
          [
           1169,
           "Fresh (1994)",
           1994,
           10
          ],
          [
           1170,
           "Spanking the Monkey (1994)",
           1994,
           27
          ],
          [
           1171,
           "Wild Reeds (1994)",
           1994,
           14
          ],
          [
           1172,
           "Women, The (1939)",
           1939,
           15
          ],
          [
           1173,
           "Bliss (1997)",
           1997,
           7
          ],
          [
           1174,
           "Caught (1996)",
           1996,
           8
          ],
          [
           1175,
           "Hugo Pool (1997)",
           1997,
           5
          ],
          [
           1176,
           "Welcome To Sarajevo (1997)",
           1997,
           22
          ],
          [
           1177,
           "Dunston Checks In (1996)",
           1996,
           7
          ],
          [
           1178,
           "Major Payne (1994)",
           1994,
           19
          ],
          [
           1179,
           "Man of the House (1995)",
           1995,
           9
          ],
          [
           1180,
           "I Love Trouble (1994)",
           1994,
           10
          ],
          [
           1181,
           "Low Down Dirty Shame, A (1994)",
           1994,
           10
          ],
          [
           1182,
           "Cops and Robbersons (1994)",
           1994,
           13
          ],
          [
           1183,
           "Cowboy Way, The (1994)",
           1994,
           19
          ],
          [
           1184,
           "Endless Summer 2, The (1994)",
           1994,
           10
          ],
          [
           1185,
           "In the Army Now (1994)",
           1994,
           18
          ],
          [
           1186,
           "Inkwell, The (1994)",
           1994,
           3
          ],
          [
           1187,
           "Switchblade Sisters (1975)",
           1975,
           13
          ],
          [
           1188,
           "Young Guns II (1990)",
           1990,
           44
          ],
          [
           1189,
           "Prefontaine (1997)",
           1997,
           3
          ],
          [
           1190,
           "That Old Feeling (1997)",
           1997,
           11
          ],
          [
           1191,
           "Letter From Death Row, A (1998)",
           1998,
           3
          ],
          [
           1192,
           "Boys of St. Vincent, The (1993)",
           1993,
           13
          ],
          [
           1193,
           "Before the Rain (Pred dozhdot) (1994)",
           1994,
           10
          ],
          [
           1194,
           "Once Were Warriors (1994)",
           1994,
           31
          ],
          [
           1195,
           "Strawberry and Chocolate (Fresa y chocolate) (1993)",
           1993,
           11
          ],
          [
           1196,
           "Savage Nights (Nuits fauves, Les) (1992)",
           1992,
           3
          ],
          [
           1197,
           "Family Thing, A (1996)",
           1996,
           45
          ],
          [
           1198,
           "Purple Noon (1960)",
           1960,
           7
          ],
          [
           1199,
           "Cemetery Man (Dellamorte Dellamore) (1994)",
           1996,
           23
          ],
          [
           1200,
           "Kim (1950)",
           1950,
           7
          ],
          [
           1201,
           "Marlene Dietrich: Shadow and Light (1996) ",
           1996,
           1
          ],
          [
           1202,
           "Maybe, Maybe Not (Bewegte Mann, Der) (1994)",
           1996,
           8
          ],
          [
           1203,
           "Top Hat (1935)",
           1935,
           21
          ],
          [
           1204,
           "To Be or Not to Be (1942)",
           1942,
           18
          ],
          [
           1205,
           "Secret Agent, The (1996)",
           1996,
           6
          ],
          [
           1206,
           "Amos & Andrew (1993)",
           1993,
           19
          ],
          [
           1207,
           "Jade (1995)",
           1995,
           17
          ],
          [
           1208,
           "Kiss of Death (1995)",
           1995,
           20
          ],
          [
           1209,
           "Mixed Nuts (1994)",
           1994,
           15
          ],
          [
           1210,
           "Virtuosity (1995)",
           1995,
           38
          ],
          [
           1211,
           "Blue Sky (1994)",
           1994,
           12
          ],
          [
           1212,
           "Flesh and Bone (1993)",
           1993,
           6
          ],
          [
           1213,
           "Guilty as Sin (1993)",
           1993,
           6
          ],
          [
           1214,
           "In the Realm of the Senses (Ai no corrida) (1976)",
           1976,
           9
          ],
          [
           1215,
           "Barb Wire (1996)",
           1996,
           30
          ],
          [
           1216,
           "Kissed (1996)",
           1997,
           6
          ],
          [
           1217,
           "Assassins (1995)",
           1995,
           39
          ],
          [
           1218,
           "Friday (1995)",
           1995,
           26
          ],
          [
           1219,
           "Goofy Movie, A (1995)",
           1995,
           20
          ],
          [
           1220,
           "Higher Learning (1995)",
           1995,
           30
          ],
          [
           1221,
           "When a Man Loves a Woman (1994)",
           1994,
           39
          ],
          [
           1222,
           "Judgment Night (1993)",
           1993,
           25
          ],
          [
           1223,
           "King of the Hill (1993)",
           1993,
           4
          ],
          [
           1224,
           "Scout, The (1994)",
           1994,
           12
          ],
          [
           1225,
           "Angus (1995)",
           1995,
           14
          ],
          [
           1226,
           "Night Falls on Manhattan (1997)",
           1997,
           32
          ],
          [
           1227,
           "Awfully Big Adventure, An (1995)",
           1995,
           8
          ],
          [
           1228,
           "Under Siege 2: Dark Territory (1995)",
           1995,
           48
          ],
          [
           1229,
           "Poison Ivy II (1995)",
           1995,
           13
          ],
          [
           1230,
           "Ready to Wear (Pret-A-Porter) (1994)",
           1994,
           18
          ],
          [
           1231,
           "Marked for Death (1990)",
           1990,
           22
          ],
          [
           1232,
           "Madonna: Truth or Dare (1991)",
           1991,
           17
          ],
          [
           1233,
           "Nénette et Boni (1996)",
           1996,
           6
          ],
          [
           1234,
           "Chairman of the Board (1998)",
           1998,
           8
          ],
          [
           1235,
           "Big Bang Theory, The (1994)",
           1994,
           1
          ],
          [
           1236,
           "Other Voices, Other Rooms (1997)",
           1997,
           1
          ],
          [
           1237,
           "Twisted (1996)",
           1996,
           6
          ],
          [
           1238,
           "Full Speed (1996)",
           1996,
           8
          ],
          [
           1239,
           "Cutthroat Island (1995)",
           1995,
           18
          ],
          [
           1240,
           "Ghost in the Shell (Kokaku kidotai) (1995)",
           1996,
           26
          ],
          [
           1241,
           "Van, The (1996)",
           1997,
           6
          ],
          [
           1242,
           "Old Lady Who Walked in the Sea, The (Vieille qui marchait dans la mer, La) (1991)",
           1991,
           5
          ],
          [
           1243,
           "Night Flier (1997)",
           1998,
           7
          ],
          [
           1244,
           "Metro (1997)",
           1997,
           36
          ],
          [
           1245,
           "Gridlock'd (1997)",
           1997,
           19
          ],
          [
           1246,
           "Bushwhacked (1995)",
           1995,
           7
          ],
          [
           1247,
           "Bad Girls (1994)",
           1994,
           6
          ],
          [
           1248,
           "Blink (1994)",
           1994,
           19
          ],
          [
           1249,
           "For Love or Money (1993)",
           1993,
           12
          ],
          [
           1250,
           "Best of the Best 3: No Turning Back (1995)",
           1995,
           6
          ],
          [
           1251,
           "A Chef in Love (1996)",
           1997,
           8
          ],
          [
           1252,
           "Contempt (Mépris, Le) (1963)",
           1997,
           9
          ],
          [
           1253,
           "Tie That Binds, The (1995)",
           1995,
           7
          ],
          [
           1254,
           "Gone Fishin' (1997)",
           1997,
           11
          ],
          [
           1255,
           "Broken English (1996)",
           1997,
           8
          ],
          [
           1256,
           "Designated Mourner, The (1997)",
           1997,
           3
          ],
          [
           1257,
           "Designated Mourner, The (1997)",
           1997,
           4
          ],
          [
           1258,
           "Trial and Error (1997)",
           1997,
           23
          ],
          [
           1259,
           "Pie in the Sky (1995)",
           1996,
           4
          ],
          [
           1260,
           "Total Eclipse (1995)",
           1995,
           4
          ],
          [
           1261,
           "Run of the Country, The (1995)",
           1995,
           4
          ],
          [
           1262,
           "Walking and Talking (1996)",
           1996,
           8
          ],
          [
           1263,
           "Foxfire (1996)",
           1996,
           15
          ],
          [
           1264,
           "Nothing to Lose (1994)",
           1996,
           7
          ],
          [
           1265,
           "Star Maps (1997)",
           1997,
           19
          ],
          [
           1266,
           "Bread and Chocolate (Pane e cioccolata) (1973)",
           1973,
           12
          ],
          [
           1267,
           "Clockers (1995)",
           1995,
           33
          ],
          [
           1268,
           "Bitter Moon (1992)",
           1992,
           10
          ],
          [
           1269,
           "Love in the Afternoon (1957)",
           1957,
           10
          ],
          [
           1270,
           "Life with Mikey (1993)",
           1993,
           7
          ],
          [
           1271,
           "North (1994)",
           1994,
           7
          ],
          [
           1272,
           "Talking About Sex (1994)",
           1994,
           5
          ],
          [
           1273,
           "Color of Night (1994)",
           1994,
           15
          ],
          [
           1274,
           "Robocop 3 (1993)",
           1993,
           11
          ],
          [
           1275,
           "Killer (Bulletproof Heart) (1994)",
           1994,
           4
          ],
          [
           1276,
           "Sunset Park (1996)",
           1996,
           8
          ],
          [
           1277,
           "Set It Off (1996)",
           1996,
           19
          ],
          [
           1278,
           "Selena (1997)",
           1997,
           16
          ],
          [
           1279,
           "Wild America (1997)",
           1997,
           9
          ],
          [
           1280,
           "Gang Related (1997)",
           1997,
           16
          ],
          [
           1281,
           "Manny & Lo (1996)",
           1996,
           13
          ],
          [
           1282,
           "Grass Harp, The (1995)",
           1996,
           9
          ],
          [
           1283,
           "Out to Sea (1997)",
           1997,
           19
          ],
          [
           1284,
           "Before and After (1996)",
           1996,
           26
          ],
          [
           1285,
           "Princess Caraboo (1994)",
           1994,
           15
          ],
          [
           1286,
           "Shall We Dance? (1937)",
           1937,
           17
          ],
          [
           1287,
           "Ed (1996)",
           1996,
           6
          ],
          [
           1288,
           "Denise Calls Up (1995)",
           1996,
           7
          ],
          [
           1289,
           "Jack and Sarah (1995)",
           1996,
           7
          ],
          [
           1290,
           "Country Life (1994)",
           1994,
           2
          ],
          [
           1291,
           "Celtic Pride (1996)",
           1996,
           15
          ],
          [
           1292,
           "Simple Wish, A (1997)",
           1997,
           3
          ],
          [
           1293,
           "Star Kid (1997)",
           1998,
           3
          ],
          [
           1294,
           "Ayn Rand: A Sense of Life (1997)",
           1998,
           7
          ],
          [
           1295,
           "Kicked in the Head (1997)",
           1997,
           7
          ],
          [
           1296,
           "Indian Summer (1996)",
           1996,
           20
          ],
          [
           1297,
           "Love Affair (1994)",
           1994,
           12
          ],
          [
           1298,
           "Band Wagon, The (1953)",
           1953,
           9
          ],
          [
           1299,
           "Penny Serenade (1941)",
           1941,
           8
          ],
          [
           1300,
           "'Til There Was You (1997)",
           1997,
           9
          ],
          [
           1301,
           "Stripes (1981)",
           1981,
           5
          ],
          [
           1302,
           "Late Bloomers (1996)",
           1997,
           5
          ],
          [
           1303,
           "Getaway, The (1994)",
           1994,
           18
          ],
          [
           1304,
           "New York Cop (1996)",
           1996,
           2
          ],
          [
           1305,
           "National Lampoon's Senior Trip (1995)",
           1995,
           7
          ],
          [
           1306,
           "Delta of Venus (1994)",
           1994,
           2
          ],
          [
           1307,
           "Carmen Miranda: Bananas Is My Business (1994)",
           1994,
           2
          ],
          [
           1308,
           "Babyfever (1994)",
           1994,
           2
          ],
          [
           1309,
           "Very Natural Thing, A (1974)",
           1974,
           1
          ],
          [
           1310,
           "Walk in the Sun, A (1945)",
           1945,
           1
          ],
          [
           1311,
           "Waiting to Exhale (1995)",
           1996,
           16
          ],
          [
           1312,
           "Pompatus of Love, The (1996)",
           1996,
           7
          ],
          [
           1313,
           "Palmetto (1998)",
           1998,
           14
          ],
          [
           1314,
           "Surviving the Game (1994)",
           1994,
           11
          ],
          [
           1315,
           "Inventing the Abbotts (1997)",
           1997,
           23
          ],
          [
           1316,
           "Horse Whisperer, The (1998)",
           1997,
           7
          ],
          [
           1317,
           "Journey of August King, The (1995)",
           1996,
           4
          ],
          [
           1318,
           "Catwalk (1995)",
           1996,
           3
          ],
          [
           1319,
           "Neon Bible, The (1995)",
           1996,
           4
          ],
          [
           1320,
           "Homage (1995)",
           1996,
           1
          ],
          [
           1321,
           "Open Season (1996)",
           1996,
           2
          ],
          [
           1322,
           "Metisse (Café au Lait) (1993)",
           1993,
           6
          ],
          [
           1323,
           "Wooden Man's Bride, The (Wu Kui) (1994)",
           1994,
           3
          ],
          [
           1324,
           "Loaded (1994)",
           1996,
           5
          ],
          [
           1325,
           "August (1996)",
           1996,
           1
          ],
          [
           1326,
           "Boys (1996)",
           1996,
           6
          ],
          [
           1327,
           "Captives (1994)",
           1994,
           3
          ],
          [
           1328,
           "Of Love and Shadows (1994)",
           1996,
           6
          ],
          [
           1329,
           "Low Life, The (1994)",
           1996,
           1
          ],
          [
           1330,
           "An Unforgettable Summer (1994)",
           1994,
           4
          ],
          [
           1331,
           "Last Klezmer: Leopold Kozlowski, His Life and Music, The (1995)",
           1995,
           4
          ],
          [
           1332,
           "My Life and Times With Antonin Artaud (En compagnie d'Antonin Artaud) (1993)",
           1993,
           2
          ],
          [
           1333,
           "Midnight Dancers (Sibak) (1994)",
           1994,
           5
          ],
          [
           1334,
           "Somebody to Love (1994)",
           1996,
           2
          ],
          [
           1335,
           "American Buffalo (1996)",
           1996,
           11
          ],
          [
           1336,
           "Kazaam (1996)",
           1996,
           10
          ],
          [
           1337,
           "Larger Than Life (1996)",
           1996,
           9
          ],
          [
           1338,
           "Two Deaths (1995)",
           1996,
           4
          ],
          [
           1339,
           "Stefano Quantestorie (1993)",
           1993,
           1
          ],
          [
           1340,
           "Crude Oasis, The (1995)",
           1995,
           1
          ],
          [
           1341,
           "Hedd Wyn (1992)",
           1992,
           1
          ],
          [
           1342,
           "Convent, The (Convento, O) (1995)",
           1996,
           2
          ],
          [
           1343,
           "Lotto Land (1995)",
           1995,
           1
          ],
          [
           1344,
           "Story of Xinghua, The (1993)",
           1993,
           5
          ],
          [
           1345,
           "Day the Sun Turned Cold, The (Tianguo niezi) (1994)",
           1994,
           2
          ],
          [
           1346,
           "Dingo (1992)",
           1992,
           5
          ],
          [
           1347,
           "Ballad of Narayama, The (Narayama Bushiko) (1958)",
           1958,
           4
          ],
          [
           1348,
           "Every Other Weekend (1990)",
           1990,
           1
          ],
          [
           1349,
           "Mille bolle blu (1993)",
           1993,
           1
          ],
          [
           1350,
           "Crows and Sparrows (1949)",
           1949,
           2
          ],
          [
           1351,
           "Lover's Knot (1996)",
           1996,
           3
          ],
          [
           1352,
           "Shadow of Angels (Schatten der Engel) (1976)",
           1976,
           1
          ],
          [
           1353,
           "1-900 (1994)",
           1994,
           5
          ],
          [
           1354,
           "Venice/Venice (1992)",
           1992,
           2
          ],
          [
           1355,
           "Infinity (1996)",
           1996,
           6
          ],
          [
           1356,
           "Ed's Next Move (1996)",
           1996,
           3
          ],
          [
           1357,
           "For the Moment (1994)",
           1994,
           3
          ],
          [
           1358,
           "The Deadly Cure (1996)",
           1996,
           2
          ],
          [
           1359,
           "Boys in Venice (1996)",
           1996,
           2
          ],
          [
           1360,
           "Sexual Life of the Belgians, The (1994)",
           1994,
           2
          ],
          [
           1361,
           "Search for One-eye Jimmy, The (1996)",
           1996,
           3
          ],
          [
           1362,
           "American Strays (1996)",
           1996,
           2
          ],
          [
           1363,
           "Leopard Son, The (1996)",
           1996,
           1
          ],
          [
           1364,
           "Bird of Prey (1996)",
           1996,
           1
          ],
          [
           1365,
           "Johnny 100 Pesos (1993)",
           1993,
           2
          ],
          [
           1366,
           "JLG/JLG - autoportrait de décembre (1994)",
           1994,
           1
          ],
          [
           1367,
           "Faust (1994)",
           1994,
           5
          ],
          [
           1368,
           "Mina Tannenbaum (1994)",
           1994,
           6
          ],
          [
           1369,
           "Forbidden Christ, The (Cristo proibito, Il) (1950)",
           1950,
           4
          ],
          [
           1370,
           "I Can't Sleep (J'ai pas sommeil) (1994)",
           1994,
           3
          ],
          [
           1371,
           "Machine, The (1994)",
           1994,
           2
          ],
          [
           1372,
           "Stranger, The (1994)",
           1994,
           3
          ],
          [
           1373,
           "Good Morning (1971)",
           1971,
           1
          ],
          [
           1374,
           "Falling in Love Again (1980)",
           1980,
           2
          ],
          [
           1375,
           "Cement Garden, The (1993)",
           1993,
           10
          ],
          [
           1376,
           "Meet Wally Sparks (1997)",
           1997,
           7
          ],
          [
           1377,
           "Hotel de Love (1996)",
           1997,
           4
          ],
          [
           1378,
           "Rhyme & Reason (1997)",
           1997,
           5
          ],
          [
           1379,
           "Love and Other Catastrophes (1996)",
           1997,
           7
          ],
          [
           1380,
           "Hollow Reed (1996)",
           1997,
           6
          ],
          [
           1381,
           "Losing Chase (1996)",
           1996,
           8
          ],
          [
           1382,
           "Bonheur, Le (1965)",
           1997,
           4
          ],
          [
           1383,
           "Second Jungle Book: Mowgli & Baloo, The (1997)",
           1997,
           6
          ],
          [
           1384,
           "Squeeze (1996)",
           1997,
           3
          ],
          [
           1385,
           "Roseanna's Grave (For Roseanna) (1997)",
           1997,
           5
          ],
          [
           1386,
           "Tetsuo II: Body Hammer (1992)",
           1997,
           6
          ],
          [
           1387,
           "Fall (1997)",
           1997,
           3
          ],
          [
           1388,
           "Gabbeh (1996)",
           1997,
           6
          ],
          [
           1389,
           "Mondo (1996)",
           1997,
           3
          ],
          [
           1390,
           "Innocent Sleep, The (1995)",
           1997,
           2
          ],
          [
           1391,
           "For Ever Mozart (1996)",
           1997,
           3
          ],
          [
           1392,
           "Locusts, The (1997)",
           1997,
           5
          ],
          [
           1393,
           "Stag (1997)",
           1997,
           9
          ],
          [
           1394,
           "Swept from the Sea (1997)",
           1997,
           7
          ],
          [
           1395,
           "Hurricane Streets (1998)",
           1998,
           6
          ],
          [
           1396,
           "Stonewall (1995)",
           1996,
           5
          ],
          [
           1397,
           "Of Human Bondage (1934)",
           1934,
           5
          ],
          [
           1398,
           "Anna (1996)",
           1996,
           2
          ],
          [
           1399,
           "Stranger in the House (1997)",
           1997,
           7
          ],
          [
           1400,
           "Picture Bride (1995)",
           1995,
           10
          ],
          [
           1401,
           "M. Butterfly (1993)",
           1993,
           18
          ],
          [
           1402,
           "Ciao, Professore! (1993)",
           1993,
           4
          ],
          [
           1403,
           "Caro Diario (Dear Diary) (1994)",
           1994,
           4
          ],
          [
           1404,
           "Withnail and I (1987)",
           1987,
           13
          ],
          [
           1405,
           "Boy's Life 2 (1997)",
           1997,
           6
          ],
          [
           1406,
           "When Night Is Falling (1995)",
           1995,
           5
          ],
          [
           1407,
           "Specialist, The (1994)",
           1994,
           20
          ],
          [
           1408,
           "Gordy (1995)",
           1995,
           3
          ],
          [
           1409,
           "Swan Princess, The (1994)",
           1994,
           7
          ],
          [
           1410,
           "Harlem (1993)",
           1993,
           4
          ],
          [
           1411,
           "Barbarella (1968)",
           1968,
           28
          ],
          [
           1412,
           "Land Before Time III: The Time of the Great Giving (1995) (V)",
           1995,
           6
          ],
          [
           1413,
           "Street Fighter (1994)",
           1994,
           8
          ],
          [
           1414,
           "Coldblooded (1995)",
           1995,
           1
          ],
          [
           1415,
           "Next Karate Kid, The (1994)",
           1994,
           9
          ],
          [
           1416,
           "No Escape (1994)",
           1994,
           5
          ],
          [
           1417,
           "Turning, The (1992)",
           1997,
           2
          ],
          [
           1418,
           "Joy Luck Club, The (1993)",
           1993,
           3
          ],
          [
           1419,
           "Highlander III: The Sorcerer (1994)",
           1994,
           16
          ],
          [
           1420,
           "Gilligan's Island: The Movie (1998)",
           1997,
           3
          ],
          [
           1421,
           "My Crazy Life (Mi vida loca) (1993)",
           1993,
           11
          ],
          [
           1422,
           "Suture (1993)",
           1993,
           4
          ],
          [
           1423,
           "Walking Dead, The (1995)",
           1995,
           4
          ],
          [
           1424,
           "I Like It Like That (1994)",
           1994,
           3
          ],
          [
           1425,
           "I'll Do Anything (1994)",
           1994,
           10
          ],
          [
           1426,
           "Grace of My Heart (1996)",
           1996,
           8
          ],
          [
           1427,
           "Drunks (1995)",
           1996,
           5
          ],
          [
           1428,
           "SubUrbia (1997)",
           1997,
           12
          ],
          [
           1429,
           "Sliding Doors (1998)",
           1998,
           4
          ],
          [
           1430,
           "Ill Gotten Gains (1997)",
           1997,
           3
          ],
          [
           1431,
           "Legal Deceit (1997)",
           1997,
           5
          ],
          [
           1432,
           "Mighty, The (1998)",
           1998,
           3
          ],
          [
           1433,
           "Men of Means (1998)",
           1997,
           2
          ],
          [
           1434,
           "Shooting Fish (1997)",
           1998,
           10
          ],
          [
           1435,
           "Steal Big, Steal Little (1995)",
           1995,
           7
          ],
          [
           1436,
           "Mr. Jones (1993)",
           1993,
           2
          ],
          [
           1437,
           "House Party 3 (1994)",
           1994,
           9
          ],
          [
           1438,
           "Panther (1995)",
           1995,
           5
          ],
          [
           1439,
           "Jason's Lyric (1994)",
           1994,
           8
          ],
          [
           1440,
           "Above the Rim (1994)",
           1994,
           5
          ],
          [
           1441,
           "Moonlight and Valentino (1995)",
           1995,
           7
          ],
          [
           1442,
           "Scarlet Letter, The (1995)",
           1995,
           5
          ],
          [
           1443,
           "8 Seconds (1994)",
           1994,
           4
          ],
          [
           1444,
           "That Darn Cat! (1965)",
           1965,
           19
          ],
          [
           1445,
           "Ladybird Ladybird (1994)",
           1994,
           4
          ],
          [
           1446,
           "Bye Bye, Love (1995)",
           1995,
           15
          ],
          [
           1447,
           "Century (1993)",
           1993,
           1
          ],
          [
           1448,
           "My Favorite Season (1993)",
           1996,
           3
          ],
          [
           1449,
           "Pather Panchali (1955)",
           1996,
           8
          ],
          [
           1450,
           "Golden Earrings (1947)",
           1947,
           2
          ],
          [
           1451,
           "Foreign Correspondent (1940)",
           1940,
           15
          ],
          [
           1452,
           "Lady of Burlesque (1943)",
           1943,
           1
          ],
          [
           1453,
           "Angel on My Shoulder (1946)",
           1946,
           1
          ],
          [
           1454,
           "Angel and the Badman (1947)",
           1947,
           6
          ],
          [
           1455,
           "Outlaw, The (1943)",
           1943,
           2
          ],
          [
           1456,
           "Beat the Devil (1954)",
           1954,
           7
          ],
          [
           1457,
           "Love Is All There Is (1996)",
           1996,
           1
          ],
          [
           1458,
           "Damsel in Distress, A (1937)",
           1937,
           1
          ],
          [
           1459,
           "Madame Butterfly (1995)",
           1996,
           7
          ],
          [
           1460,
           "Sleepover (1995)",
           1996,
           1
          ],
          [
           1461,
           "Here Comes Cookie (1935)",
           1935,
           1
          ],
          [
           1462,
           "Thieves (Voleurs, Les) (1996)",
           1996,
           7
          ],
          [
           1463,
           "Boys, Les (1997)",
           1997,
           3
          ],
          [
           1464,
           "Stars Fell on Henrietta, The (1995)",
           1995,
           3
          ],
          [
           1465,
           "Last Summer in the Hamptons (1995)",
           1995,
           3
          ],
          [
           1466,
           "Margaret's Museum (1995)",
           1995,
           6
          ],
          [
           1467,
           "Saint of Fort Washington, The (1993)",
           1993,
           2
          ],
          [
           1468,
           "Cure, The (1995)",
           1995,
           6
          ],
          [
           1469,
           "Tom and Huck (1995)",
           1995,
           12
          ],
          [
           1470,
           "Gumby: The Movie (1995)",
           1995,
           5
          ],
          [
           1471,
           "Hideaway (1995)",
           1995,
           9
          ],
          [
           1472,
           "Visitors, The (Visiteurs, Les) (1993)",
           1996,
           2
          ],
          [
           1473,
           "Little Princess, The (1939)",
           1939,
           9
          ],
          [
           1474,
           "Nina Takes a Lover (1994)",
           1994,
           6
          ],
          [
           1475,
           "Bhaji on the Beach (1993)",
           1993,
           8
          ],
          [
           1476,
           "Raw Deal (1948)",
           1948,
           1
          ],
          [
           1477,
           "Nightwatch (1997)",
           1997,
           2
          ],
          [
           1478,
           "Dead Presidents (1995)",
           1995,
           18
          ],
          [
           1479,
           "Reckless (1995)",
           1995,
           8
          ],
          [
           1480,
           "Herbie Rides Again (1974)",
           1974,
           11
          ],
          [
           1481,
           "S.F.W. (1994)",
           1994,
           2
          ],
          [
           1482,
           "Gate of Heavenly Peace, The (1995)",
           1996,
           1
          ],
          [
           1483,
           "Man in the Iron Mask, The (1998)",
           1998,
           12
          ],
          [
           1484,
           "Jerky Boys, The (1994)",
           1994,
           3
          ],
          [
           1485,
           "Colonel Chabert, Le (1994)",
           1994,
           4
          ],
          [
           1486,
           "Girl in the Cadillac (1995)",
           1995,
           1
          ],
          [
           1487,
           "Even Cowgirls Get the Blues (1993)",
           1993,
           5
          ],
          [
           1488,
           "Germinal (1993)",
           1993,
           4
          ],
          [
           1489,
           "Chasers (1994)",
           1994,
           5
          ],
          [
           1490,
           "Fausto (1993)",
           1993,
           3
          ],
          [
           1491,
           "Tough and Deadly (1995)",
           1995,
           2
          ],
          [
           1492,
           "Window to Paris (1994)",
           1994,
           1
          ],
          [
           1493,
           "Modern Affair, A (1995)",
           1996,
           1
          ],
          [
           1494,
           "Mostro, Il (1994)",
           1996,
           1
          ],
          [
           1495,
           "Flirt (1995)",
           1996,
           5
          ],
          [
           1496,
           "Carpool (1996)",
           1996,
           5
          ],
          [
           1497,
           "Line King: Al Hirschfeld, The (1996)",
           1996,
           2
          ],
          [
           1498,
           "Farmer & Chase (1995)",
           1997,
           1
          ],
          [
           1499,
           "Grosse Fatigue (1994)",
           1994,
           4
          ],
          [
           1500,
           "Santa with Muscles (1996)",
           1996,
           2
          ],
          [
           1501,
           "Prisoner of the Mountains (Kavkazsky Plennik) (1996)",
           1997,
           5
          ],
          [
           1502,
           "Naked in New York (1994)",
           1994,
           2
          ],
          [
           1503,
           "Gold Diggers: The Secret of Bear Mountain (1995)",
           1995,
           10
          ],
          [
           1504,
           "Bewegte Mann, Der (1994)",
           1996,
           3
          ],
          [
           1505,
           "Killer: A Journal of Murder (1995)",
           1996,
           1
          ],
          [
           1506,
           "Nelly & Monsieur Arnaud (1995)",
           1996,
           3
          ],
          [
           1507,
           "Three Lives and Only One Death (1996)",
           1996,
           1
          ],
          [
           1508,
           "Babysitter, The (1995)",
           1995,
           3
          ],
          [
           1509,
           "Getting Even with Dad (1994)",
           1994,
           5
          ],
          [
           1510,
           "Mad Dog Time (1996)",
           1996,
           1
          ],
          [
           1511,
           "Children of the Revolution (1996)",
           1997,
           5
          ],
          [
           1512,
           "World of Apu, The (Apur Sansar) (1959)",
           1996,
           6
          ],
          [
           1513,
           "Sprung (1997)",
           1997,
           3
          ],
          [
           1514,
           "Dream With the Fishes (1997)",
           1997,
           7
          ],
          [
           1515,
           "Wings of Courage (1995)",
           1995,
           1
          ],
          [
           1516,
           "Wedding Gift, The (1994)",
           1994,
           3
          ],
          [
           1517,
           "Race the Sun (1996)",
           1996,
           5
          ],
          [
           1518,
           "Losing Isaiah (1995)",
           1995,
           12
          ],
          [
           1519,
           "New Jersey Drive (1995)",
           1995,
           2
          ],
          [
           1520,
           "Fear, The (1995)",
           1995,
           1
          ],
          [
           1521,
           "Mr. Wonderful (1993)",
           1993,
           4
          ],
          [
           1522,
           "Trial by Jury (1994)",
           1994,
           7
          ],
          [
           1523,
           "Good Man in Africa, A (1994)",
           1994,
           2
          ],
          [
           1524,
           "Kaspar Hauser (1993)",
           1996,
           8
          ],
          [
           1525,
           "Object of My Affection, The (1998)",
           1998,
           1
          ],
          [
           1526,
           "Witness (1985)",
           1985,
           1
          ],
          [
           1527,
           "Senseless (1998)",
           1998,
           7
          ],
          [
           1528,
           "Nowhere (1997)",
           1997,
           3
          ],
          [
           1529,
           "Underground (1995)",
           1996,
           5
          ],
          [
           1530,
           "Jefferson in Paris (1995)",
           1995,
           5
          ],
          [
           1531,
           "Far From Home: The Adventures of Yellow Dog (1995)",
           1995,
           7
          ],
          [
           1532,
           "Foreign Student (1994)",
           1994,
           2
          ],
          [
           1533,
           "I Don't Want to Talk About It (De eso no se habla) (1993)",
           1993,
           1
          ],
          [
           1534,
           "Twin Town (1997)",
           1997,
           6
          ],
          [
           1535,
           "Enfer, L' (1994)",
           1994,
           4
          ],
          [
           1536,
           "Aiqing wansui (1994)",
           1996,
           1
          ],
          [
           1537,
           "Cosi (1996)",
           1997,
           4
          ],
          [
           1538,
           "All Over Me (1997)",
           1997,
           3
          ],
          [
           1539,
           "Being Human (1993)",
           1993,
           4
          ],
          [
           1540,
           "Amazing Panda Adventure, The (1995)",
           1995,
           10
          ],
          [
           1541,
           "Beans of Egypt, Maine, The (1994)",
           1994,
           2
          ],
          [
           1542,
           "Scarlet Letter, The (1926)",
           1926,
           2
          ],
          [
           1543,
           "Johns (1996)",
           1996,
           1
          ],
          [
           1544,
           "It Takes Two (1995)",
           1995,
           3
          ],
          [
           1545,
           "Frankie Starlight (1995)",
           1995,
           4
          ],
          [
           1546,
           "Shadows (Cienie) (1988)",
           1988,
           1
          ],
          [
           1547,
           "Show, The (1995)",
           1995,
           2
          ],
          [
           1548,
           "The Courtyard (1995)",
           1995,
           1
          ],
          [
           1549,
           "Dream Man (1995)",
           1995,
           2
          ],
          [
           1550,
           "Destiny Turns on the Radio (1995)",
           1995,
           2
          ],
          [
           1551,
           "Glass Shield, The (1994)",
           1994,
           2
          ],
          [
           1552,
           "Hunted, The (1995)",
           1995,
           3
          ],
          [
           1553,
           "Underneath, The (1995)",
           1995,
           4
          ],
          [
           1554,
           "Safe Passage (1994)",
           1994,
           2
          ],
          [
           1555,
           "Secret Adventures of Tom Thumb, The (1993)",
           1993,
           5
          ],
          [
           1556,
           "Condition Red (1995)",
           1995,
           2
          ],
          [
           1557,
           "Yankee Zulu (1994)",
           1996,
           1
          ],
          [
           1558,
           "Aparajito (1956)",
           1996,
           7
          ],
          [
           1559,
           "Hostile Intentions (1994)",
           1994,
           1
          ],
          [
           1560,
           "Clean Slate (Coup de Torchon) (1981)",
           1981,
           4
          ],
          [
           1561,
           "Tigrero: A Film That Was Never Made (1994)",
           1994,
           1
          ],
          [
           1562,
           "Eye of Vichy, The (Oeil de Vichy, L') (1993)",
           1993,
           1
          ],
          [
           1563,
           "Promise, The (Versprechen, Das) (1994)",
           1994,
           1
          ],
          [
           1564,
           "To Cross the Rubicon (1991)",
           1991,
           1
          ],
          [
           1565,
           "Daens (1992)",
           1992,
           1
          ],
          [
           1566,
           "Man from Down Under, The (1943)",
           1943,
           1
          ],
          [
           1567,
           "Careful (1992)",
           1992,
           1
          ],
          [
           1568,
           "Vermont Is For Lovers (1992)",
           1992,
           1
          ],
          [
           1569,
           "Vie est belle, La (Life is Rosey) (1987)",
           1987,
           1
          ],
          [
           1570,
           "Quartier Mozart (1992)",
           1992,
           1
          ],
          [
           1571,
           "Touki Bouki (Journey of the Hyena) (1973)",
           1973,
           1
          ],
          [
           1572,
           "Wend Kuuni (God's Gift) (1982)",
           1982,
           1
          ],
          [
           1573,
           "Spirits of the Dead (Tre passi nel delirio) (1968)",
           1968,
           2
          ],
          [
           1574,
           "Pharaoh's Army (1995)",
           1995,
           1
          ],
          [
           1575,
           "I, Worst of All (Yo, la peor de todas) (1990)",
           1990,
           1
          ],
          [
           1576,
           "Hungarian Fairy Tale, A (1987)",
           1987,
           1
          ],
          [
           1577,
           "Death in the Garden (Mort en ce jardin, La) (1956)",
           1956,
           1
          ],
          [
           1578,
           "Collectionneuse, La (1967)",
           1967,
           2
          ],
          [
           1579,
           "Baton Rouge (1988)",
           1988,
           1
          ],
          [
           1580,
           "Liebelei (1933)",
           1933,
           1
          ],
          [
           1581,
           "Woman in Question, The (1950)",
           1950,
           1
          ],
          [
           1582,
           "T-Men (1947)",
           1947,
           1
          ],
          [
           1583,
           "Invitation, The (Zaproszenie) (1986)",
           1986,
           1
          ],
          [
           1584,
           "Symphonie pastorale, La (1946)",
           1946,
           1
          ],
          [
           1585,
           "American Dream (1990)",
           1990,
           2
          ],
          [
           1586,
           "Lashou shentan (1992)",
           1992,
           1
          ],
          [
           1587,
           "Terror in a Texas Town (1958)",
           1958,
           1
          ],
          [
           1588,
           "Salut cousin! (1996)",
           1997,
           2
          ],
          [
           1589,
           "Schizopolis (1996)",
           1997,
           4
          ],
          [
           1590,
           "To Have, or Not (1995)",
           1997,
           2
          ],
          [
           1591,
           "Duoluo tianshi (1995)",
           1998,
           6
          ],
          [
           1592,
           "Magic Hour, The (1998)",
           1998,
           5
          ],
          [
           1593,
           "Death in Brunswick (1991)",
           1996,
           1
          ],
          [
           1594,
           "Everest (1998)",
           1998,
           2
          ],
          [
           1595,
           "Shopping (1994)",
           1996,
           1
          ],
          [
           1596,
           "Nemesis 2: Nebula (1995)",
           1995,
           1
          ],
          [
           1597,
           "Romper Stomper (1992)",
           1992,
           5
          ],
          [
           1598,
           "City of Industry (1997)",
           1997,
           6
          ],
          [
           1599,
           "Someone Else's America (1995)",
           1996,
           1
          ],
          [
           1600,
           "Guantanamera (1994)",
           1997,
           4
          ],
          [
           1601,
           "Office Killer (1997)",
           1997,
           1
          ],
          [
           1602,
           "Price Above Rubies, A (1998)",
           1998,
           3
          ],
          [
           1603,
           "Angela (1995)",
           1996,
           1
          ],
          [
           1604,
           "He Walked by Night (1948)",
           1948,
           1
          ],
          [
           1605,
           "Love Serenade (1996)",
           1997,
           4
          ],
          [
           1606,
           "Deceiver (1997)",
           1997,
           1
          ],
          [
           1607,
           "Hurricane Streets (1998)",
           1998,
           3
          ],
          [
           1608,
           "Buddy (1997)",
           1997,
           4
          ],
          [
           1609,
           "B*A*P*S (1997)",
           1997,
           3
          ],
          [
           1610,
           "Truth or Consequences, N.M. (1997)",
           1997,
           3
          ],
          [
           1611,
           "Intimate Relations (1996)",
           1997,
           2
          ],
          [
           1612,
           "Leading Man, The (1996)",
           1998,
           4
          ],
          [
           1613,
           "Tokyo Fist (1995)",
           1998,
           1
          ],
          [
           1614,
           "Reluctant Debutante, The (1958)",
           1958,
           1
          ],
          [
           1615,
           "Warriors of Virtue (1997)",
           1997,
           10
          ],
          [
           1616,
           "Desert Winds (1995)",
           1995,
           1
          ],
          [
           1617,
           "Hugo Pool (1997)",
           1997,
           2
          ],
          [
           1618,
           "King of New York (1990)",
           1990,
           1
          ],
          [
           1619,
           "All Things Fair (1996)",
           1996,
           1
          ],
          [
           1620,
           "Sixth Man, The (1997)",
           1997,
           9
          ],
          [
           1621,
           "Butterfly Kiss (1995)",
           1996,
           1
          ],
          [
           1622,
           "Paris, France (1993)",
           1993,
           3
          ],
          [
           1623,
           "Cérémonie, La (1995)",
           1996,
           3
          ],
          [
           1624,
           "Hush (1998)",
           1998,
           1
          ],
          [
           1625,
           "Nightwatch (1997)",
           1997,
           1
          ],
          [
           1626,
           "Nobody Loves Me (Keiner liebt mich) (1994)",
           1996,
           1
          ],
          [
           1627,
           "Wife, The (1995)",
           1996,
           1
          ],
          [
           1628,
           "Lamerica (1994)",
           1994,
           4
          ],
          [
           1629,
           "Nico Icon (1995)",
           1995,
           2
          ],
          [
           1630,
           "Silence of the Palace, The (Saimt el Qusur) (1994)",
           1996,
           1
          ],
          [
           1631,
           "Slingshot, The (1993)",
           1993,
           2
          ],
          [
           1632,
           "Land and Freedom (Tierra y libertad) (1995)",
           1996,
           1
          ],
          [
           1633,
           "Á köldum klaka (Cold Fever) (1994)",
           1996,
           1
          ],
          [
           1634,
           "Etz Hadomim Tafus (Under the Domin Tree) (1994)",
           1996,
           1
          ],
          [
           1635,
           "Two Friends (1986) ",
           1986,
           1
          ],
          [
           1636,
           "Brothers in Trouble (1995)",
           1996,
           1
          ],
          [
           1637,
           "Girls Town (1996)",
           1996,
           1
          ],
          [
           1638,
           "Normal Life (1996)",
           1996,
           1
          ],
          [
           1639,
           "Bitter Sugar (Azucar Amargo) (1996)",
           1996,
           3
          ],
          [
           1640,
           "Eighth Day, The (1996)",
           1996,
           1
          ],
          [
           1641,
           "Dadetown (1995)",
           1996,
           1
          ],
          [
           1642,
           "Some Mother's Son (1996)",
           1996,
           2
          ],
          [
           1643,
           "Angel Baby (1995)",
           1997,
           4
          ],
          [
           1644,
           "Sudden Manhattan (1996)",
           1997,
           2
          ],
          [
           1645,
           "Butcher Boy, The (1998)",
           1998,
           1
          ],
          [
           1646,
           "Men With Guns (1997)",
           1998,
           2
          ],
          [
           1647,
           "Hana-bi (1997)",
           1998,
           1
          ],
          [
           1648,
           "Niagara, Niagara (1997)",
           1998,
           1
          ],
          [
           1649,
           "Big One, The (1997)",
           1998,
           1
          ],
          [
           1650,
           "Butcher Boy, The (1998)",
           1998,
           1
          ],
          [
           1651,
           "Spanish Prisoner, The (1997)",
           1998,
           1
          ],
          [
           1652,
           "Temptress Moon (Feng Yue) (1996)",
           1997,
           3
          ],
          [
           1653,
           "Entertaining Angels: The Dorothy Day Story (1996)",
           1996,
           1
          ],
          [
           1654,
           "Chairman of the Board (1998)",
           1998,
           1
          ],
          [
           1655,
           "Favor, The (1994)",
           1994,
           1
          ],
          [
           1656,
           "Little City (1998)",
           1998,
           2
          ],
          [
           1657,
           "Target (1995)",
           1996,
           1
          ],
          [
           1658,
           "Substance of Fire, The (1996)",
           1996,
           3
          ],
          [
           1659,
           "Getting Away With Murder (1996)",
           1996,
           1
          ],
          [
           1660,
           "Small Faces (1995)",
           1996,
           1
          ],
          [
           1661,
           "New Age, The (1994)",
           1994,
           1
          ],
          [
           1662,
           "Rough Magic (1995)",
           1997,
           2
          ],
          [
           1663,
           "Nothing Personal (1995)",
           1997,
           1
          ],
          [
           1664,
           "8 Heads in a Duffel Bag (1997)",
           1997,
           4
          ],
          [
           1665,
           "Brother's Kiss, A (1997)",
           1997,
           1
          ],
          [
           1666,
           "Ripe (1996)",
           1997,
           1
          ],
          [
           1667,
           "Next Step, The (1995)",
           1997,
           1
          ],
          [
           1668,
           "Wedding Bell Blues (1996)",
           1997,
           1
          ],
          [
           1669,
           "MURDER and murder (1996)",
           1997,
           1
          ],
          [
           1670,
           "Tainted (1998)",
           1998,
           1
          ],
          [
           1671,
           "Further Gesture, A (1996)",
           1998,
           1
          ],
          [
           1672,
           "Kika (1993)",
           1993,
           2
          ],
          [
           1673,
           "Mirage (1995)",
           1995,
           1
          ],
          [
           1674,
           "Mamma Roma (1962)",
           1962,
           1
          ],
          [
           1675,
           "Sunchaser, The (1996)",
           1996,
           1
          ],
          [
           1676,
           "War at Home, The (1996)",
           1996,
           1
          ],
          [
           1677,
           "Sweet Nothing (1995)",
           1996,
           1
          ],
          [
           1678,
           "Mat' i syn (1997)",
           1998,
           1
          ],
          [
           1679,
           "B. Monkey (1998)",
           1998,
           1
          ],
          [
           1680,
           "Sliding Doors (1998)",
           1998,
           1
          ],
          [
           1681,
           "You So Crazy (1994)",
           1994,
           1
          ],
          [
           1682,
           "Scream of Stone (Schrei aus Stein) (1991)",
           1996,
           1
          ]
         ],
         "hovertemplate": "tsne_1=%{x}<br>tsne_2=%{y}<br>item_id=%{customdata[0]}<br>title=%{customdata[1]}<br>release_year=%{customdata[2]}<br>popularity=%{marker.color}<extra></extra>",
         "legendgroup": "",
         "marker": {
          "color": [
           452,
           131,
           90,
           209,
           86,
           26,
           392,
           219,
           299,
           89,
           236,
           267,
           184,
           183,
           293,
           39,
           92,
           10,
           69,
           72,
           84,
           297,
           182,
           174,
           293,
           73,
           57,
           276,
           114,
           37,
           154,
           81,
           97,
           7,
           11,
           13,
           8,
           120,
           87,
           57,
           37,
           148,
           40,
           79,
           80,
           27,
           133,
           117,
           81,
           583,
           81,
           91,
           128,
           104,
           149,
           394,
           40,
           175,
           83,
           64,
           59,
           127,
           82,
           283,
           115,
           162,
           103,
           134,
           321,
           251,
           220,
           129,
           128,
           7,
           5,
           54,
           151,
           33,
           336,
           68,
           110,
           261,
           176,
           18,
           58,
           150,
           138,
           213,
           275,
           95,
           143,
           104,
           112,
           137,
           219,
           295,
           256,
           390,
           172,
           508,
           73,
           54,
           15,
           5,
           74,
           71,
           42,
           65,
           130,
           31,
           272,
           20,
           9,
           67,
           15,
           125,
           378,
           293,
           4,
           67,
           429,
           106,
           115,
           187,
           244,
           97,
           413,
           65,
           129,
           23,
           95,
           246,
           171,
           198,
           259,
           105,
           171,
           19,
           50,
           61,
           72,
           57,
           222,
           243,
           65,
           10,
           185,
           128,
           23,
           157,
           326,
           82,
           247,
           174,
           98,
           148,
           127,
           60,
           101,
           69,
           220,
           106,
           92,
           151,
           64,
           58,
           67,
           316,
           118,
           121,
           65,
           367,
           324,
           420,
           208,
           284,
           137,
           125,
           221,
           221,
           507,
           226,
           291,
           116,
           239,
           251,
           209,
           170,
           66,
           124,
           276,
           116,
           157,
           241,
           301,
           251,
           239,
           127,
           165,
           206,
           89,
           280,
           182,
           350,
           136,
           50,
           66,
           200,
           191,
           331,
           206,
           92,
           134,
           114,
           212,
           290,
           120,
           171,
           111,
           66,
           74,
           365,
           136,
           44,
           109,
           166,
           161,
           244,
           171,
           199,
           142,
           101,
           124,
           280,
           217,
           45,
           384,
           256,
           150,
           156,
           128,
           117,
           132,
           48,
           240,
           124,
           5,
           160,
           130,
           197,
           46,
           158,
           26,
           62,
           172,
           16,
           303,
           509,
           162,
           127,
           43,
           66,
           19,
           101,
           227,
           35,
           9,
           255,
           315,
           136,
           211,
           198,
           223,
           190,
           268,
           298,
           71,
           60,
           28,
           85,
           146,
           232,
           177,
           193,
           162,
           481,
           78,
           478,
           259,
           96,
           127,
           114,
           147,
           485,
           77,
           6,
           50,
           194,
           73,
           431,
           230,
           297,
           134,
           149,
           87,
           96,
           188,
           30,
           28,
           145,
           75,
           80,
           350,
           5,
           160,
           112,
           102,
           298,
           168,
           20,
           169,
           218,
           240,
           125,
           128,
           175,
           175,
           295,
           45,
           41,
           113,
           143,
           251,
           64,
           21,
           43,
           18,
           91,
           47,
           189,
           11,
           52,
           124,
           55,
           65,
           126,
           137,
           27,
           31,
           41,
           20,
           26,
           14,
           72,
           41,
           97,
           264,
           143,
           18,
           10,
           10,
           28,
           47,
           37,
           48,
           47,
           170,
           31,
           55,
           39,
           67,
           34,
           39,
           11,
           23,
           24,
           13,
           101,
           43,
           116,
           100,
           111,
           31,
           69,
           208,
           87,
           65,
           28,
           27,
           10,
           59,
           68,
           192,
           12,
           56,
           54,
           12,
           26,
           89,
           18,
           76,
           170,
           201,
           101,
           344,
           49,
           43,
           112,
           70,
           162,
           163,
           93,
           55,
           62,
           25,
           64,
           73,
           129,
           178,
           81,
           106,
           26,
           300,
           19,
           85,
           32,
           219,
           121,
           97,
           93,
           153,
           174,
           171,
           67,
           216,
           99,
           5,
           6,
           5,
           14,
           53,
           4,
           162,
           46,
           22,
           9,
           121,
           85,
           117,
           63,
           170,
           66,
           16,
           16,
           145,
           48,
           27,
           90,
           24,
           28,
           74,
           148,
           71,
           27,
           85,
           52,
           48,
           64,
           67,
           108,
           221,
           158,
           126,
           194,
           250,
           160,
           95,
           104,
           179,
           179,
           63,
           128,
           243,
           138,
           125,
           64,
           68,
           65,
           52,
           50,
           67,
           59,
           60,
           56,
           59,
           231,
           68,
           152,
           62,
           31,
           123,
           57,
           39,
           122,
           68,
           90,
           98,
           215,
           121,
           121,
           173,
           57,
           72,
           180,
           201,
           63,
           91,
           89,
           80,
           124,
           120,
           35,
           164,
           46,
           73,
           124,
           195,
           121,
           93,
           80,
           129,
           22,
           15,
           13,
           54,
           10,
           30,
           66,
           44,
           43,
           49,
           51,
           21,
           71,
           12,
           254,
           41,
           12,
           92,
           151,
           24,
           45,
           63,
           102,
           10,
           12,
           17,
           70,
           137,
           22,
           59,
           48,
           29,
           27,
           22,
           179,
           35,
           230,
           67,
           50,
           28,
           29,
           33,
           15,
           44,
           93,
           41,
           92,
           19,
           32,
           59,
           168,
           37,
           79,
           39,
           34,
           14,
           202,
           43,
           18,
           178,
           9,
           12,
           5,
           64,
           127,
           206,
           4,
           1,
           2,
           20,
           50,
           209,
           81,
           31,
           66,
           66,
           30,
           60,
           41,
           40,
           34,
           27,
           51,
           59,
           64,
           18,
           18,
           64,
           43,
           11,
           39,
           39,
           22,
           82,
           4,
           75,
           169,
           77,
           31,
           119,
           58,
           69,
           24,
           23,
           91,
           38,
           44,
           40,
           82,
           33,
           89,
           4,
           35,
           27,
           38,
           70,
           67,
           50,
           72,
           171,
           90,
           34,
           147,
           227,
           44,
           131,
           79,
           115,
           153,
           88,
           82,
           116,
           46,
           100,
           5,
           12,
           6,
           13,
           36,
           46,
           65,
           86,
           48,
           54,
           77,
           1,
           219,
           107,
           34,
           27,
           100,
           49,
           169,
           157,
           50,
           69,
           44,
           87,
           155,
           16,
           164,
           91,
           44,
           13,
           79,
           40,
           10,
           102,
           15,
           10,
           53,
           19,
           24,
           137,
           6,
           70,
           101,
           104,
           79,
           1,
           51,
           72,
           13,
           87,
           58,
           82,
           16,
           29,
           86,
           54,
           58,
           34,
           76,
           16,
           14,
           63,
           45,
           81,
           24,
           39,
           180,
           15,
           27,
           137,
           78,
           59,
           31,
           164,
           63,
           58,
           267,
           39,
           92,
           16,
           119,
           102,
           316,
           51,
           124,
           180,
           39,
           24,
           57,
           96,
           128,
           4,
           21,
           11,
           46,
           44,
           115,
           149,
           29,
           32,
           9,
           11,
           52,
           42,
           57,
           41,
           49,
           17,
           32,
           26,
           9,
           4,
           76,
           31,
           69,
           84,
           10,
           37,
           2,
           39,
           14,
           13,
           3,
           47,
           66,
           10,
           86,
           10,
           46,
           21,
           36,
           31,
           9,
           5,
           26,
           16,
           40,
           9,
           8,
           27,
           50,
           9,
           31,
           43,
           45,
           18,
           18,
           56,
           1,
           112,
           21,
           3,
           25,
           40,
           93,
           22,
           4,
           82,
           49,
           83,
           80,
           57,
           13,
           34,
           1,
           91,
           22,
           49,
           25,
           15,
           26,
           25,
           4,
           4,
           53,
           48,
           27,
           30,
           42,
           176,
           44,
           55,
           9,
           53,
           4,
           4,
           1,
           14,
           16,
           66,
           36,
           1,
           3,
           15,
           16,
           3,
           18,
           24,
           86,
           21,
           119,
           6,
           5,
           24,
           9,
           75,
           42,
           81,
           39,
           53,
           47,
           52,
           33,
           136,
           59,
           45,
           34,
           13,
           7,
           13,
           53,
           64,
           15,
           13,
           43,
           6,
           53,
           14,
           19,
           106,
           44,
           2,
           58,
           9,
           42,
           12,
           42,
           18,
           20,
           27,
           21,
           2,
           20,
           13,
           4,
           4,
           9,
           2,
           11,
           13,
           18,
           7,
           8,
           96,
           5,
           46,
           34,
           58,
           85,
           34,
           101,
           6,
           104,
           40,
           80,
           57,
           40,
           21,
           68,
           7,
           32,
           37,
           25,
           60,
           32,
           46,
           45,
           40,
           43,
           40,
           61,
           17,
           48,
           71,
           30,
           39,
           45,
           22,
           11,
           49,
           46,
           2,
           14,
           64,
           25,
           34,
           23,
           41,
           9,
           21,
           26,
           12,
           18,
           75,
           8,
           34,
           28,
           4,
           32,
           44,
           12,
           49,
           27,
           35,
           22,
           8,
           20,
           15,
           44,
           22,
           23,
           4,
           86,
           32,
           33,
           25,
           4,
           66,
           7,
           31,
           14,
           16,
           16,
           10,
           10,
           17,
           8,
           8,
           9,
           22,
           23,
           47,
           37,
           64,
           44,
           93,
           100,
           38,
           98,
           12,
           137,
           50,
           32,
           31,
           35,
           38,
           32,
           31,
           15,
           44,
           4,
           3,
           148,
           14,
           20,
           7,
           16,
           32,
           27,
           68,
           24,
           24,
           17,
           90,
           25,
           62,
           28,
           8,
           40,
           25,
           46,
           134,
           73,
           25,
           43,
           41,
           25,
           24,
           23,
           10,
           10,
           22,
           15,
           35,
           39,
           29,
           12,
           41,
           4,
           53,
           16,
           44,
           12,
           18,
           27,
           16,
           7,
           66,
           77,
           7,
           12,
           8,
           22,
           45,
           2,
           8,
           8,
           6,
           21,
           11,
           21,
           10,
           13,
           38,
           37,
           43,
           12,
           23,
           12,
           29,
           3,
           18,
           42,
           13,
           8,
           74,
           7,
           19,
           4,
           18,
           4,
           18,
           5,
           28,
           41,
           7,
           15,
           22,
           10,
           29,
           13,
           19,
           47,
           59,
           17,
           21,
           1,
           3,
           12,
           4,
           32,
           11,
           13,
           28,
           1,
           13,
           32,
           30,
           38,
           46,
           29,
           29,
           5,
           33,
           17,
           9,
           44,
           15,
           3,
           9,
           3,
           21,
           9,
           26,
           9,
           7,
           28,
           19,
           12,
           3,
           1,
           25,
           4,
           11,
           26,
           13,
           5,
           25,
           6,
           14,
           12,
           11,
           22,
           10,
           27,
           14,
           15,
           7,
           8,
           5,
           22,
           7,
           19,
           9,
           10,
           10,
           13,
           19,
           10,
           18,
           3,
           13,
           44,
           3,
           11,
           3,
           13,
           10,
           31,
           11,
           3,
           45,
           7,
           23,
           7,
           1,
           8,
           21,
           18,
           6,
           19,
           17,
           20,
           15,
           38,
           12,
           6,
           6,
           9,
           30,
           6,
           39,
           26,
           20,
           30,
           39,
           25,
           4,
           12,
           14,
           32,
           8,
           48,
           13,
           18,
           22,
           17,
           6,
           8,
           1,
           1,
           6,
           8,
           18,
           26,
           6,
           5,
           7,
           36,
           19,
           7,
           6,
           19,
           12,
           6,
           8,
           9,
           7,
           11,
           8,
           3,
           4,
           23,
           4,
           4,
           4,
           8,
           15,
           7,
           19,
           12,
           33,
           10,
           10,
           7,
           7,
           5,
           15,
           11,
           4,
           8,
           19,
           16,
           9,
           16,
           13,
           9,
           19,
           26,
           15,
           17,
           6,
           7,
           7,
           2,
           15,
           3,
           3,
           7,
           7,
           20,
           12,
           9,
           8,
           9,
           5,
           5,
           18,
           2,
           7,
           2,
           2,
           2,
           1,
           1,
           16,
           7,
           14,
           11,
           23,
           7,
           4,
           3,
           4,
           1,
           2,
           6,
           3,
           5,
           1,
           6,
           3,
           6,
           1,
           4,
           4,
           2,
           5,
           2,
           11,
           10,
           9,
           4,
           1,
           1,
           1,
           2,
           1,
           5,
           2,
           5,
           4,
           1,
           1,
           2,
           3,
           1,
           5,
           2,
           6,
           3,
           3,
           2,
           2,
           2,
           3,
           2,
           1,
           1,
           2,
           1,
           5,
           6,
           4,
           3,
           2,
           3,
           1,
           2,
           10,
           7,
           4,
           5,
           7,
           6,
           8,
           4,
           6,
           3,
           5,
           6,
           3,
           6,
           3,
           2,
           3,
           5,
           9,
           7,
           6,
           5,
           5,
           2,
           7,
           10,
           18,
           4,
           4,
           13,
           6,
           5,
           20,
           3,
           7,
           4,
           28,
           6,
           8,
           1,
           9,
           5,
           2,
           3,
           16,
           3,
           11,
           4,
           4,
           3,
           10,
           8,
           5,
           12,
           4,
           3,
           5,
           3,
           2,
           10,
           7,
           2,
           9,
           5,
           8,
           5,
           7,
           5,
           4,
           19,
           4,
           15,
           1,
           3,
           8,
           2,
           15,
           1,
           1,
           6,
           2,
           7,
           1,
           1,
           7,
           1,
           1,
           7,
           3,
           3,
           3,
           6,
           2,
           6,
           12,
           5,
           9,
           2,
           9,
           6,
           8,
           1,
           2,
           18,
           8,
           11,
           2,
           1,
           12,
           3,
           4,
           1,
           5,
           4,
           5,
           3,
           2,
           1,
           1,
           1,
           5,
           5,
           2,
           1,
           4,
           2,
           5,
           2,
           10,
           3,
           1,
           3,
           1,
           3,
           5,
           1,
           5,
           6,
           3,
           7,
           1,
           3,
           5,
           12,
           2,
           1,
           4,
           7,
           2,
           8,
           1,
           1,
           7,
           3,
           5,
           5,
           7,
           2,
           1,
           6,
           4,
           1,
           4,
           3,
           4,
           10,
           2,
           2,
           1,
           3,
           4,
           1,
           2,
           1,
           2,
           2,
           2,
           3,
           4,
           2,
           5,
           2,
           1,
           7,
           1,
           4,
           1,
           1,
           1,
           1,
           1,
           1,
           1,
           1,
           1,
           1,
           1,
           1,
           2,
           1,
           1,
           1,
           1,
           2,
           1,
           1,
           1,
           1,
           1,
           1,
           2,
           1,
           1,
           2,
           4,
           2,
           6,
           5,
           1,
           2,
           1,
           1,
           5,
           6,
           1,
           4,
           1,
           3,
           1,
           1,
           4,
           1,
           3,
           4,
           3,
           3,
           2,
           4,
           1,
           1,
           10,
           1,
           2,
           1,
           1,
           9,
           1,
           3,
           3,
           1,
           1,
           1,
           1,
           4,
           2,
           1,
           2,
           1,
           1,
           1,
           1,
           1,
           1,
           1,
           3,
           1,
           1,
           2,
           4,
           2,
           1,
           2,
           1,
           1,
           1,
           1,
           1,
           3,
           1,
           1,
           1,
           2,
           1,
           3,
           1,
           1,
           1,
           2,
           1,
           4,
           1,
           1,
           1,
           1,
           1,
           1,
           1,
           2,
           1,
           1,
           1,
           1,
           1,
           1,
           1,
           1,
           1,
           1
          ],
          "coloraxis": "coloraxis",
          "symbol": "circle"
         },
         "mode": "markers",
         "name": "",
         "showlegend": false,
         "type": "scattergl",
         "x": [
          -9.73923110961914,
          16.16984748840332,
          15.031378746032715,
          -10.66258430480957,
          15.321215629577637,
          -14.041703224182129,
          -14.086267471313477,
          -24.481996536254883,
          -30.991878509521484,
          -16.8659725189209,
          -13.714789390563965,
          -13.347073554992676,
          -28.384979248046875,
          -24.240631103515625,
          -1.2250462770462036,
          2.8124637603759766,
          0.24330905079841614,
          -11.635880470275879,
          -13.3220853805542,
          -16.818374633789062,
          13.541921615600586,
          -8.330243110656738,
          -30.143787384033203,
          -4.465342998504639,
          5.917736530303955,
          -10.342695236206055,
          -4.7588677406311035,
          -3.0715723037719727,
          24.179542541503906,
          -16.95191764831543,
          5.0116868019104,
          -22.36957550048828,
          0.7322546243667603,
          2.381662130355835,
          23.40559959411621,
          19.41697883605957,
          -9.857148170471191,
          19.59128761291504,
          -18.464664459228516,
          4.182961463928223,
          1.1951615810394287,
          -13.94531536102295,
          11.552620887756348,
          -17.86598014831543,
          -16.829471588134766,
          -18.21941375732422,
          -17.370323181152344,
          -20.208642959594727,
          1.3449159860610962,
          -11.926119804382324,
          2.628387451171875,
          -26.589235305786133,
          1.0182163715362549,
          13.749208450317383,
          -12.644205093383789,
          -28.31869888305664,
          -15.483664512634277,
          -28.981571197509766,
          -12.61906909942627,
          -20.501697540283203,
          -15.289947509765625,
          17.029542922973633,
          16.583232879638672,
          -14.587462425231934,
          -13.77178955078125,
          2.6493582725524902,
          10.134111404418945,
          1.8461178541183472,
          -8.506684303283691,
          -25.717247009277344,
          -1.3564034700393677,
          9.987922668457031,
          6.018080234527588,
          -9.14714527130127,
          10.343149185180664,
          -13.172039985656738,
          5.2728447914123535,
          14.919840812683105,
          -9.397316932678223,
          4.029218673706055,
          -21.048425674438477,
          3.415421724319458,
          -8.578242301940918,
          4.593177318572998,
          9.990675926208496,
          -22.946306228637695,
          -6.696594715118408,
          2.4448604583740234,
          -14.329113960266113,
          -3.971652030944824,
          -4.943310737609863,
          -23.611913681030273,
          -25.29609489440918,
          14.428662300109863,
          3.517650842666626,
          -10.675527572631836,
          -21.116662979125977,
          -19.513534545898438,
          -22.571195602416992,
          -25.576791763305664,
          11.238306999206543,
          9.584573745727539,
          23.65828514099121,
          25.28321075439453,
          13.56155014038086,
          19.667755126953125,
          -13.953631401062012,
          -9.45297908782959,
          -0.32538479566574097,
          13.418889999389648,
          5.796849727630615,
          19.660524368286133,
          -16.153404235839844,
          -16.99371337890625,
          7.4016313552856445,
          -22.54526710510254,
          7.639614582061768,
          16.893918991088867,
          -18.095033645629883,
          22.82086181640625,
          15.261649131774902,
          9.992538452148438,
          12.299827575683594,
          -29.780418395996094,
          18.969444274902344,
          -2.7395334243774414,
          -27.269075393676758,
          -4.1538567543029785,
          -14.342573165893555,
          19.45306968688965,
          -29.803295135498047,
          -23.643545150756836,
          -22.398683547973633,
          -28.187274932861328,
          -27.424339294433594,
          -23.863737106323242,
          -25.553110122680664,
          21.517406463623047,
          22.930116653442383,
          0.3157604932785034,
          -10.02437973022461,
          9.856143951416016,
          -2.415212869644165,
          -10.191963195800781,
          14.419010162353516,
          8.140482902526855,
          8.497328758239746,
          18.848430633544922,
          -13.68738842010498,
          -14.785943031311035,
          -30.99822235107422,
          -10.089118957519531,
          -23.670085906982422,
          -21.257604598999023,
          0.48101484775543213,
          -14.08086109161377,
          -26.667736053466797,
          23.53138542175293,
          -2.9609832763671875,
          -18.900487899780273,
          14.551053047180176,
          -21.687911987304688,
          -9.377128601074219,
          11.103575706481934,
          -19.1148624420166,
          -19.66480827331543,
          9.50966739654541,
          -16.957740783691406,
          -16.984500885009766,
          -19.80592155456543,
          -12.186643600463867,
          -11.698725700378418,
          -12.632983207702637,
          -11.27559757232666,
          -24.14763832092285,
          -13.292085647583008,
          -11.970004081726074,
          -25.587310791015625,
          -31.891252517700195,
          -29.982572555541992,
          -11.692998886108398,
          -30.075674057006836,
          -13.314980506896973,
          -4.613483428955078,
          -29.147167205810547,
          -9.324711799621582,
          -26.798030853271484,
          -14.98549747467041,
          -13.728694915771484,
          -19.763296127319336,
          -25.174232482910156,
          -27.841751098632812,
          -22.18408203125,
          -17.48092269897461,
          -10.907877922058105,
          -16.546892166137695,
          -29.179059982299805,
          -14.80429744720459,
          -24.840255737304688,
          -32.50497055053711,
          -20.555376052856445,
          -8.140117645263672,
          -26.839941024780273,
          -5.389156818389893,
          -19.39204216003418,
          -5.659898281097412,
          -12.47288703918457,
          -17.674379348754883,
          -20.021291732788086,
          3.3641531467437744,
          -25.004199981689453,
          -19.363300323486328,
          -20.853635787963867,
          -10.173934936523438,
          -5.553196430206299,
          -22.152212142944336,
          2.431978940963745,
          6.1507720947265625,
          7.33991813659668,
          -2.330610752105713,
          -25.678302764892578,
          9.1100492477417,
          -27.13975715637207,
          -18.112396240234375,
          3.083566904067993,
          13.614947319030762,
          6.844931125640869,
          -10.595391273498535,
          15.434596061706543,
          6.726038455963135,
          23.418256759643555,
          8.81351089477539,
          4.956367492675781,
          -28.042219161987305,
          7.51292085647583,
          -10.4004545211792,
          4.019244194030762,
          -31.882848739624023,
          9.782522201538086,
          3.1683566570281982,
          14.263537406921387,
          -21.869956970214844,
          19.073711395263672,
          -8.914889335632324,
          16.39699935913086,
          -11.75492000579834,
          19.065467834472656,
          -3.990104913711548,
          7.519197940826416,
          2.3369076251983643,
          -16.86885643005371,
          17.919286727905273,
          -13.561431884765625,
          21.64533233642578,
          20.581558227539062,
          -15.306575775146484,
          4.170892715454102,
          7.546837329864502,
          11.837837219238281,
          10.10290241241455,
          20.765851974487305,
          -28.998605728149414,
          25.21263885498047,
          7.113576889038086,
          -6.806487560272217,
          0.14374306797981262,
          7.120894432067871,
          -11.707463264465332,
          -29.511545181274414,
          5.350297451019287,
          10.214619636535645,
          -1.2759274244308472,
          -1.1794044971466064,
          -1.1655843257904053,
          -22.909666061401367,
          -28.857404708862305,
          -9.037253379821777,
          12.193483352661133,
          -10.560060501098633,
          15.723283767700195,
          13.629401206970215,
          14.368562698364258,
          -22.1929988861084,
          8.525917053222656,
          -26.2108097076416,
          -28.287145614624023,
          -7.306604385375977,
          2.4057865142822266,
          -8.006632804870605,
          -1.5594571828842163,
          12.761126518249512,
          -17.843278884887695,
          -14.447314262390137,
          14.708782196044922,
          -0.19991613924503326,
          11.100687980651855,
          -17.370290756225586,
          -14.742332458496094,
          -11.164795875549316,
          14.611227035522461,
          8.913596153259277,
          -27.830081939697266,
          -28.09044647216797,
          -3.8402631282806396,
          -27.675317764282227,
          -21.761547088623047,
          0.21930257976055145,
          -18.479957580566406,
          16.591957092285156,
          7.545670986175537,
          -21.849159240722656,
          4.857878684997559,
          7.539093017578125,
          19.192914962768555,
          -2.593538284301758,
          -2.6390509605407715,
          -14.883830070495605,
          -19.294086456298828,
          -13.915188789367676,
          -6.085196495056152,
          -1.9401935338974,
          16.73784828186035,
          17.6488037109375,
          -14.550174713134766,
          10.891619682312012,
          13.304108619689941,
          2.5810163021087646,
          13.932490348815918,
          9.761720657348633,
          -3.822561740875244,
          4.394988059997559,
          16.783611297607422,
          8.01627254486084,
          -3.9828968048095703,
          -13.25177001953125,
          17.52086639404297,
          -9.83575439453125,
          17.521156311035156,
          0.8332704305648804,
          -9.204435348510742,
          1.8559179306030273,
          17.527048110961914,
          15.495050430297852,
          -26.451255798339844,
          -17.055389404296875,
          -26.136167526245117,
          -26.092348098754883,
          2.783574342727661,
          11.946845054626465,
          -12.270057678222656,
          2.455825090408325,
          15.552433967590332,
          7.589829444885254,
          7.52020788192749,
          0.2791514992713928,
          9.944001197814941,
          -26.980478286743164,
          10.129023551940918,
          -12.267351150512695,
          -19.19502830505371,
          -16.952470779418945,
          -15.137179374694824,
          -2.398188352584839,
          8.671769142150879,
          15.684246063232422,
          11.114270210266113,
          -8.850396156311035,
          15.35748291015625,
          7.955366611480713,
          17.532320022583008,
          -15.101279258728027,
          -6.722444534301758,
          12.884597778320312,
          24.144041061401367,
          18.421045303344727,
          6.988149166107178,
          21.28426742553711,
          -4.3970417976379395,
          3.793327569961548,
          12.981590270996094,
          -25.769596099853516,
          -6.364333152770996,
          23.71353530883789,
          11.4556245803833,
          6.122003555297852,
          10.296259880065918,
          -13.224925994873047,
          25.36318588256836,
          -0.3572975993156433,
          -28.354284286499023,
          14.557902336120605,
          8.380735397338867,
          0.8745852112770081,
          -0.3503076136112213,
          22.927419662475586,
          -15.903336524963379,
          12.61305046081543,
          24.210290908813477,
          12.03471565246582,
          0.5346370339393616,
          -5.735162734985352,
          0.8623704314231873,
          -0.942214846611023,
          -22.108505249023438,
          16.995336532592773,
          13.145181655883789,
          7.252296447753906,
          -16.989105224609375,
          8.449294090270996,
          10.744028091430664,
          12.738094329833984,
          -11.232414245605469,
          11.242085456848145,
          -22.051761627197266,
          -0.276544988155365,
          -22.68467140197754,
          8.084192276000977,
          -1.4034496545791626,
          -8.654452323913574,
          -27.261917114257812,
          2.313257932662964,
          4.764500141143799,
          -22.389402389526367,
          19.842220306396484,
          -23.116714477539062,
          3.716068983078003,
          -26.22319984436035,
          -31.118412017822266,
          -9.550482749938965,
          -13.119027137756348,
          5.426476955413818,
          -26.752843856811523,
          -6.18756628036499,
          -9.519073486328125,
          -17.94194221496582,
          -5.96912145614624,
          24.981019973754883,
          25.620201110839844,
          25.1861572265625,
          21.24423599243164,
          14.675189971923828,
          20.67108917236328,
          -27.835481643676758,
          -11.22546672821045,
          -18.658517837524414,
          15.29980182647705,
          -28.79987335205078,
          -2.4222660064697266,
          -5.852284908294678,
          0.20118631422519684,
          13.962357521057129,
          19.35013198852539,
          23.29283332824707,
          17.348743438720703,
          0.7779196500778198,
          14.702878952026367,
          14.398591995239258,
          -9.63537311553955,
          -9.710988998413086,
          2.312739610671997,
          -11.940482139587402,
          -25.91524314880371,
          -12.644124031066895,
          -18.322006225585938,
          -7.095544338226318,
          -21.679609298706055,
          -15.982782363891602,
          10.253704071044922,
          -20.8165283203125,
          -0.6885026097297668,
          6.895642280578613,
          0.900223970413208,
          -16.310237884521484,
          -29.165908813476562,
          -28.569852828979492,
          6.49192476272583,
          -6.145816326141357,
          -23.61485481262207,
          -24.275104522705078,
          -27.10830307006836,
          -22.49198341369629,
          -23.446971893310547,
          -27.211467742919922,
          -24.80131721496582,
          -11.29564094543457,
          -18.17798614501953,
          -23.039709091186523,
          -28.79597282409668,
          -18.581623077392578,
          -26.791051864624023,
          -18.050397872924805,
          -29.686649322509766,
          -21.84893798828125,
          -23.120073318481445,
          -21.631988525390625,
          -20.032609939575195,
          -20.43665885925293,
          -22.876026153564453,
          -25.33017921447754,
          -12.538261413574219,
          -23.841909408569336,
          -9.20789623260498,
          -20.885986328125,
          -20.389671325683594,
          -23.972990036010742,
          -28.095876693725586,
          -27.41168975830078,
          -28.981233596801758,
          -30.100839614868164,
          -24.78754425048828,
          -24.771203994750977,
          -21.328170776367188,
          -18.04092788696289,
          -28.2944278717041,
          -23.193981170654297,
          -14.519274711608887,
          -27.700090408325195,
          -29.920276641845703,
          -30.22180938720703,
          -19.926908493041992,
          -27.302114486694336,
          -28.24167823791504,
          -22.350543975830078,
          -22.079376220703125,
          -31.7319393157959,
          -22.976055145263672,
          -19.7679443359375,
          -22.929882049560547,
          -21.155067443847656,
          -20.8789119720459,
          -14.219935417175293,
          -12.823123931884766,
          -27.504364013671875,
          -27.616100311279297,
          3.8197033405303955,
          -19.496442794799805,
          -22.02460479736328,
          4.905120372772217,
          4.796213626861572,
          19.218233108520508,
          13.605944633483887,
          17.409509658813477,
          -19.097286224365234,
          -5.133529186248779,
          22.667118072509766,
          13.43813705444336,
          -4.019565105438232,
          7.8389739990234375,
          -17.82016944885254,
          8.34936237335205,
          16.802478790283203,
          12.891907691955566,
          0.2175574153661728,
          20.179141998291016,
          22.405357360839844,
          -12.823659896850586,
          -14.371416091918945,
          -10.034417152404785,
          14.965559005737305,
          11.968233108520508,
          6.074926853179932,
          5.807084083557129,
          18.676532745361328,
          12.21707820892334,
          11.209794044494629,
          10.830503463745117,
          14.84914493560791,
          2.9998905658721924,
          9.32618522644043,
          -4.5194926261901855,
          23.624067306518555,
          8.143601417541504,
          5.903402805328369,
          23.21621322631836,
          12.364065170288086,
          13.317708969116211,
          23.963457107543945,
          16.3819637298584,
          15.383471488952637,
          -12.269094467163086,
          0.8824195265769958,
          -26.360525131225586,
          2.9244139194488525,
          -7.006933212280273,
          21.621566772460938,
          22.846961975097656,
          -11.070808410644531,
          -6.7411370277404785,
          -24.038455963134766,
          22.969322204589844,
          2.910369873046875,
          -19.455068588256836,
          -20.20750617980957,
          -0.8675341606140137,
          20.05051040649414,
          6.887505054473877,
          15.901854515075684,
          9.42468547821045,
          19.98514747619629,
          -8.48563003540039,
          -19.60333251953125,
          -25.75631332397461,
          -26.276092529296875,
          -21.088714599609375,
          -18.638214111328125,
          -27.255111694335938,
          -24.133760452270508,
          -16.846115112304688,
          -5.313076019287109,
          -28.483278274536133,
          -18.995649337768555,
          -20.955142974853516,
          -19.10487937927246,
          -5.567534923553467,
          -14.869512557983398,
          -27.6032772064209,
          -8.855301856994629,
          -27.071577072143555,
          11.903345108032227,
          9.587934494018555,
          -8.283821105957031,
          -0.5149510502815247,
          14.113415718078613,
          -3.890228509902954,
          -4.701467990875244,
          -24.505104064941406,
          14.408486366271973,
          13.187922477722168,
          8.943668365478516,
          11.504554748535156,
          -22.309276580810547,
          -22.704029083251953,
          -29.08915138244629,
          -10.653055191040039,
          2.55832839012146,
          -4.42025899887085,
          -16.88330841064453,
          -28.474397659301758,
          -18.585561752319336,
          -20.094575881958008,
          -24.766128540039062,
          -24.24344825744629,
          -15.603116989135742,
          -28.136810302734375,
          -19.196191787719727,
          -13.421276092529297,
          -28.514745712280273,
          -17.45919418334961,
          -23.33101463317871,
          -20.39211082458496,
          -22.15016746520996,
          -23.03569984436035,
          -28.918092727661133,
          -29.47452163696289,
          -19.49188995361328,
          -27.697566986083984,
          -25.502485275268555,
          7.418379306793213,
          -19.03441619873047,
          -11.711554527282715,
          -27.97887420654297,
          -3.216308116912842,
          -11.455425262451172,
          -23.628856658935547,
          4.85491943359375,
          9.474011421203613,
          12.452912330627441,
          7.864185810089111,
          22.97014808654785,
          10.872814178466797,
          -29.791828155517578,
          9.623981475830078,
          -6.709042072296143,
          6.981443881988525,
          -31.236602783203125,
          -6.069941520690918,
          44.055084228515625,
          18.9355411529541,
          -3.8225769996643066,
          0.12408732622861862,
          21.71706199645996,
          5.097032070159912,
          16.26548194885254,
          -5.284108638763428,
          11.333337783813477,
          -7.759469032287598,
          21.83910369873047,
          12.298277854919434,
          15.783102989196777,
          -3.1202797889709473,
          -20.34560775756836,
          1.2966339588165283,
          -26.37564468383789,
          -23.392868041992188,
          -5.409163475036621,
          4.9543609619140625,
          -7.296494483947754,
          -9.857869148254395,
          -23.319835662841797,
          -2.0241901874542236,
          -18.185413360595703,
          1.9257830381393433,
          -17.221609115600586,
          -10.155864715576172,
          -22.367130279541016,
          17.203386306762695,
          -14.399553298950195,
          -25.543642044067383,
          -12.955927848815918,
          -2.677509307861328,
          45.499698638916016,
          2.5766961574554443,
          -18.572397232055664,
          -12.261628150939941,
          -22.721616744995117,
          -8.088927268981934,
          17.39975929260254,
          -16.82386016845703,
          8.744067192077637,
          19.845592498779297,
          -0.30249449610710144,
          -3.0718393325805664,
          -8.455562591552734,
          -21.111265182495117,
          7.5630784034729,
          0.520190417766571,
          4.079789161682129,
          12.797736167907715,
          4.893521785736084,
          -9.939294815063477,
          6.728460311889648,
          -5.492290496826172,
          -9.274038314819336,
          11.050352096557617,
          -8.586751937866211,
          -15.41822624206543,
          -8.003211975097656,
          12.2076997756958,
          1.7158044576644897,
          -11.021711349487305,
          -5.349448204040527,
          15.820181846618652,
          16.79010772705078,
          -0.48996761441230774,
          -4.316042423248291,
          -3.231981039047241,
          -4.219356536865234,
          15.208857536315918,
          5.508654594421387,
          -8.487857818603516,
          9.900842666625977,
          2.1226046085357666,
          -14.688933372497559,
          -11.638750076293945,
          13.461115837097168,
          20.176040649414062,
          -8.024843215942383,
          21.165199279785156,
          16.408912658691406,
          7.20490837097168,
          6.592408180236816,
          -1.4559226036071777,
          3.160814046859741,
          3.5449140071868896,
          4.615444660186768,
          -21.465665817260742,
          7.414496421813965,
          7.221107482910156,
          22.2053165435791,
          -21.571226119995117,
          25.079195022583008,
          -21.917957305908203,
          -13.461363792419434,
          16.3521671295166,
          18.245887756347656,
          4.647946834564209,
          17.603656768798828,
          -10.939228057861328,
          19.83149528503418,
          1.6677500009536743,
          13.221697807312012,
          -7.834497928619385,
          15.967973709106445,
          46.42000961303711,
          -7.554225921630859,
          -8.14886474609375,
          5.957881450653076,
          46.99647521972656,
          -10.967556953430176,
          1.7156778573989868,
          16.390443801879883,
          -30.929317474365234,
          -4.746814250946045,
          13.02383041381836,
          23.416738510131836,
          10.901312828063965,
          1.3814647197723389,
          15.725367546081543,
          -17.10013771057129,
          12.551337242126465,
          1.146033763885498,
          19.421737670898438,
          9.391984939575195,
          16.14999008178711,
          -28.316293716430664,
          -12.931729316711426,
          6.441643238067627,
          14.956310272216797,
          14.635931015014648,
          0.4354046583175659,
          -16.80141830444336,
          6.622604846954346,
          -16.281333923339844,
          45.76525115966797,
          13.993720054626465,
          14.229796409606934,
          4.749441623687744,
          -7.286574840545654,
          16.000953674316406,
          11.846256256103516,
          15.914005279541016,
          -16.357864379882812,
          13.987015724182129,
          3.0272834300994873,
          9.92052173614502,
          14.999115943908691,
          13.983346939086914,
          17.130279541015625,
          16.20806884765625,
          19.857318878173828,
          7.962378978729248,
          -6.663120269775391,
          6.628750324249268,
          24.001205444335938,
          -15.280206680297852,
          -17.776859283447266,
          -18.158187866210938,
          15.263839721679688,
          20.09963035583496,
          1.0056270360946655,
          20.611597061157227,
          -15.206474304199219,
          -11.706374168395996,
          -8.009751319885254,
          0.950377881526947,
          19.43311882019043,
          -2.6090567111968994,
          -20.405193328857422,
          15.995651245117188,
          -17.86300277709961,
          -24.960939407348633,
          20.888214111328125,
          -13.746901512145996,
          -13.410526275634766,
          -18.86446189880371,
          -23.32169532775879,
          -8.087331771850586,
          25.454051971435547,
          0.4251733124256134,
          14.744449615478516,
          -12.230352401733398,
          22.87013816833496,
          -15.365642547607422,
          5.854869365692139,
          -16.99882698059082,
          12.549930572509766,
          -28.90650177001953,
          -21.469675064086914,
          7.6766743659973145,
          8.192754745483398,
          22.715303421020508,
          11.120038986206055,
          5.346501350402832,
          -7.078708171844482,
          4.643311500549316,
          10.38180160522461,
          5.327417373657227,
          11.254076957702637,
          10.45721435546875,
          -6.2765421867370605,
          9.649846076965332,
          -10.803020477294922,
          -13.808537483215332,
          -6.70105504989624,
          6.930448055267334,
          -1.6017223596572876,
          -13.67737102508545,
          -6.158383846282959,
          -7.474761962890625,
          23.722503662109375,
          3.0366392135620117,
          24.266191482543945,
          1.1146074533462524,
          14.471174240112305,
          2.2304561138153076,
          -21.25691795349121,
          17.82680320739746,
          -3.7324912548065186,
          -7.583120822906494,
          -18.933088302612305,
          19.457792282104492,
          -12.735264778137207,
          2.975358009338379,
          -7.891159534454346,
          6.438652515411377,
          2.335359573364258,
          15.475775718688965,
          8.30402946472168,
          -17.45828628540039,
          10.089634895324707,
          10.647743225097656,
          5.116358280181885,
          21.01058006286621,
          2.4213333129882812,
          -28.969423294067383,
          -4.421119689941406,
          -8.825227737426758,
          11.758503913879395,
          -9.032083511352539,
          -15.398664474487305,
          -12.01215648651123,
          -23.987380981445312,
          -18.422800064086914,
          -1.9470148086547852,
          4.798753261566162,
          20.899707794189453,
          24.32459259033203,
          13.585906982421875,
          5.252614974975586,
          16.16143035888672,
          15.376651763916016,
          16.511877059936523,
          11.066800117492676,
          20.489381790161133,
          -10.477339744567871,
          -7.44501256942749,
          -7.034018516540527,
          4.471154689788818,
          -0.37390345335006714,
          9.712810516357422,
          12.766844749450684,
          -8.755411148071289,
          -9.065025329589844,
          20.74163246154785,
          -11.175235748291016,
          -8.139975547790527,
          -22.190013885498047,
          17.917272567749023,
          -5.968249320983887,
          -12.678427696228027,
          3.5171117782592773,
          -2.144002914428711,
          -12.75328254699707,
          -1.7693438529968262,
          -21.48129653930664,
          -24.96613311767578,
          -5.145697593688965,
          -14.34389877319336,
          -18.68145751953125,
          -18.508874893188477,
          -17.49680519104004,
          -16.07330322265625,
          -14.633051872253418,
          -25.77507781982422,
          -17.55140495300293,
          -0.42193320393562317,
          -1.413489580154419,
          -4.474217414855957,
          -4.611700057983398,
          -20.69824981689453,
          -13.27460765838623,
          -19.41999626159668,
          1.8101732730865479,
          16.44940185546875,
          -4.236706256866455,
          15.248106956481934,
          21.02587127685547,
          0.0667395070195198,
          3.775285482406616,
          -12.837571144104004,
          18.29613494873047,
          16.984390258789062,
          19.949411392211914,
          18.969768524169922,
          -7.722321033477783,
          21.083839416503906,
          18.99091148376465,
          19.887048721313477,
          -1.6916157007217407,
          0.6715791821479797,
          9.334614753723145,
          16.51885414123535,
          6.0056233406066895,
          7.309631824493408,
          -16.408550262451172,
          17.688289642333984,
          9.189132690429688,
          20.925661087036133,
          16.02528953552246,
          7.081925392150879,
          26.497478485107422,
          19.464229583740234,
          25.125276565551758,
          0.7428035140037537,
          -20.9196720123291,
          -1.935826063156128,
          -9.88200855255127,
          -5.103717803955078,
          -1.349605917930603,
          -11.05130672454834,
          -17.357934951782227,
          -4.847853183746338,
          6.622686862945557,
          9.85601806640625,
          -1.2247766256332397,
          12.576560020446777,
          -11.835487365722656,
          -0.7416319847106934,
          -9.95598030090332,
          -26.69487190246582,
          -23.13644790649414,
          1.575134515762329,
          20.998252868652344,
          -15.758437156677246,
          10.969974517822266,
          -15.822565078735352,
          25.603069305419922,
          18.247982025146484,
          20.882822036743164,
          22.948143005371094,
          19.857086181640625,
          18.04679298400879,
          20.143041610717773,
          16.895036697387695,
          5.226283550262451,
          12.330588340759277,
          27.91710090637207,
          2.499112367630005,
          -10.361383438110352,
          20.150714874267578,
          13.139920234680176,
          2.705235004425049,
          5.093051910400391,
          4.744720458984375,
          -17.01929473876953,
          3.3519036769866943,
          20.899887084960938,
          -14.744932174682617,
          23.041955947875977,
          -15.850180625915527,
          6.04810905456543,
          20.948022842407227,
          8.409876823425293,
          23.509016036987305,
          5.841444969177246,
          -11.26993465423584,
          7.846032619476318,
          -7.313181400299072,
          3.2582945823669434,
          -13.5691556930542,
          16.46017074584961,
          -13.465338706970215,
          -8.287130355834961,
          -22.763364791870117,
          -6.4890947341918945,
          -14.93578815460205,
          -11.755322456359863,
          -12.10434627532959,
          -8.8148832321167,
          -31.18581771850586,
          -1.7289155721664429,
          9.526795387268066,
          -16.382349014282227,
          12.062602043151855,
          -6.588578224182129,
          8.959635734558105,
          -7.83462381362915,
          16.284521102905273,
          14.68891716003418,
          -16.24907112121582,
          -11.092705726623535,
          1.7229434251785278,
          -2.5945000648498535,
          -22.849685668945312,
          -27.08878517150879,
          -7.10268497467041,
          23.28441619873047,
          13.02685832977295,
          21.367515563964844,
          17.747669219970703,
          2.867615222930908,
          3.860823392868042,
          -10.305538177490234,
          20.261930465698242,
          8.620969772338867,
          10.935882568359375,
          -11.032430648803711,
          -11.13583755493164,
          -21.62972640991211,
          10.074701309204102,
          -14.066821098327637,
          20.649728775024414,
          -19.984066009521484,
          9.88492488861084,
          4.793994426727295,
          1.3379249572753906,
          0.9174748659133911,
          -17.091283798217773,
          -13.454862594604492,
          -1.8545368909835815,
          -9.481098175048828,
          9.39652156829834,
          -10.725082397460938,
          -0.8144989609718323,
          -12.941740036010742,
          -27.043397903442383,
          -11.273884773254395,
          -18.487150192260742,
          11.59243392944336,
          -6.971853256225586,
          -13.798015594482422,
          -16.63003158569336,
          -24.182262420654297,
          -6.8115081787109375,
          -14.913902282714844,
          -26.18364715576172,
          8.620321273803711,
          -13.874238014221191,
          -13.449109077453613,
          -9.239959716796875,
          -20.67681884765625,
          4.101737022399902,
          -7.36853551864624,
          -9.826529502868652,
          1.0404276847839355,
          4.134859561920166,
          -15.153695106506348,
          -0.3975406885147095,
          9.340045928955078,
          10.282191276550293,
          -10.169951438903809,
          -15.057501792907715,
          -27.831972122192383,
          -19.342676162719727,
          17.560075759887695,
          28.046144485473633,
          -19.127927780151367,
          -13.270776748657227,
          -23.366987228393555,
          -13.422978401184082,
          13.142694473266602,
          5.303493976593018,
          -11.314879417419434,
          -5.0524444580078125,
          44.96389389038086,
          -6.588289737701416,
          10.567259788513184,
          -15.632701873779297,
          -11.522375106811523,
          -0.5124606490135193,
          -11.313213348388672,
          20.741296768188477,
          20.041065216064453,
          7.000355243682861,
          19.155534744262695,
          -1.4975385665893555,
          -7.277151584625244,
          0.23941271007061005,
          -19.707050323486328,
          -16.22642707824707,
          -18.390968322753906,
          -16.336891174316406,
          14.249608993530273,
          -12.28760051727295,
          -12.020421981811523,
          -21.310514450073242,
          21.682355880737305,
          12.30172061920166,
          21.83694076538086,
          19.738922119140625,
          17.024112701416016,
          15.22223949432373,
          25.566694259643555,
          -11.081147193908691,
          21.280717849731445,
          -26.24824333190918,
          -17.291873931884766,
          10.915619850158691,
          -7.400745391845703,
          5.599483013153076,
          -16.15170669555664,
          -8.55227279663086,
          -16.19999885559082,
          -16.351301193237305,
          -18.710386276245117,
          -3.567176580429077,
          -11.876444816589355,
          -18.86162757873535,
          -14.709999084472656,
          -23.4503173828125,
          48.329017639160156,
          -23.393953323364258,
          -23.615942001342773,
          -27.381668090820312,
          7.82725715637207,
          10.46330451965332,
          9.263031959533691,
          14.965770721435547,
          23.30037498474121,
          17.873632431030273,
          -15.751218795776367,
          4.197021961212158,
          10.741500854492188,
          16.073957443237305,
          17.225135803222656,
          -6.149378776550293,
          18.8133602142334,
          -7.610921382904053,
          6.467226505279541,
          13.558733940124512,
          -1.734613060951233,
          -3.80479097366333,
          -16.510175704956055,
          7.9732208251953125,
          12.758480072021484,
          -6.646542072296143,
          -1.5474531650543213,
          19.385679244995117,
          17.692665100097656,
          20.69940757751465,
          2.682948112487793,
          8.911345481872559,
          -2.932032346725464,
          -10.083953857421875,
          -2.432391881942749,
          45.932373046875,
          0.3146655559539795,
          -1.093212366104126,
          24.06000328063965,
          -4.779421806335449,
          -10.693591117858887,
          6.376976490020752,
          -4.0815019607543945,
          12.497711181640625,
          -24.080814361572266,
          23.40959930419922,
          14.359436988830566,
          -2.549215316772461,
          6.844419002532959,
          23.985118865966797,
          -15.303899765014648,
          -6.075367450714111,
          20.255653381347656,
          16.898509979248047,
          -0.30935904383659363,
          10.705524444580078,
          11.728983879089355,
          10.379769325256348,
          13.325419425964355,
          12.611600875854492,
          -14.096954345703125,
          0.11093984544277191,
          -17.577381134033203,
          -0.15169431269168854,
          1.2308825254440308,
          -19.455209732055664,
          -13.205157279968262,
          -2.2767770290374756,
          4.8194661140441895,
          22.367815017700195,
          13.938360214233398,
          8.521561622619629,
          11.812170028686523,
          16.689924240112305,
          8.121519088745117,
          21.14150619506836,
          6.033924102783203,
          -5.694597244262695,
          11.900876998901367,
          4.195069313049316,
          1.6434974670410156,
          -8.108074188232422,
          20.577802658081055,
          5.425778388977051,
          1.0523741245269775,
          -22.080570220947266,
          25.97888946533203,
          -6.843103408813477,
          20.28243064880371,
          47.06175231933594,
          2.5216197967529297,
          12.999574661254883,
          -16.15635871887207,
          11.704846382141113,
          14.109814643859863,
          -8.077253341674805,
          7.432466983795166,
          -15.786775588989258,
          -16.845191955566406,
          17.46859359741211,
          4.463095188140869,
          -16.057825088500977,
          11.23241138458252,
          47.04135513305664,
          9.7174711227417,
          -15.195733070373535,
          16.27484893798828,
          26.18745994567871,
          45.368080139160156,
          -8.120912551879883,
          5.528786659240723,
          -9.093860626220703,
          -21.283344268798828,
          8.534321784973145,
          4.512035369873047,
          -4.0456976890563965,
          23.566850662231445,
          20.95779800415039,
          10.705439567565918,
          25.068958282470703,
          3.0232930183410645,
          -8.606053352355957,
          -8.323012351989746,
          10.258872032165527,
          24.643131256103516,
          -5.486657619476318,
          12.418586730957031,
          -10.813491821289062,
          46.020973205566406,
          -9.021526336669922,
          -16.05672836303711,
          10.075553894042969,
          -27.399883270263672,
          24.821229934692383,
          13.299577713012695,
          22.113733291625977,
          17.79395866394043,
          -4.662757873535156,
          24.107881546020508,
          24.00826072692871,
          24.339946746826172,
          -5.39762020111084,
          23.48727798461914,
          -6.5599188804626465,
          11.398265838623047,
          -6.961846351623535,
          11.1583251953125,
          23.106685638427734,
          45.49432373046875,
          24.81650161743164,
          -2.044703245162964,
          23.918567657470703,
          -8.469632148742676,
          23.75816535949707,
          18.02916717529297,
          -2.8712282180786133,
          23.178373336791992,
          -17.31930160522461,
          23.901412963867188,
          10.069392204284668,
          -14.151350021362305,
          23.040464401245117,
          24.84790802001953,
          45.84425735473633,
          17.008615493774414,
          24.589162826538086,
          -20.083402633666992,
          -18.67990493774414,
          -15.699942588806152,
          4.76864767074585,
          22.15529441833496,
          -9.775193214416504,
          24.830402374267578,
          24.59775161743164,
          -14.001787185668945,
          26.784420013427734,
          -8.93308162689209,
          -16.973661422729492,
          -12.160901069641113,
          -1.5445955991744995,
          2.7814218997955322,
          -8.976083755493164,
          11.750099182128906,
          27.30906867980957,
          -9.717183113098145,
          26.62201690673828,
          4.611215591430664,
          -16.30138397216797,
          4.624324321746826,
          5.167994499206543,
          4.1528544425964355,
          20.414281845092773,
          15.44841480255127,
          -18.554290771484375,
          -16.95688819885254,
          -15.986188888549805,
          -26.58804702758789,
          -28.63003158569336,
          5.70481538772583,
          -9.155858039855957,
          -1.5573885440826416,
          6.759392738342285,
          7.978504657745361,
          -21.877099990844727,
          -6.240370750427246,
          -10.415727615356445,
          15.834205627441406,
          21.234880447387695,
          8.22128677368164,
          6.9096198081970215,
          3.7706007957458496,
          8.223326683044434,
          7.626473426818848,
          10.553888320922852,
          23.39266014099121,
          10.584949493408203,
          -3.5330817699432373,
          -14.691044807434082,
          17.73396873474121,
          18.888471603393555,
          -13.124669075012207,
          -3.065211057662964,
          15.865099906921387,
          -13.2439603805542,
          -4.769364833831787,
          -3.1571125984191895,
          -10.865056037902832,
          -26.776578903198242,
          -6.120438575744629,
          4.4574432373046875,
          -12.856488227844238,
          13.990346908569336,
          4.929629802703857,
          -8.607537269592285,
          9.607382774353027,
          10.602860450744629,
          8.234718322753906,
          -13.128776550292969,
          5.874296188354492,
          -13.571151733398438,
          -8.848771095275879,
          12.271809577941895,
          -4.917135715484619,
          -4.758355140686035,
          -24.305133819580078,
          19.019901275634766,
          -7.995383262634277,
          48.04579544067383,
          -20.075014114379883,
          -8.010222434997559,
          -22.201459884643555,
          -22.58572006225586,
          44.96165466308594,
          -5.710007667541504,
          8.287725448608398,
          -18.93840980529785,
          -7.971956253051758,
          -22.55733871459961,
          -6.7861175537109375,
          47.4023323059082,
          16.528371810913086,
          -19.867828369140625,
          18.54810905456543,
          -15.234320640563965,
          9.5900239944458,
          -14.149170875549316,
          -14.47538948059082,
          -4.799895286560059,
          4.811943054199219,
          13.414897918701172,
          18.10531997680664,
          46.78560256958008,
          -19.78988265991211,
          -1.7867019176483154,
          -9.818310737609863,
          48.01482009887695,
          4.722581386566162,
          3.6601309776306152,
          12.20608901977539,
          23.094388961791992,
          7.748111724853516,
          -14.535501480102539,
          12.290074348449707,
          -6.452178955078125,
          2.5522828102111816,
          19.521196365356445,
          6.94697380065918,
          -15.022256851196289,
          19.540912628173828,
          3.6474668979644775,
          45.8604850769043,
          2.890857219696045,
          45.93614196777344,
          19.9811954498291,
          3.241929292678833,
          20.66065216064453,
          18.440570831298828,
          3.0074615478515625,
          -19.673614501953125,
          -14.509936332702637,
          -1.1759324073791504,
          20.14205551147461,
          -5.2389326095581055,
          2.156247854232788,
          45.012290954589844,
          -17.32138442993164,
          -8.871828079223633,
          19.790597915649414,
          17.69048309326172,
          -10.791598320007324,
          -6.494301795959473,
          -20.103561401367188,
          17.89580535888672,
          -11.38759708404541,
          -6.8116230964660645,
          -6.044371604919434,
          5.396955490112305,
          12.266695022583008,
          5.393795490264893,
          14.457791328430176,
          -7.952652931213379,
          13.111448287963867,
          8.034459114074707,
          -20.0161075592041,
          -19.884037017822266,
          45.90256881713867,
          13.315649032592773,
          -7.881235599517822,
          -13.172531127929688,
          11.353785514831543,
          -14.958279609680176,
          11.107693672180176,
          -24.154964447021484,
          19.400115966796875,
          -15.941856384277344,
          -27.249053955078125,
          -14.512941360473633,
          1.9093478918075562,
          14.004859924316406,
          12.569340705871582,
          -17.796201705932617,
          4.3777947425842285,
          47.61763381958008,
          6.283660888671875,
          -2.002699136734009,
          26.695140838623047,
          48.00672912597656,
          25.935245513916016,
          25.86249351501465,
          -3.2194390296936035,
          46.74209976196289,
          12.462385177612305,
          -6.81672477722168,
          -3.246983051300049,
          -14.012516975402832,
          7.475412368774414,
          25.641416549682617,
          -16.44901466369629,
          26.49947166442871,
          -16.812326431274414,
          26.41012191772461,
          25.484477996826172,
          26.341175079345703,
          47.4198112487793,
          27.132217407226562,
          47.33967971801758,
          46.34796905517578,
          26.86577033996582,
          26.095308303833008,
          45.159759521484375,
          26.00727653503418,
          25.675762176513672,
          26.243860244750977,
          27.12308120727539,
          26.62462615966797,
          25.24770164489746,
          26.649696350097656,
          -1.893662691116333,
          26.671649932861328,
          26.181486129760742,
          46.647621154785156,
          25.20565414428711,
          44.98659133911133,
          47.86046600341797,
          -2.4540975093841553,
          26.6314640045166,
          24.910070419311523,
          5.420894622802734,
          -7.220736980438232,
          4.703450679779053,
          -16.39723014831543,
          -17.998058319091797,
          47.82195281982422,
          -5.143407821655273,
          46.08906173706055,
          15.63794231414795,
          -15.627389907836914,
          17.353464126586914,
          -14.568553924560547,
          0.26756715774536133,
          19.866003036499023,
          -13.360284805297852,
          47.10474395751953,
          -14.028841972351074,
          12.512094497680664,
          13.532119750976562,
          -11.871487617492676,
          12.567839622497559,
          20.189876556396484,
          13.294196128845215,
          -6.024113178253174,
          -18.215951919555664,
          -1.976433277130127,
          48.77383041381836,
          13.816128730773926,
          44.46485900878906,
          -15.963540077209473,
          47.24131774902344,
          -7.091291904449463,
          13.608756065368652,
          19.620342254638672,
          8.883523941040039,
          -14.605424880981445,
          11.824627876281738,
          -1.4542251825332642,
          21.44574737548828,
          10.39326000213623,
          -8.044638633728027,
          -16.770986557006836,
          -1.4170485734939575,
          10.193958282470703,
          -1.3370380401611328,
          -1.3389350175857544,
          10.716141700744629,
          -1.4625986814498901,
          47.71881866455078,
          -1.5640623569488525,
          48.95256423950195,
          -2.2230873107910156,
          -1.534219741821289,
          46.44377136230469,
          -16.151039123535156,
          9.257274627685547,
          46.751075744628906,
          44.442630767822266,
          -14.286137580871582,
          -1.6082878112792969,
          45.43082809448242,
          -1.5726803541183472,
          45.28156280517578,
          44.36071014404297,
          17.377538681030273,
          48.019386291503906,
          46.06188201904297,
          47.056785583496094,
          12.198478698730469,
          10.050917625427246,
          -9.75864028930664,
          20.178497314453125,
          19.512346267700195,
          20.352663040161133,
          13.139055252075195,
          12.399490356445312,
          -4.078608512878418,
          47.738731384277344,
          13.304905891418457,
          5.248600959777832,
          5.3585429191589355,
          14.120036125183105,
          4.940042495727539,
          19.180917739868164,
          13.982843399047852,
          10.740053176879883,
          -26.488460540771484,
          47.900203704833984,
          19.164377212524414,
          -13.187433242797852,
          20.173656463623047,
          11.140357971191406,
          13.943291664123535,
          15.119497299194336,
          -14.471039772033691
         ],
         "xaxis": "x",
         "y": [
          22.223352432250977,
          8.980498313903809,
          4.376957416534424,
          19.33603858947754,
          13.403517723083496,
          4.804101467132568,
          24.196029663085938,
          18.699235916137695,
          4.8847808837890625,
          -3.4394278526306152,
          22.817331314086914,
          19.51057243347168,
          5.398155689239502,
          3.7213127613067627,
          21.29404640197754,
          0.32453683018684387,
          -4.048274517059326,
          -18.78607177734375,
          5.73723840713501,
          -11.478277206420898,
          3.360400438308716,
          24.419206619262695,
          6.958367347717285,
          6.290874004364014,
          -3.9041316509246826,
          21.531768798828125,
          16.311504364013672,
          20.725566864013672,
          6.018043518066406,
          6.9705810546875,
          19.755441665649414,
          -9.389945030212402,
          2.945640802383423,
          7.752864360809326,
          -22.89127540588379,
          -8.054266929626465,
          -8.516961097717285,
          4.778352737426758,
          -11.24740219116211,
          3.0274899005889893,
          -2.0719306468963623,
          13.98501205444336,
          7.969604015350342,
          -8.480366706848145,
          5.425276756286621,
          -6.092370986938477,
          -16.29952621459961,
          12.965934753417969,
          -1.124880075454712,
          25.553030014038086,
          5.089080810546875,
          -5.865300178527832,
          -4.550992012023926,
          18.0546875,
          15.626572608947754,
          7.881864070892334,
          4.502493381500244,
          4.473165512084961,
          -0.09796357154846191,
          3.0629658699035645,
          1.005828857421875,
          14.071513175964355,
          10.958364486694336,
          20.31861114501953,
          -4.934390068054199,
          21.941051483154297,
          -3.5166165828704834,
          11.115838050842285,
          24.44565200805664,
          0.6917638778686523,
          18.713977813720703,
          17.708097457885742,
          17.41844940185547,
          -11.666398048400879,
          15.00597858428955,
          17.536216735839844,
          20.455121994018555,
          6.900531768798828,
          24.819168090820312,
          1.7834233045578003,
          -14.799697875976562,
          23.92142105102539,
          12.291143417358398,
          14.86062240600586,
          3.362149238586426,
          -2.2059412002563477,
          16.207468032836914,
          22.013051986694336,
          14.444122314453125,
          7.6280837059021,
          7.609883785247803,
          5.1035590171813965,
          5.359052658081055,
          6.093872547149658,
          23.93600082397461,
          26.01148796081543,
          19.65347671508789,
          20.15020179748535,
          19.572675704956055,
          11.792206764221191,
          17.775867462158203,
          5.87997579574585,
          -21.830799102783203,
          -18.267284393310547,
          -3.6358911991119385,
          -1.9053730964660645,
          -6.648211479187012,
          6.623103618621826,
          3.5573410987854004,
          -8.730583190917969,
          -5.634335517883301,
          -4.964283466339111,
          7.539193630218506,
          13.401707649230957,
          6.267566204071045,
          6.43274450302124,
          18.461837768554688,
          16.949445724487305,
          5.2951979637146,
          1.3959300518035889,
          17.20670509338379,
          -7.701568603515625,
          2.9987051486968994,
          -7.2449212074279785,
          13.626132011413574,
          0.8111528158187866,
          14.767292022705078,
          7.4448418617248535,
          22.665042877197266,
          -16.58799171447754,
          15.815732955932617,
          17.32878875732422,
          21.87199592590332,
          18.203134536743164,
          14.185970306396484,
          20.990571975708008,
          -2.1998844146728516,
          2.0866751670837402,
          9.140742301940918,
          9.5099515914917,
          21.924352645874023,
          6.362692832946777,
          19.952648162841797,
          24.770387649536133,
          0.07299035787582397,
          1.532730221748352,
          17.7512264251709,
          15.395898818969727,
          -16.46019744873047,
          11.990422248840332,
          12.822334289550781,
          12.868026733398438,
          10.582711219787598,
          -14.921732902526855,
          22.681079864501953,
          13.491280555725098,
          8.3309326171875,
          -0.9273233413696289,
          -4.476885795593262,
          -14.910537719726562,
          14.924064636230469,
          -3.2843236923217773,
          9.2571439743042,
          17.137298583984375,
          8.889678955078125,
          8.761837005615234,
          8.319825172424316,
          13.646915435791016,
          11.942168235778809,
          9.156317710876465,
          3.0938339233398438,
          25.242305755615234,
          23.552902221679688,
          25.090055465698242,
          -11.154997825622559,
          23.888917922973633,
          17.790157318115234,
          13.037111282348633,
          2.4141008853912354,
          8.02196216583252,
          25.691152572631836,
          7.284701824188232,
          24.018686294555664,
          7.605860233306885,
          12.552728652954102,
          25.812047958374023,
          15.987993240356445,
          12.532594680786133,
          3.6843185424804688,
          18.4931640625,
          17.67725944519043,
          5.86325216293335,
          21.769441604614258,
          20.47819709777832,
          26.078062057495117,
          15.640722274780273,
          15.901753425598145,
          10.862605094909668,
          15.207077026367188,
          -0.42332059144973755,
          -12.573148727416992,
          22.01462745666504,
          1.455932378768921,
          24.440277099609375,
          21.384370803833008,
          6.49149227142334,
          1.8157862424850464,
          17.051822662353516,
          8.16960334777832,
          22.169418334960938,
          14.977130889892578,
          -1.8360155820846558,
          16.929105758666992,
          -16.856966018676758,
          23.811689376831055,
          15.535733222961426,
          11.256840705871582,
          14.232203483581543,
          16.422571182250977,
          5.447636127471924,
          4.678225517272949,
          19.816600799560547,
          11.102459907531738,
          6.244762420654297,
          -22.955781936645508,
          15.260643005371094,
          22.529088973999023,
          26.743600845336914,
          9.892260551452637,
          22.483396530151367,
          10.665624618530273,
          21.596616744995117,
          11.747743606567383,
          12.754303932189941,
          10.080846786499023,
          3.498067855834961,
          18.771066665649414,
          2.4949798583984375,
          17.705947875976562,
          -8.245458602905273,
          8.337852478027344,
          -1.57472562789917,
          20.104066848754883,
          -6.09454345703125,
          22.56426239013672,
          19.5955810546875,
          -19.810562133789062,
          11.320817947387695,
          10.064993858337402,
          15.798296928405762,
          4.773467063903809,
          13.249417304992676,
          9.145203590393066,
          4.95879602432251,
          13.72826099395752,
          4.704035758972168,
          23.846342086791992,
          25.921003341674805,
          -2.943941354751587,
          -6.436084270477295,
          -0.25577133893966675,
          -7.507073879241943,
          -20.86680793762207,
          -23.219053268432617,
          23.554780960083008,
          -6.522440433502197,
          16.435890197753906,
          19.62654685974121,
          -12.245709419250488,
          16.161701202392578,
          18.552419662475586,
          14.805438995361328,
          14.63715648651123,
          21.24995994567871,
          15.546188354492188,
          6.767826557159424,
          -7.411065578460693,
          16.904556274414062,
          16.477224349975586,
          14.552580833435059,
          -1.6654516458511353,
          18.27177619934082,
          0.7284614443778992,
          13.238448143005371,
          4.371327877044678,
          -14.200531959533691,
          -3.1665613651275635,
          15.827461242675781,
          16.904428482055664,
          3.2329061031341553,
          19.570453643798828,
          -1.4438550472259521,
          18.702484130859375,
          22.446426391601562,
          10.398382186889648,
          -5.415403366088867,
          7.85941743850708,
          17.6893253326416,
          -12.421406745910645,
          18.767414093017578,
          19.820764541625977,
          -14.039886474609375,
          -13.187718391418457,
          15.52312183380127,
          -13.796591758728027,
          6.096457481384277,
          12.633216857910156,
          -20.350664138793945,
          20.78865623474121,
          25.305526733398438,
          -0.067109614610672,
          -18.7954044342041,
          25.75143814086914,
          -23.20478630065918,
          14.34591007232666,
          14.426416397094727,
          9.285457611083984,
          22.164148330688477,
          -8.271018028259277,
          5.425439357757568,
          -5.547684669494629,
          22.313373565673828,
          20.35826301574707,
          -20.27225685119629,
          -2.2410833835601807,
          18.263633728027344,
          13.839776992797852,
          20.95314598083496,
          0.9417953491210938,
          1.5637435913085938,
          -24.99722671508789,
          22.203601837158203,
          16.775535583496094,
          -11.581990242004395,
          -18.88121223449707,
          8.400834083557129,
          1.579227328300476,
          0.06503485888242722,
          8.807802200317383,
          -1.6924976110458374,
          8.046195983886719,
          3.3122925758361816,
          20.899017333984375,
          -13.319811820983887,
          -2.1156134605407715,
          -14.038078308105469,
          -14.348048210144043,
          13.7578763961792,
          1.1225758790969849,
          -3.4308319091796875,
          -15.029231071472168,
          -11.333749771118164,
          -23.300046920776367,
          16.439525604248047,
          -17.884714126586914,
          10.946911811828613,
          16.498374938964844,
          -19.52859115600586,
          -7.117547035217285,
          -3.6666698455810547,
          -6.247589588165283,
          -11.763555526733398,
          -14.965324401855469,
          -3.7381463050842285,
          9.536850929260254,
          12.068313598632812,
          11.135676383972168,
          -9.302196502685547,
          -8.585453033447266,
          -1.1095354557037354,
          -8.289588928222656,
          3.5014758110046387,
          5.399702072143555,
          2.8297371864318848,
          -17.194372177124023,
          11.756385803222656,
          -4.423301696777344,
          19.553466796875,
          -0.8803087472915649,
          16.845016479492188,
          -0.9182609915733337,
          4.384530067443848,
          -7.874619007110596,
          6.136058330535889,
          21.48538589477539,
          7.762796401977539,
          -1.9376976490020752,
          -5.9472975730896,
          19.638168334960938,
          3.7713117599487305,
          -6.738959312438965,
          5.26845645904541,
          19.109434127807617,
          1.3943707942962646,
          5.736187934875488,
          -15.955499649047852,
          5.959094047546387,
          -4.0334367752075195,
          14.859137535095215,
          -11.270845413208008,
          -9.197108268737793,
          22.571435928344727,
          25.7355899810791,
          21.269346237182617,
          16.999038696289062,
          -6.803344249725342,
          -3.296274185180664,
          11.88335132598877,
          4.279848575592041,
          -0.3258127272129059,
          -1.9663714170455933,
          -18.945703506469727,
          -1.689738392829895,
          -13.047375679016113,
          10.402205467224121,
          22.822446823120117,
          12.806608200073242,
          18.74822425842285,
          20.076711654663086,
          12.717541694641113,
          5.849298477172852,
          -6.899001121520996,
          20.20186996459961,
          -19.451152801513672,
          3.1956870555877686,
          -0.09155317395925522,
          17.635801315307617,
          4.812838077545166,
          14.547229766845703,
          18.510128021240234,
          22.418624877929688,
          12.95298957824707,
          8.903677940368652,
          14.50979995727539,
          20.344030380249023,
          7.039756774902344,
          -25.48676300048828,
          -22.822513580322266,
          -24.697555541992188,
          -18.821609497070312,
          -4.190743446350098,
          -18.129152297973633,
          12.904118537902832,
          -15.770870208740234,
          13.182894706726074,
          -3.2281880378723145,
          9.428378105163574,
          -10.211369514465332,
          -22.403425216674805,
          -12.017494201660156,
          9.9594144821167,
          -3.29293155670166,
          7.997490406036377,
          9.861117362976074,
          2.83367657661438,
          0.019398566335439682,
          -19.798675537109375,
          -4.470949649810791,
          2.842353343963623,
          -2.6576642990112305,
          8.033645629882812,
          0.23294758796691895,
          4.168177127838135,
          -2.3016109466552734,
          11.166382789611816,
          4.7843146324157715,
          8.590974807739258,
          13.364447593688965,
          -13.596543312072754,
          17.132572174072266,
          15.486407279968262,
          19.841386795043945,
          -17.760147094726562,
          0.27664923667907715,
          7.070828914642334,
          -7.011954307556152,
          0.9528794884681702,
          10.181258201599121,
          0.8260218501091003,
          16.709089279174805,
          2.477682113647461,
          19.58165168762207,
          17.504114151000977,
          15.87236499786377,
          11.39023208618164,
          16.73828125,
          13.641621589660645,
          -1.797314167022705,
          6.374436855316162,
          -0.33928266167640686,
          16.910255432128906,
          2.5086557865142822,
          -4.479588508605957,
          17.719196319580078,
          18.203311920166016,
          22.199838638305664,
          14.980770111083984,
          16.617206573486328,
          -3.883585214614868,
          21.469406127929688,
          19.817399978637695,
          11.000679016113281,
          10.83073616027832,
          -4.613951206207275,
          8.547318458557129,
          -3.4929921627044678,
          18.463716506958008,
          9.655961990356445,
          0.1577461063861847,
          9.087535858154297,
          18.2866153717041,
          3.284818410873413,
          1.8473505973815918,
          -6.838626384735107,
          13.572503089904785,
          2.609633684158325,
          -5.074535369873047,
          -3.0696592330932617,
          -5.300337314605713,
          21.99920082092285,
          9.51397705078125,
          0.6418155431747437,
          13.876171112060547,
          9.038124084472656,
          0.32960885763168335,
          21.44863510131836,
          20.91207504272461,
          16.019577026367188,
          -1.1708792448043823,
          7.632920742034912,
          16.1057186126709,
          9.290550231933594,
          -2.204690456390381,
          -0.44977855682373047,
          9.395987510681152,
          -8.049491882324219,
          9.073687553405762,
          6.688044548034668,
          -19.90787696838379,
          2.6945278644561768,
          -0.5098362565040588,
          11.722569465637207,
          -8.375170707702637,
          -1.5391449928283691,
          -16.4237117767334,
          -3.575387954711914,
          -0.6307434439659119,
          -15.880499839782715,
          -0.3536337614059448,
          15.796950340270996,
          -9.886096000671387,
          -0.002617512596771121,
          0.610413134098053,
          3.08815336227417,
          -19.731124877929688,
          -17.77939796447754,
          -1.6435279846191406,
          -0.18003395199775696,
          4.5400872230529785,
          -8.304828643798828,
          -1.9262573719024658,
          1.9275521039962769,
          0.45194315910339355,
          -18.144332885742188,
          9.202781677246094,
          19.875125885009766,
          -3.0392420291900635,
          20.599843978881836,
          2.014451742172241,
          -3.8266334533691406,
          9.944049835205078,
          3.244309425354004,
          -0.3058377504348755,
          2.2831883430480957,
          9.589296340942383,
          7.804000377655029,
          -16.198617935180664,
          13.785809516906738,
          8.731988906860352,
          -4.769397258758545,
          -4.246105670928955,
          -9.749940872192383,
          -3.938936471939087,
          7.193227291107178,
          6.1596174240112305,
          10.897989273071289,
          8.477788925170898,
          22.97662353515625,
          3.8332059383392334,
          -11.58736515045166,
          18.429309844970703,
          -5.671346187591553,
          -5.480810642242432,
          -20.132570266723633,
          0.6746184825897217,
          7.883266925811768,
          15.390643119812012,
          -13.604954719543457,
          -23.36322021484375,
          -15.282903671264648,
          11.1271390914917,
          -4.905832290649414,
          16.949832916259766,
          -6.844801425933838,
          15.7775297164917,
          -6.729042053222656,
          -4.591068744659424,
          2.7951180934906006,
          -14.491580963134766,
          -7.975042343139648,
          3.3814477920532227,
          10.91366958618164,
          11.587523460388184,
          20.255455017089844,
          2.4590718746185303,
          6.6722636222839355,
          7.911794662475586,
          -4.06906270980835,
          19.890422821044922,
          10.699182510375977,
          -16.672513961791992,
          6.059366703033447,
          7.787627696990967,
          -5.891345024108887,
          17.7445125579834,
          -8.265645980834961,
          11.393280982971191,
          19.532028198242188,
          8.747581481933594,
          14.164409637451172,
          -6.676868438720703,
          11.979560852050781,
          0.1681109219789505,
          16.085329055786133,
          -7.72080135345459,
          8.545257568359375,
          -14.727606773376465,
          -8.106749534606934,
          -3.1084654331207275,
          -15.767630577087402,
          -6.307142734527588,
          -1.711022138595581,
          -8.366399765014648,
          13.888628005981445,
          -0.5354494452476501,
          11.193421363830566,
          1.6731656789779663,
          9.555553436279297,
          4.096269130706787,
          0.3945745527744293,
          20.648521423339844,
          -17.520362854003906,
          -1.9474430084228516,
          -2.7466888427734375,
          19.04903793334961,
          -3.4890902042388916,
          2.240974187850952,
          13.717208862304688,
          9.903806686401367,
          13.263142585754395,
          15.69384479522705,
          17.79294204711914,
          6.135323524475098,
          -3.4423537254333496,
          -2.791508436203003,
          -12.16208553314209,
          -9.666136741638184,
          -10.9215087890625,
          -11.535308837890625,
          1.4207450151443481,
          8.213761329650879,
          -4.867580413818359,
          21.864578247070312,
          6.598781108856201,
          -0.37106558680534363,
          -6.582030296325684,
          -21.211055755615234,
          19.715852737426758,
          8.106142044067383,
          -6.488165855407715,
          0.6737414598464966,
          7.095788478851318,
          0.7712001800537109,
          21.029664993286133,
          19.950328826904297,
          5.723996162414551,
          -2.7048540115356445,
          -20.690357208251953,
          21.3021240234375,
          12.925354957580566,
          -2.9235730171203613,
          22.392200469970703,
          6.714908123016357,
          -5.716447353363037,
          -5.038431167602539,
          1.267892599105835,
          -2.70196270942688,
          -10.699360847473145,
          -0.7751333117485046,
          -7.395524501800537,
          2.4739773273468018,
          2.5226192474365234,
          9.5947904586792,
          -16.62688636779785,
          17.758953094482422,
          -1.5487762689590454,
          -2.122472047805786,
          -6.6736345291137695,
          -0.8249987363815308,
          24.884607315063477,
          -22.690031051635742,
          1.5358868837356567,
          4.831407070159912,
          -8.467089653015137,
          -13.531121253967285,
          -14.581546783447266,
          1.307895541191101,
          4.1112260818481445,
          -1.6280592679977417,
          9.83892822265625,
          3.905338764190674,
          -2.956956148147583,
          -12.87496280670166,
          17.086275100708008,
          -5.720938205718994,
          -9.00063419342041,
          4.296811103820801,
          6.036634922027588,
          18.994773864746094,
          9.356666564941406,
          12.138834953308105,
          23.845617294311523,
          -0.4617213308811188,
          2.279564142227173,
          11.8576021194458,
          6.597638130187988,
          -16.409259796142578,
          7.938541412353516,
          22.824846267700195,
          -5.267219543457031,
          3.4076123237609863,
          16.4310245513916,
          -10.908317565917969,
          7.3295512199401855,
          2.1924734115600586,
          4.343665599822998,
          4.864125728607178,
          21.950939178466797,
          -22.661052703857422,
          17.138845443725586,
          22.24639129638672,
          8.915788650512695,
          0.3256053030490875,
          -3.043614625930786,
          12.152450561523438,
          9.718180656433105,
          0.5398494601249695,
          -14.891162872314453,
          -3.543222427368164,
          -13.181130409240723,
          2.803194046020508,
          3.291642189025879,
          9.292988777160645,
          -1.9594558477401733,
          -0.9927037358283997,
          20.401338577270508,
          -10.455671310424805,
          -0.24107268452644348,
          2.7827346324920654,
          -13.363702774047852,
          -5.701460361480713,
          -11.031743049621582,
          -17.741395950317383,
          4.817381381988525,
          10.53740119934082,
          5.952020645141602,
          -14.01990795135498,
          15.69965648651123,
          -3.8668689727783203,
          -0.9870621562004089,
          11.609779357910156,
          -18.709924697875977,
          13.488869667053223,
          -19.51611328125,
          1.9203944206237793,
          -9.370518684387207,
          12.896981239318848,
          -21.516765594482422,
          5.851264953613281,
          -0.6037020683288574,
          -18.42655372619629,
          1.0329692363739014,
          11.252447128295898,
          10.412150382995605,
          6.324180603027344,
          9.217645645141602,
          0.8242815136909485,
          -14.109206199645996,
          -0.29870712757110596,
          -0.4688985049724579,
          5.328065395355225,
          6.158998489379883,
          -17.729646682739258,
          4.466928958892822,
          2.996889591217041,
          -7.021440029144287,
          4.309585094451904,
          -1.6105799674987793,
          7.641868591308594,
          -10.640610694885254,
          0.8437784910202026,
          2.6979639530181885,
          9.88436222076416,
          -20.526161193847656,
          13.646916389465332,
          -5.319503307342529,
          -2.5080649852752686,
          -11.17613697052002,
          -0.8834742307662964,
          -3.8154406547546387,
          13.044940948486328,
          -13.993939399719238,
          2.4823482036590576,
          -4.916690826416016,
          16.079591751098633,
          1.9724490642547607,
          17.965272903442383,
          -2.1363131999969482,
          -3.3118252754211426,
          -23.84390640258789,
          -13.726458549499512,
          -16.51799201965332,
          0.48932164907455444,
          -11.179457664489746,
          -1.4023008346557617,
          2.5008695125579834,
          10.319469451904297,
          -4.76735782623291,
          -23.578577041625977,
          -21.92314910888672,
          -0.4195496141910553,
          -8.774259567260742,
          -11.11837100982666,
          3.9342122077941895,
          17.718135833740234,
          -1.4582678079605103,
          11.544144630432129,
          -0.9917305111885071,
          -3.2592222690582275,
          0.6480663418769836,
          -2.790241003036499,
          -21.514305114746094,
          12.918132781982422,
          12.677281379699707,
          -1.4485571384429932,
          -5.738685607910156,
          -16.267282485961914,
          -25.20485496520996,
          -2.804291009902954,
          -1.7554742097854614,
          -13.126585960388184,
          -22.782756805419922,
          -2.9054410457611084,
          9.793715476989746,
          -4.974085807800293,
          23.02346420288086,
          -9.500042915344238,
          -4.264240741729736,
          20.12883758544922,
          7.517515182495117,
          -1.23414945602417,
          0.7707654237747192,
          -9.146114349365234,
          -4.743394374847412,
          -4.619859218597412,
          -1.4615614414215088,
          -23.098709106445312,
          -21.623300552368164,
          22.26270294189453,
          -10.742441177368164,
          0.9683029055595398,
          -1.6755952835083008,
          -3.032095432281494,
          13.091275215148926,
          -21.6708927154541,
          12.76457405090332,
          0.7391892075538635,
          13.514192581176758,
          -5.060523986816406,
          -7.8467326164245605,
          -17.598876953125,
          -0.7627407908439636,
          12.628373146057129,
          -22.724687576293945,
          -17.38469123840332,
          -9.18954086303711,
          -20.855167388916016,
          -16.81796646118164,
          -0.9409236311912537,
          0.9826302528381348,
          -13.7164888381958,
          7.1747331619262695,
          -21.24525260925293,
          -4.651108741760254,
          18.673906326293945,
          7.012106418609619,
          -5.001244068145752,
          -6.820888996124268,
          0.2080821394920349,
          -17.582359313964844,
          -15.819221496582031,
          -11.413297653198242,
          -21.502635955810547,
          -17.80265235900879,
          -9.61888599395752,
          -0.6628130674362183,
          -15.590153694152832,
          10.345113754272461,
          3.6966278553009033,
          -10.917872428894043,
          2.9691338539123535,
          -2.447737693786621,
          3.4044673442840576,
          -17.185089111328125,
          5.730449676513672,
          7.4815263748168945,
          -19.344432830810547,
          5.046177864074707,
          3.399768352508545,
          -0.74979567527771,
          -7.766538619995117,
          12.033795356750488,
          -4.960562229156494,
          11.928540229797363,
          7.596228122711182,
          13.383649826049805,
          -0.3959304690361023,
          -24.78476333618164,
          -0.06987380981445312,
          -6.094686985015869,
          8.840597152709961,
          8.043768882751465,
          -0.30693957209587097,
          4.865035057067871,
          10.428903579711914,
          8.952081680297852,
          -8.505960464477539,
          -7.266247749328613,
          18.56810760498047,
          -17.710798263549805,
          -19.9184627532959,
          3.3024587631225586,
          -8.555983543395996,
          9.32697582244873,
          -0.9997832775115967,
          -0.5753384828567505,
          -10.768969535827637,
          1.28615403175354,
          0.1092059537768364,
          -4.944011688232422,
          -4.02622127532959,
          -13.4368896484375,
          8.600895881652832,
          -6.856473445892334,
          -3.975203275680542,
          19.8782901763916,
          9.28901481628418,
          1.9712624549865723,
          14.505599975585938,
          -5.681255340576172,
          -1.1715377569198608,
          -9.79245376586914,
          6.263823509216309,
          7.626361846923828,
          -20.320711135864258,
          -16.776594161987305,
          -2.8661444187164307,
          -13.765848159790039,
          12.03775405883789,
          -13.172651290893555,
          -10.133370399475098,
          -8.012929916381836,
          12.448383331298828,
          20.038604736328125,
          -7.4706597328186035,
          -3.0496301651000977,
          -17.897357940673828,
          18.73133659362793,
          1.6102529764175415,
          7.266060829162598,
          -21.786285400390625,
          -14.600359916687012,
          -3.7777552604675293,
          -8.44701099395752,
          -8.084275245666504,
          -4.468996524810791,
          -14.095895767211914,
          -7.40242338180542,
          5.899687767028809,
          -2.6212363243103027,
          -16.366371154785156,
          -6.571891784667969,
          8.547744750976562,
          0.7100457549095154,
          -13.327713966369629,
          -0.5110582113265991,
          12.606130599975586,
          1.4096941947937012,
          -2.2934484481811523,
          -10.221100807189941,
          -7.1401047706604,
          9.242977142333984,
          -20.462160110473633,
          -0.44237542152404785,
          -1.2214432954788208,
          22.835609436035156,
          -13.589906692504883,
          -16.966442108154297,
          4.760184288024902,
          -8.286734580993652,
          -5.131568431854248,
          3.547283887863159,
          -1.192155361175537,
          -4.071976661682129,
          3.3100333213806152,
          2.839014768600464,
          -24.422327041625977,
          4.794933319091797,
          -14.776641845703125,
          -7.715593338012695,
          2.0967071056365967,
          -0.5425692796707153,
          -4.145759582519531,
          -8.262948036193848,
          8.465828895568848,
          -11.247520446777344,
          -22.9717960357666,
          -19.885671615600586,
          17.347183227539062,
          1.1561107635498047,
          11.392799377441406,
          -1.3425172567367554,
          -2.1630945205688477,
          13.29674243927002,
          -13.317197799682617,
          7.0905280113220215,
          7.530694484710693,
          -13.92781925201416,
          -1.0841584205627441,
          -0.32237011194229126,
          5.814560413360596,
          -7.576572418212891,
          12.950736045837402,
          7.071526050567627,
          3.9115428924560547,
          4.394399642944336,
          -11.948832511901855,
          0.3494766652584076,
          -4.094953536987305,
          -10.331679344177246,
          8.953978538513184,
          0.24912558495998383,
          18.863784790039062,
          18.08439064025879,
          3.384605884552002,
          -4.8015336990356445,
          8.696738243103027,
          -1.811948299407959,
          5.321767330169678,
          -0.06633003801107407,
          -1.3546509742736816,
          -2.2490460872650146,
          1.5934871435165405,
          13.164172172546387,
          14.23013973236084,
          12.182741165161133,
          2.759598970413208,
          2.6935155391693115,
          -15.502453804016113,
          -1.4887356758117676,
          1.9986282587051392,
          -20.938682556152344,
          -9.697067260742188,
          2.7888073921203613,
          3.6737570762634277,
          6.000816822052002,
          -20.15013313293457,
          -15.412022590637207,
          -5.626205921173096,
          1.758384346961975,
          -10.643608093261719,
          -13.091889381408691,
          -3.1189486980438232,
          -9.710339546203613,
          -19.90240478515625,
          -14.102446556091309,
          0.6766156554222107,
          6.008322238922119,
          -6.453235626220703,
          -17.35572052001953,
          6.770354747772217,
          -9.523957252502441,
          6.285799503326416,
          -14.974535942077637,
          -19.333736419677734,
          6.621211051940918,
          14.564105033874512,
          -10.38666820526123,
          -5.568849563598633,
          6.7781877517700195,
          -0.3331463634967804,
          8.016684532165527,
          -7.481724739074707,
          -2.00515079498291,
          -9.889155387878418,
          0.4427582323551178,
          -5.703657150268555,
          -12.999573707580566,
          10.681106567382812,
          -15.469242095947266,
          3.4610800743103027,
          -0.38983353972435,
          -0.10304290056228638,
          15.030570983886719,
          5.418540000915527,
          -8.438912391662598,
          -20.476194381713867,
          -18.247957229614258,
          5.7044453620910645,
          17.233427047729492,
          -10.895235061645508,
          -1.653702735900879,
          -12.780155181884766,
          7.318238258361816,
          5.226620674133301,
          10.278860092163086,
          4.289525032043457,
          18.845787048339844,
          -0.1025162935256958,
          -19.040184020996094,
          -13.615988731384277,
          11.049633026123047,
          6.253655910491943,
          8.998478889465332,
          10.78825855255127,
          -25.366830825805664,
          2.3945577144622803,
          -14.359456062316895,
          7.161504745483398,
          2.24932861328125,
          -14.27979564666748,
          13.225197792053223,
          -8.766443252563477,
          -7.975412368774414,
          -21.95637321472168,
          -9.791199684143066,
          -9.772613525390625,
          -2.397855758666992,
          4.1014404296875,
          -0.34087106585502625,
          -0.48994332551956177,
          -12.492313385009766,
          12.450488090515137,
          -2.091902732849121,
          -11.456049919128418,
          5.236856460571289,
          -2.511605739593506,
          0.047598231583833694,
          4.505433559417725,
          -16.221084594726562,
          -11.003973007202148,
          -0.6458420753479004,
          2.173196315765381,
          -7.369567394256592,
          0.9616259336471558,
          1.9345589876174927,
          -16.611434936523438,
          5.983695983886719,
          3.9984042644500732,
          2.308621406555176,
          -12.354009628295898,
          -7.376803398132324,
          -6.012547016143799,
          -10.258522033691406,
          4.655842304229736,
          -7.8431477546691895,
          -15.881610870361328,
          -0.6883614659309387,
          13.871136665344238,
          18.783645629882812,
          0.7024195790290833,
          18.330055236816406,
          1.860719919204712,
          6.556950569152832,
          -8.252911567687988,
          -18.862674713134766,
          11.427607536315918,
          -9.619176864624023,
          -12.743968963623047,
          0.2418447732925415,
          -20.100996017456055,
          -4.333360195159912,
          -4.045421123504639,
          -3.4665253162384033,
          -0.6164295673370361,
          -3.118680715560913,
          -9.858699798583984,
          -13.019137382507324,
          8.310361862182617,
          -2.2837982177734375,
          -5.6342620849609375,
          -4.305262088775635,
          -10.213211059570312,
          -15.441049575805664,
          -16.49047088623047,
          -12.246516227722168,
          9.818365097045898,
          15.323053359985352,
          1.9396579265594482,
          16.425264358520508,
          9.683753967285156,
          -17.202545166015625,
          -11.974907875061035,
          0.6044365763664246,
          1.748706579208374,
          18.680416107177734,
          -12.825492858886719,
          6.160846710205078,
          -5.809866428375244,
          -11.769465446472168,
          -10.748496055603027,
          -12.879007339477539,
          -19.247934341430664,
          -6.2322845458984375,
          13.0463228225708,
          -18.89340591430664,
          8.109057426452637,
          -4.632806301116943,
          2.809896469116211,
          -1.1572483777999878,
          -1.3521173000335693,
          -15.626440048217773,
          11.093592643737793,
          -2.076436996459961,
          2.419059991836548,
          -11.360091209411621,
          -9.761900901794434,
          -14.854029655456543,
          1.3415932655334473,
          -24.959348678588867,
          6.106636047363281,
          -2.2624025344848633,
          0.9805620908737183,
          -15.129783630371094,
          -20.959909439086914,
          -18.58344841003418,
          -13.567204475402832,
          -10.946606636047363,
          -10.796429634094238,
          -12.89391040802002,
          -5.261419773101807,
          -20.074657440185547,
          -14.272228240966797,
          6.8063812255859375,
          7.488452911376953,
          -7.770881652832031,
          -11.879156112670898,
          6.849432468414307,
          21.754751205444336,
          2.894576072692871,
          -9.256954193115234,
          -15.33654499053955,
          -15.112475395202637,
          -11.865585327148438,
          -2.4500508308410645,
          1.67024827003479,
          15.324141502380371,
          15.36918830871582,
          -8.397195816040039,
          -15.161576271057129,
          -19.484844207763672,
          6.876880168914795,
          -6.481082916259766,
          -0.7676588296890259,
          18.658836364746094,
          0.6805363297462463,
          -18.616437911987305,
          6.455941200256348,
          -9.403629302978516,
          -22.73346710205078,
          -7.049136161804199,
          -22.164323806762695,
          0.029073674231767654,
          4.145155906677246,
          -10.746219635009766,
          -1.7759389877319336,
          4.928578853607178,
          -1.7883775234222412,
          -4.445290565490723,
          6.9232635498046875,
          11.761667251586914,
          2.8707876205444336,
          -10.121402740478516,
          -19.349674224853516,
          -2.6776962280273438,
          -6.6959547996521,
          -18.03110694885254,
          -26.190738677978516,
          -22.51529312133789,
          -12.548498153686523,
          -13.478643417358398,
          -8.357715606689453,
          -3.662937641143799,
          -0.8936983346939087,
          16.50377082824707,
          -11.089993476867676,
          -18.292631149291992,
          -17.690393447875977,
          -17.64864730834961,
          -19.040681838989258,
          2.696509599685669,
          -10.304156303405762,
          1.817142367362976,
          -12.849089622497559,
          -19.710004806518555,
          2.7575395107269287,
          -16.153467178344727,
          1.9652179479599,
          -20.07301902770996,
          -11.061553001403809,
          6.5143537521362305,
          -11.988197326660156,
          0.12280859798192978,
          -18.78200340270996,
          -12.701006889343262,
          -18.94914436340332,
          1.436886191368103,
          -10.213117599487305,
          -18.455673217773438,
          -18.75813865661621,
          -18.490711212158203,
          2.3409998416900635,
          -18.935726165771484,
          14.187275886535645,
          2.5846669673919678,
          -0.4063110947608948,
          -12.0353364944458,
          -18.809213638305664,
          -22.924591064453125,
          -18.46815299987793,
          -20.186630249023438,
          -19.175905227661133,
          1.9510390758514404,
          -17.17041778564453,
          0.4940536618232727,
          -20.675748825073242,
          -18.296236038208008,
          -0.9055776000022888,
          -17.87456512451172,
          -13.626725196838379,
          -14.401463508605957,
          -18.66729736328125,
          -19.41069221496582,
          -20.17127799987793,
          -14.044881820678711,
          -19.75627326965332,
          2.2491440773010254,
          7.125969886779785,
          -10.424610137939453,
          -0.6231738924980164,
          -17.986745834350586,
          -8.813383102416992,
          -18.962730407714844,
          -19.940210342407227,
          5.554046154022217,
          -20.39750099182129,
          2.0345561504364014,
          -10.316311836242676,
          -2.754622459411621,
          -21.075407028198242,
          17.62662124633789,
          -3.0248522758483887,
          -21.149614334106445,
          -23.93841552734375,
          2.0427772998809814,
          -22.10487937927246,
          -21.484506607055664,
          3.638585090637207,
          -22.079971313476562,
          -21.738906860351562,
          -22.328561782836914,
          -16.49031639099121,
          12.338391304016113,
          -20.19234848022461,
          -7.333947658538818,
          0.6124787926673889,
          -6.333544731140137,
          8.855451583862305,
          -10.58760929107666,
          11.656912803649902,
          11.751827239990234,
          -15.55455493927002,
          -18.138427734375,
          -8.93688678741455,
          -8.02186107635498,
          11.00997257232666,
          -6.568789005279541,
          -22.98252296447754,
          4.482570171356201,
          6.510537624359131,
          -6.454000949859619,
          -15.732845306396484,
          -4.384451866149902,
          -14.167497634887695,
          6.392218589782715,
          -7.3064374923706055,
          -10.7667875289917,
          -0.6532560586929321,
          -5.8452630043029785,
          -13.477542877197266,
          -3.741347312927246,
          -8.841485977172852,
          -13.03518009185791,
          -17.868549346923828,
          -17.42305564880371,
          -8.552572250366211,
          -14.94275951385498,
          3.5991551876068115,
          -0.668718695640564,
          4.251977443695068,
          18.210365295410156,
          -17.41855239868164,
          -16.58961296081543,
          0.9522817730903625,
          -0.8575677275657654,
          -15.60556697845459,
          -3.49215030670166,
          -13.793185234069824,
          4.359014511108398,
          16.82573890686035,
          -9.631768226623535,
          2.2750680446624756,
          18.299388885498047,
          19.233417510986328,
          -8.315620422363281,
          8.505433082580566,
          -18.09149932861328,
          -20.957704544067383,
          4.648538112640381,
          -18.0391902923584,
          7.721754550933838,
          18.52920913696289,
          -19.997365951538086,
          18.220726013183594,
          2.959535837173462,
          15.012206077575684,
          -18.12836456298828,
          18.55893898010254,
          6.555819511413574,
          -21.610681533813477,
          -18.458755493164062,
          0.6764459013938904,
          -15.155071258544922,
          -6.576181888580322,
          -11.45036506652832,
          0.4817746579647064,
          8.167316436767578,
          1.1127573251724243,
          0.1981591284275055,
          -7.141928672790527,
          -3.664933204650879,
          -19.889591217041016,
          11.808667182922363,
          8.639249801635742,
          -4.7873992919921875,
          -20.965076446533203,
          -21.037206649780273,
          1.0781118869781494,
          -6.30615758895874,
          8.903865814208984,
          -4.3976287841796875,
          17.25689125061035,
          17.0140438079834,
          -0.216199591755867,
          3.1638829708099365,
          -24.72063446044922,
          -15.493589401245117,
          -4.0315022468566895,
          -0.9328491687774658,
          1.21005380153656,
          -21.579191207885742,
          2.5934157371520996,
          -19.44700050354004,
          -21.950660705566406,
          5.923189640045166,
          -12.276187896728516,
          -13.638306617736816,
          2.6302969455718994,
          1.114162564277649,
          7.989034652709961,
          -21.427066802978516,
          -24.52714729309082,
          -13.229326248168945,
          7.5124406814575195,
          -20.02734375,
          1.20103919506073,
          -9.057762145996094,
          -3.851969003677368,
          -14.734692573547363,
          -15.50207805633545,
          2.063768148422241,
          4.758206844329834,
          -13.906861305236816,
          8.11485767364502,
          6.718944549560547,
          15.54329776763916,
          0.700552761554718,
          14.290117263793945,
          16.025400161743164,
          -5.655256748199463,
          -10.178507804870605,
          1.5802315473556519,
          -14.217752456665039,
          1.8282357454299927,
          -3.1444149017333984,
          -18.735279083251953,
          -22.50709342956543,
          -12.159431457519531,
          -12.024341583251953,
          -13.444010734558105,
          -3.9156839847564697,
          -16.500608444213867,
          0.4455852210521698,
          -7.551186561584473,
          -4.922913074493408,
          -1.8223339319229126,
          5.410726547241211,
          -20.539886474609375,
          -10.266843795776367,
          14.165107727050781,
          1.8728861808776855,
          -0.6364828944206238,
          -18.4893856048584,
          -1.2774749994277954,
          -7.242754936218262,
          -24.89272117614746,
          -21.843473434448242,
          -24.947792053222656,
          -23.546268463134766,
          25.488500595092773,
          -18.878925323486328,
          1.7033159732818604,
          -1.672300100326538,
          25.60417366027832,
          -11.220165252685547,
          -1.6837408542633057,
          -24.240615844726562,
          -4.0279436111450195,
          -24.98369789123535,
          -1.456362247467041,
          -25.78389549255371,
          -23.62925148010254,
          -24.602092742919922,
          -21.390336990356445,
          -24.61127471923828,
          -23.011823654174805,
          -20.548166275024414,
          -25.239408493041992,
          -23.84967803955078,
          -21.44072151184082,
          -25.22767448425293,
          -23.922584533691406,
          -24.322486877441406,
          -24.34958839416504,
          -23.683391571044922,
          -23.06169891357422,
          -24.24513053894043,
          -20.386648178100586,
          -24.368547439575195,
          -23.28609275817871,
          -22.382434844970703,
          -23.346925735473633,
          -21.39716339111328,
          -19.737565994262695,
          -20.457590103149414,
          -23.80517578125,
          -23.919321060180664,
          -21.41433334350586,
          -1.873934030532837,
          -21.774797439575195,
          -2.747291088104248,
          -2.749920129776001,
          -19.44200897216797,
          15.928625106811523,
          -23.05678939819336,
          -11.03900146484375,
          -15.113612174987793,
          -7.523319721221924,
          -7.808608531951904,
          8.179213523864746,
          -20.654598236083984,
          -3.2535130977630615,
          -20.52756118774414,
          -11.532076835632324,
          9.803544998168945,
          -16.642728805541992,
          4.087519645690918,
          -21.889299392700195,
          -24.358139038085938,
          -5.263421535491943,
          -8.824714660644531,
          4.427064418792725,
          12.70272445678711,
          -20.97504234313965,
          1.7781332731246948,
          -20.880537033081055,
          -1.889927864074707,
          -19.836013793945312,
          -8.849504470825195,
          9.61966609954834,
          -24.409202575683594,
          -11.015060424804688,
          -1.915313959121704,
          -16.005672454833984,
          -18.262523651123047,
          -18.01898193359375,
          4.297504425048828,
          -8.254900932312012,
          4.780956268310547,
          -19.8249454498291,
          -13.848986625671387,
          -19.208110809326172,
          -19.324220657348633,
          -16.199350357055664,
          -19.14190101623535,
          -22.404747009277344,
          -19.403017044067383,
          -20.278688430786133,
          -19.373207092285156,
          -19.20071792602539,
          -21.369945526123047,
          -1.1021711826324463,
          2.652066230773926,
          -21.964536666870117,
          -21.122852325439453,
          0.6293885111808777,
          -19.35000991821289,
          -19.01972007751465,
          -19.567476272583008,
          -19.34307098388672,
          -19.737525939941406,
          -12.780190467834473,
          -22.068035125732422,
          -21.036787033081055,
          -20.88559913635254,
          -16.869461059570312,
          17.871889114379883,
          -9.24819278717041,
          -24.775554656982422,
          -21.447654724121094,
          -24.59147071838379,
          -22.31175422668457,
          -18.74857521057129,
          13.806004524230957,
          -19.915042877197266,
          -18.830015182495117,
          -21.639379501342773,
          -21.790536880493164,
          -18.846811294555664,
          -21.62163543701172,
          -21.051189422607422,
          -11.28289794921875,
          -12.979561805725098,
          0.036157526075839996,
          -21.925493240356445,
          -16.33616065979004,
          -13.79014778137207,
          -23.888731002807617,
          3.0990214347839355,
          -17.711496353149414,
          -13.603006362915039,
          -13.776066780090332
         ],
         "yaxis": "y"
        }
       ],
       "layout": {
        "coloraxis": {
         "colorbar": {
          "title": {
           "text": "popularity"
          }
         },
         "colorscale": [
          [
           0,
           "#0d0887"
          ],
          [
           0.1111111111111111,
           "#46039f"
          ],
          [
           0.2222222222222222,
           "#7201a8"
          ],
          [
           0.3333333333333333,
           "#9c179e"
          ],
          [
           0.4444444444444444,
           "#bd3786"
          ],
          [
           0.5555555555555556,
           "#d8576b"
          ],
          [
           0.6666666666666666,
           "#ed7953"
          ],
          [
           0.7777777777777778,
           "#fb9f3a"
          ],
          [
           0.8888888888888888,
           "#fdca26"
          ],
          [
           1,
           "#f0f921"
          ]
         ]
        },
        "legend": {
         "tracegroupgap": 0
        },
        "margin": {
         "t": 60
        },
        "template": {
         "data": {
          "bar": [
           {
            "error_x": {
             "color": "#2a3f5f"
            },
            "error_y": {
             "color": "#2a3f5f"
            },
            "marker": {
             "line": {
              "color": "#E5ECF6",
              "width": 0.5
             },
             "pattern": {
              "fillmode": "overlay",
              "size": 10,
              "solidity": 0.2
             }
            },
            "type": "bar"
           }
          ],
          "barpolar": [
           {
            "marker": {
             "line": {
              "color": "#E5ECF6",
              "width": 0.5
             },
             "pattern": {
              "fillmode": "overlay",
              "size": 10,
              "solidity": 0.2
             }
            },
            "type": "barpolar"
           }
          ],
          "carpet": [
           {
            "aaxis": {
             "endlinecolor": "#2a3f5f",
             "gridcolor": "white",
             "linecolor": "white",
             "minorgridcolor": "white",
             "startlinecolor": "#2a3f5f"
            },
            "baxis": {
             "endlinecolor": "#2a3f5f",
             "gridcolor": "white",
             "linecolor": "white",
             "minorgridcolor": "white",
             "startlinecolor": "#2a3f5f"
            },
            "type": "carpet"
           }
          ],
          "choropleth": [
           {
            "colorbar": {
             "outlinewidth": 0,
             "ticks": ""
            },
            "type": "choropleth"
           }
          ],
          "contour": [
           {
            "colorbar": {
             "outlinewidth": 0,
             "ticks": ""
            },
            "colorscale": [
             [
              0,
              "#0d0887"
             ],
             [
              0.1111111111111111,
              "#46039f"
             ],
             [
              0.2222222222222222,
              "#7201a8"
             ],
             [
              0.3333333333333333,
              "#9c179e"
             ],
             [
              0.4444444444444444,
              "#bd3786"
             ],
             [
              0.5555555555555556,
              "#d8576b"
             ],
             [
              0.6666666666666666,
              "#ed7953"
             ],
             [
              0.7777777777777778,
              "#fb9f3a"
             ],
             [
              0.8888888888888888,
              "#fdca26"
             ],
             [
              1,
              "#f0f921"
             ]
            ],
            "type": "contour"
           }
          ],
          "contourcarpet": [
           {
            "colorbar": {
             "outlinewidth": 0,
             "ticks": ""
            },
            "type": "contourcarpet"
           }
          ],
          "heatmap": [
           {
            "colorbar": {
             "outlinewidth": 0,
             "ticks": ""
            },
            "colorscale": [
             [
              0,
              "#0d0887"
             ],
             [
              0.1111111111111111,
              "#46039f"
             ],
             [
              0.2222222222222222,
              "#7201a8"
             ],
             [
              0.3333333333333333,
              "#9c179e"
             ],
             [
              0.4444444444444444,
              "#bd3786"
             ],
             [
              0.5555555555555556,
              "#d8576b"
             ],
             [
              0.6666666666666666,
              "#ed7953"
             ],
             [
              0.7777777777777778,
              "#fb9f3a"
             ],
             [
              0.8888888888888888,
              "#fdca26"
             ],
             [
              1,
              "#f0f921"
             ]
            ],
            "type": "heatmap"
           }
          ],
          "heatmapgl": [
           {
            "colorbar": {
             "outlinewidth": 0,
             "ticks": ""
            },
            "colorscale": [
             [
              0,
              "#0d0887"
             ],
             [
              0.1111111111111111,
              "#46039f"
             ],
             [
              0.2222222222222222,
              "#7201a8"
             ],
             [
              0.3333333333333333,
              "#9c179e"
             ],
             [
              0.4444444444444444,
              "#bd3786"
             ],
             [
              0.5555555555555556,
              "#d8576b"
             ],
             [
              0.6666666666666666,
              "#ed7953"
             ],
             [
              0.7777777777777778,
              "#fb9f3a"
             ],
             [
              0.8888888888888888,
              "#fdca26"
             ],
             [
              1,
              "#f0f921"
             ]
            ],
            "type": "heatmapgl"
           }
          ],
          "histogram": [
           {
            "marker": {
             "pattern": {
              "fillmode": "overlay",
              "size": 10,
              "solidity": 0.2
             }
            },
            "type": "histogram"
           }
          ],
          "histogram2d": [
           {
            "colorbar": {
             "outlinewidth": 0,
             "ticks": ""
            },
            "colorscale": [
             [
              0,
              "#0d0887"
             ],
             [
              0.1111111111111111,
              "#46039f"
             ],
             [
              0.2222222222222222,
              "#7201a8"
             ],
             [
              0.3333333333333333,
              "#9c179e"
             ],
             [
              0.4444444444444444,
              "#bd3786"
             ],
             [
              0.5555555555555556,
              "#d8576b"
             ],
             [
              0.6666666666666666,
              "#ed7953"
             ],
             [
              0.7777777777777778,
              "#fb9f3a"
             ],
             [
              0.8888888888888888,
              "#fdca26"
             ],
             [
              1,
              "#f0f921"
             ]
            ],
            "type": "histogram2d"
           }
          ],
          "histogram2dcontour": [
           {
            "colorbar": {
             "outlinewidth": 0,
             "ticks": ""
            },
            "colorscale": [
             [
              0,
              "#0d0887"
             ],
             [
              0.1111111111111111,
              "#46039f"
             ],
             [
              0.2222222222222222,
              "#7201a8"
             ],
             [
              0.3333333333333333,
              "#9c179e"
             ],
             [
              0.4444444444444444,
              "#bd3786"
             ],
             [
              0.5555555555555556,
              "#d8576b"
             ],
             [
              0.6666666666666666,
              "#ed7953"
             ],
             [
              0.7777777777777778,
              "#fb9f3a"
             ],
             [
              0.8888888888888888,
              "#fdca26"
             ],
             [
              1,
              "#f0f921"
             ]
            ],
            "type": "histogram2dcontour"
           }
          ],
          "mesh3d": [
           {
            "colorbar": {
             "outlinewidth": 0,
             "ticks": ""
            },
            "type": "mesh3d"
           }
          ],
          "parcoords": [
           {
            "line": {
             "colorbar": {
              "outlinewidth": 0,
              "ticks": ""
             }
            },
            "type": "parcoords"
           }
          ],
          "pie": [
           {
            "automargin": true,
            "type": "pie"
           }
          ],
          "scatter": [
           {
            "fillpattern": {
             "fillmode": "overlay",
             "size": 10,
             "solidity": 0.2
            },
            "type": "scatter"
           }
          ],
          "scatter3d": [
           {
            "line": {
             "colorbar": {
              "outlinewidth": 0,
              "ticks": ""
             }
            },
            "marker": {
             "colorbar": {
              "outlinewidth": 0,
              "ticks": ""
             }
            },
            "type": "scatter3d"
           }
          ],
          "scattercarpet": [
           {
            "marker": {
             "colorbar": {
              "outlinewidth": 0,
              "ticks": ""
             }
            },
            "type": "scattercarpet"
           }
          ],
          "scattergeo": [
           {
            "marker": {
             "colorbar": {
              "outlinewidth": 0,
              "ticks": ""
             }
            },
            "type": "scattergeo"
           }
          ],
          "scattergl": [
           {
            "marker": {
             "colorbar": {
              "outlinewidth": 0,
              "ticks": ""
             }
            },
            "type": "scattergl"
           }
          ],
          "scattermapbox": [
           {
            "marker": {
             "colorbar": {
              "outlinewidth": 0,
              "ticks": ""
             }
            },
            "type": "scattermapbox"
           }
          ],
          "scatterpolar": [
           {
            "marker": {
             "colorbar": {
              "outlinewidth": 0,
              "ticks": ""
             }
            },
            "type": "scatterpolar"
           }
          ],
          "scatterpolargl": [
           {
            "marker": {
             "colorbar": {
              "outlinewidth": 0,
              "ticks": ""
             }
            },
            "type": "scatterpolargl"
           }
          ],
          "scatterternary": [
           {
            "marker": {
             "colorbar": {
              "outlinewidth": 0,
              "ticks": ""
             }
            },
            "type": "scatterternary"
           }
          ],
          "surface": [
           {
            "colorbar": {
             "outlinewidth": 0,
             "ticks": ""
            },
            "colorscale": [
             [
              0,
              "#0d0887"
             ],
             [
              0.1111111111111111,
              "#46039f"
             ],
             [
              0.2222222222222222,
              "#7201a8"
             ],
             [
              0.3333333333333333,
              "#9c179e"
             ],
             [
              0.4444444444444444,
              "#bd3786"
             ],
             [
              0.5555555555555556,
              "#d8576b"
             ],
             [
              0.6666666666666666,
              "#ed7953"
             ],
             [
              0.7777777777777778,
              "#fb9f3a"
             ],
             [
              0.8888888888888888,
              "#fdca26"
             ],
             [
              1,
              "#f0f921"
             ]
            ],
            "type": "surface"
           }
          ],
          "table": [
           {
            "cells": {
             "fill": {
              "color": "#EBF0F8"
             },
             "line": {
              "color": "white"
             }
            },
            "header": {
             "fill": {
              "color": "#C8D4E3"
             },
             "line": {
              "color": "white"
             }
            },
            "type": "table"
           }
          ]
         },
         "layout": {
          "annotationdefaults": {
           "arrowcolor": "#2a3f5f",
           "arrowhead": 0,
           "arrowwidth": 1
          },
          "autotypenumbers": "strict",
          "coloraxis": {
           "colorbar": {
            "outlinewidth": 0,
            "ticks": ""
           }
          },
          "colorscale": {
           "diverging": [
            [
             0,
             "#8e0152"
            ],
            [
             0.1,
             "#c51b7d"
            ],
            [
             0.2,
             "#de77ae"
            ],
            [
             0.3,
             "#f1b6da"
            ],
            [
             0.4,
             "#fde0ef"
            ],
            [
             0.5,
             "#f7f7f7"
            ],
            [
             0.6,
             "#e6f5d0"
            ],
            [
             0.7,
             "#b8e186"
            ],
            [
             0.8,
             "#7fbc41"
            ],
            [
             0.9,
             "#4d9221"
            ],
            [
             1,
             "#276419"
            ]
           ],
           "sequential": [
            [
             0,
             "#0d0887"
            ],
            [
             0.1111111111111111,
             "#46039f"
            ],
            [
             0.2222222222222222,
             "#7201a8"
            ],
            [
             0.3333333333333333,
             "#9c179e"
            ],
            [
             0.4444444444444444,
             "#bd3786"
            ],
            [
             0.5555555555555556,
             "#d8576b"
            ],
            [
             0.6666666666666666,
             "#ed7953"
            ],
            [
             0.7777777777777778,
             "#fb9f3a"
            ],
            [
             0.8888888888888888,
             "#fdca26"
            ],
            [
             1,
             "#f0f921"
            ]
           ],
           "sequentialminus": [
            [
             0,
             "#0d0887"
            ],
            [
             0.1111111111111111,
             "#46039f"
            ],
            [
             0.2222222222222222,
             "#7201a8"
            ],
            [
             0.3333333333333333,
             "#9c179e"
            ],
            [
             0.4444444444444444,
             "#bd3786"
            ],
            [
             0.5555555555555556,
             "#d8576b"
            ],
            [
             0.6666666666666666,
             "#ed7953"
            ],
            [
             0.7777777777777778,
             "#fb9f3a"
            ],
            [
             0.8888888888888888,
             "#fdca26"
            ],
            [
             1,
             "#f0f921"
            ]
           ]
          },
          "colorway": [
           "#636efa",
           "#EF553B",
           "#00cc96",
           "#ab63fa",
           "#FFA15A",
           "#19d3f3",
           "#FF6692",
           "#B6E880",
           "#FF97FF",
           "#FECB52"
          ],
          "font": {
           "color": "#2a3f5f"
          },
          "geo": {
           "bgcolor": "white",
           "lakecolor": "white",
           "landcolor": "#E5ECF6",
           "showlakes": true,
           "showland": true,
           "subunitcolor": "white"
          },
          "hoverlabel": {
           "align": "left"
          },
          "hovermode": "closest",
          "mapbox": {
           "style": "light"
          },
          "paper_bgcolor": "white",
          "plot_bgcolor": "#E5ECF6",
          "polar": {
           "angularaxis": {
            "gridcolor": "white",
            "linecolor": "white",
            "ticks": ""
           },
           "bgcolor": "#E5ECF6",
           "radialaxis": {
            "gridcolor": "white",
            "linecolor": "white",
            "ticks": ""
           }
          },
          "scene": {
           "xaxis": {
            "backgroundcolor": "#E5ECF6",
            "gridcolor": "white",
            "gridwidth": 2,
            "linecolor": "white",
            "showbackground": true,
            "ticks": "",
            "zerolinecolor": "white"
           },
           "yaxis": {
            "backgroundcolor": "#E5ECF6",
            "gridcolor": "white",
            "gridwidth": 2,
            "linecolor": "white",
            "showbackground": true,
            "ticks": "",
            "zerolinecolor": "white"
           },
           "zaxis": {
            "backgroundcolor": "#E5ECF6",
            "gridcolor": "white",
            "gridwidth": 2,
            "linecolor": "white",
            "showbackground": true,
            "ticks": "",
            "zerolinecolor": "white"
           }
          },
          "shapedefaults": {
           "line": {
            "color": "#2a3f5f"
           }
          },
          "ternary": {
           "aaxis": {
            "gridcolor": "white",
            "linecolor": "white",
            "ticks": ""
           },
           "baxis": {
            "gridcolor": "white",
            "linecolor": "white",
            "ticks": ""
           },
           "bgcolor": "#E5ECF6",
           "caxis": {
            "gridcolor": "white",
            "linecolor": "white",
            "ticks": ""
           }
          },
          "title": {
           "x": 0.05
          },
          "xaxis": {
           "automargin": true,
           "gridcolor": "white",
           "linecolor": "white",
           "ticks": "",
           "title": {
            "standoff": 15
           },
           "zerolinecolor": "white",
           "zerolinewidth": 2
          },
          "yaxis": {
           "automargin": true,
           "gridcolor": "white",
           "linecolor": "white",
           "ticks": "",
           "title": {
            "standoff": 15
           },
           "zerolinecolor": "white",
           "zerolinewidth": 2
          }
         }
        },
        "xaxis": {
         "anchor": "y",
         "domain": [
          0,
          1
         ],
         "title": {
          "text": "tsne_1"
         }
        },
        "yaxis": {
         "anchor": "x",
         "domain": [
          0,
          1
         ],
         "title": {
          "text": "tsne_2"
         }
        }
       }
      }
     },
     "metadata": {},
     "output_type": "display_data"
    }
   ],
   "source": [
    "import plotly.express as px\n",
    "\n",
    "tsne_df = pd.DataFrame(item_tsne, columns=[\"tsne_1\", \"tsne_2\"])\n",
    "tsne_df[\"item_id\"] = np.arange(item_tsne.shape[0])\n",
    "tsne_df = tsne_df.merge(items.reset_index())\n",
    "\n",
    "px.scatter(tsne_df, x=\"tsne_1\", y=\"tsne_2\",\n",
    "           color=\"popularity\",\n",
    "           hover_data=[\"item_id\", \"title\",\n",
    "                       \"release_year\", \"popularity\"])"
   ]
  },
  {
   "cell_type": "markdown",
   "metadata": {},
   "source": [
    "Alternatively with [Uniform Manifold Approximation and Projection](https://github.com/lmcinnes/umap):"
   ]
  },
  {
   "cell_type": "code",
   "execution_count": 48,
   "metadata": {},
   "outputs": [],
   "source": [
    "# %pip install umap-learn"
   ]
  },
  {
   "cell_type": "code",
   "execution_count": 49,
   "metadata": {},
   "outputs": [],
   "source": [
    "# import umap\n",
    "\n",
    "# item_umap = umap.UMAP().fit_transform(item_embeddings)\n",
    "# plt.figure(figsize=(10, 10))\n",
    "# plt.scatter(item_umap[:, 0], item_umap[:, 1]);\n",
    "# plt.xticks(()); plt.yticks(());\n",
    "# plt.show()"
   ]
  },
  {
   "cell_type": "markdown",
   "metadata": {},
   "source": [
    "## A Deep recommender model\n",
    "\n",
    "Using a similar framework as previously, the following deep model described in the course was built (with only two fully connected)\n",
    "\n",
    "<img src=\"images/rec_archi_2.svg\" style=\"width: 600px;\" />\n",
    "\n",
    "To build this model we will need a new kind of layer:"
   ]
  },
  {
   "cell_type": "code",
   "execution_count": 50,
   "metadata": {},
   "outputs": [],
   "source": [
    "from tensorflow.keras.layers import Concatenate"
   ]
  },
  {
   "cell_type": "markdown",
   "metadata": {},
   "source": [
    "\n",
    "### Exercise\n",
    "\n",
    "- The following code has **4 errors** that prevent it from working correctly. **Correct them and explain** why they are critical."
   ]
  },
  {
   "cell_type": "code",
   "execution_count": 51,
   "metadata": {},
   "outputs": [
    {
     "name": "stdout",
     "output_type": "stream",
     "text": [
      "2500/2500 [==============================] - 1s 245us/step\n"
     ]
    }
   ],
   "source": [
    "class DeepRegressionModel(Model):\n",
    "\n",
    "    def __init__(self, embedding_size, max_user_id, max_item_id):\n",
    "        super().__init__()\n",
    "        \n",
    "        self.user_embedding = Embedding(output_dim=embedding_size,\n",
    "                                        input_dim=max_user_id + 1,\n",
    "                                        input_length=1,\n",
    "                                        name='user_embedding')\n",
    "        self.item_embedding = Embedding(output_dim=embedding_size,\n",
    "                                        input_dim=max_item_id + 1,\n",
    "                                        input_length=1,\n",
    "                                        name='item_embedding')\n",
    "        \n",
    "        # The following two layers don't have parameters.\n",
    "        self.flatten = Flatten()\n",
    "        self.concat = Concatenate()\n",
    "        \n",
    "        self.dropout = Dropout(0.99)\n",
    "        self.dense1 = Dense(64, activation=\"relu\")\n",
    "        self.dense2 = Dense(2, activation=\"tanh\")\n",
    "        \n",
    "    def call(self, inputs, training=False):\n",
    "        user_inputs = inputs[0]\n",
    "        item_inputs = inputs[1]\n",
    "        \n",
    "        user_vecs = self.flatten(self.user_embedding(user_inputs))\n",
    "        item_vecs = self.flatten(self.item_embedding(item_inputs))\n",
    "        \n",
    "        input_vecs = self.concat([user_vecs, item_vecs])\n",
    "        \n",
    "        y = self.dropout(input_vecs, training=training)\n",
    "        y = self.dense1(y)\n",
    "        y = self.dense2(y)\n",
    "        \n",
    "        return y\n",
    "        \n",
    "model = DeepRegressionModel(64, max_user_id, max_item_id)\n",
    "model.compile(optimizer='adam', loss='binary_crossentropy')\n",
    "\n",
    "initial_train_preds = model.predict([user_id_train, item_id_train])"
   ]
  },
  {
   "cell_type": "code",
   "execution_count": 52,
   "metadata": {},
   "outputs": [],
   "source": [
    "# %load solutions/deep_explicit_feedback_recsys.py"
   ]
  },
  {
   "cell_type": "code",
   "execution_count": 53,
   "metadata": {},
   "outputs": [
    {
     "name": "stdout",
     "output_type": "stream",
     "text": [
      "Epoch 1/10\n",
      "1125/1125 [==============================] - 1s 930us/step - loss: -22.0941 - val_loss: -37.5250\n",
      "Epoch 2/10\n",
      "1125/1125 [==============================] - 1s 877us/step - loss: -37.5343 - val_loss: -37.5250\n",
      "Epoch 3/10\n",
      "1125/1125 [==============================] - 1s 869us/step - loss: -37.5214 - val_loss: -37.5250\n",
      "Epoch 4/10\n",
      "1125/1125 [==============================] - 1s 894us/step - loss: -37.4872 - val_loss: -37.5250\n",
      "Epoch 5/10\n",
      "1125/1125 [==============================] - 1s 883us/step - loss: -37.4614 - val_loss: -37.5250\n",
      "Epoch 6/10\n",
      "1125/1125 [==============================] - 1s 861us/step - loss: -37.4535 - val_loss: -37.5250\n",
      "Epoch 7/10\n",
      "1125/1125 [==============================] - 1s 880us/step - loss: -37.4623 - val_loss: -37.5250\n",
      "Epoch 8/10\n",
      "1125/1125 [==============================] - 1s 879us/step - loss: -37.4848 - val_loss: -37.5250\n",
      "Epoch 9/10\n",
      "1125/1125 [==============================] - 1s 858us/step - loss: -37.5059 - val_loss: -37.5250\n",
      "Epoch 10/10\n",
      "1125/1125 [==============================] - 1s 855us/step - loss: -37.5316 - val_loss: -37.5250\n",
      "CPU times: user 12.4 s, sys: 3.2 s, total: 15.6 s\n",
      "Wall time: 10.3 s\n"
     ]
    }
   ],
   "source": [
    "%%time\n",
    "history = model.fit([user_id_train, item_id_train], rating_train,\n",
    "                    batch_size=64, epochs=10, validation_split=0.1,\n",
    "                    shuffle=True)"
   ]
  },
  {
   "cell_type": "code",
   "execution_count": 54,
   "metadata": {},
   "outputs": [
    {
     "data": {
      "image/png": "[encoded data removed]",
      "text/plain": [
       "<Figure size 640x480 with 1 Axes>"
      ]
     },
     "metadata": {},
     "output_type": "display_data"
    }
   ],
   "source": [
    "plt.plot(history.history['loss'], label='train')\n",
    "plt.plot(history.history['val_loss'], label='validation')\n",
    "plt.ylim(0, 2)\n",
    "plt.legend(loc='best')\n",
    "plt.title('Loss');"
   ]
  },
  {
   "cell_type": "code",
   "execution_count": 55,
   "metadata": {},
   "outputs": [
    {
     "name": "stdout",
     "output_type": "stream",
     "text": [
      "2500/2500 [==============================] - 1s 264us/step\n"
     ]
    },
    {
     "ename": "ValueError",
     "evalue": "y_true and y_pred have different number of output (2!=1)",
     "output_type": "error",
     "traceback": [
      "\u001b[0;31m---------------------------------------------------------------------------\u001b[0m",
      "\u001b[0;31mValueError\u001b[0m                                Traceback (most recent call last)",
      "Cell \u001b[0;32mIn[55], line 2\u001b[0m\n\u001b[1;32m      1\u001b[0m train_preds \u001b[39m=\u001b[39m model\u001b[39m.\u001b[39mpredict([user_id_train, item_id_train])\n\u001b[0;32m----> 2\u001b[0m \u001b[39mprint\u001b[39m(\u001b[39m\"\u001b[39m\u001b[39mFinal train MSE: \u001b[39m\u001b[39m%0.3f\u001b[39;00m\u001b[39m\"\u001b[39m \u001b[39m%\u001b[39m mean_squared_error(train_preds, rating_train))\n\u001b[1;32m      3\u001b[0m \u001b[39mprint\u001b[39m(\u001b[39m\"\u001b[39m\u001b[39mFinal train MAE: \u001b[39m\u001b[39m%0.3f\u001b[39;00m\u001b[39m\"\u001b[39m \u001b[39m%\u001b[39m mean_absolute_error(train_preds, rating_train))\n",
      "File \u001b[0;32m~/Library/Python/3.9/lib/python/site-packages/sklearn/metrics/_regression.py:442\u001b[0m, in \u001b[0;36mmean_squared_error\u001b[0;34m(y_true, y_pred, sample_weight, multioutput, squared)\u001b[0m\n\u001b[1;32m    382\u001b[0m \u001b[39mdef\u001b[39;00m \u001b[39mmean_squared_error\u001b[39m(\n\u001b[1;32m    383\u001b[0m     y_true, y_pred, \u001b[39m*\u001b[39m, sample_weight\u001b[39m=\u001b[39m\u001b[39mNone\u001b[39;00m, multioutput\u001b[39m=\u001b[39m\u001b[39m\"\u001b[39m\u001b[39muniform_average\u001b[39m\u001b[39m\"\u001b[39m, squared\u001b[39m=\u001b[39m\u001b[39mTrue\u001b[39;00m\n\u001b[1;32m    384\u001b[0m ):\n\u001b[1;32m    385\u001b[0m \u001b[39m    \u001b[39m\u001b[39m\"\"\"Mean squared error regression loss.\u001b[39;00m\n\u001b[1;32m    386\u001b[0m \n\u001b[1;32m    387\u001b[0m \u001b[39m    Read more in the :ref:`User Guide <mean_squared_error>`.\u001b[39;00m\n\u001b[0;32m   (...)\u001b[0m\n\u001b[1;32m    440\u001b[0m \u001b[39m    0.825...\u001b[39;00m\n\u001b[1;32m    441\u001b[0m \u001b[39m    \"\"\"\u001b[39;00m\n\u001b[0;32m--> 442\u001b[0m     y_type, y_true, y_pred, multioutput \u001b[39m=\u001b[39m _check_reg_targets(\n\u001b[1;32m    443\u001b[0m         y_true, y_pred, multioutput\n\u001b[1;32m    444\u001b[0m     )\n\u001b[1;32m    445\u001b[0m     check_consistent_length(y_true, y_pred, sample_weight)\n\u001b[1;32m    446\u001b[0m     output_errors \u001b[39m=\u001b[39m np\u001b[39m.\u001b[39maverage((y_true \u001b[39m-\u001b[39m y_pred) \u001b[39m*\u001b[39m\u001b[39m*\u001b[39m \u001b[39m2\u001b[39m, axis\u001b[39m=\u001b[39m\u001b[39m0\u001b[39m, weights\u001b[39m=\u001b[39msample_weight)\n",
      "File \u001b[0;32m~/Library/Python/3.9/lib/python/site-packages/sklearn/metrics/_regression.py:111\u001b[0m, in \u001b[0;36m_check_reg_targets\u001b[0;34m(y_true, y_pred, multioutput, dtype)\u001b[0m\n\u001b[1;32m    108\u001b[0m     y_pred \u001b[39m=\u001b[39m y_pred\u001b[39m.\u001b[39mreshape((\u001b[39m-\u001b[39m\u001b[39m1\u001b[39m, \u001b[39m1\u001b[39m))\n\u001b[1;32m    110\u001b[0m \u001b[39mif\u001b[39;00m y_true\u001b[39m.\u001b[39mshape[\u001b[39m1\u001b[39m] \u001b[39m!=\u001b[39m y_pred\u001b[39m.\u001b[39mshape[\u001b[39m1\u001b[39m]:\n\u001b[0;32m--> 111\u001b[0m     \u001b[39mraise\u001b[39;00m \u001b[39mValueError\u001b[39;00m(\n\u001b[1;32m    112\u001b[0m         \u001b[39m\"\u001b[39m\u001b[39my_true and y_pred have different number of output (\u001b[39m\u001b[39m{0}\u001b[39;00m\u001b[39m!=\u001b[39m\u001b[39m{1}\u001b[39;00m\u001b[39m)\u001b[39m\u001b[39m\"\u001b[39m\u001b[39m.\u001b[39mformat(\n\u001b[1;32m    113\u001b[0m             y_true\u001b[39m.\u001b[39mshape[\u001b[39m1\u001b[39m], y_pred\u001b[39m.\u001b[39mshape[\u001b[39m1\u001b[39m]\n\u001b[1;32m    114\u001b[0m         )\n\u001b[1;32m    115\u001b[0m     )\n\u001b[1;32m    117\u001b[0m n_outputs \u001b[39m=\u001b[39m y_true\u001b[39m.\u001b[39mshape[\u001b[39m1\u001b[39m]\n\u001b[1;32m    118\u001b[0m allowed_multioutput_str \u001b[39m=\u001b[39m (\u001b[39m\"\u001b[39m\u001b[39mraw_values\u001b[39m\u001b[39m\"\u001b[39m, \u001b[39m\"\u001b[39m\u001b[39muniform_average\u001b[39m\u001b[39m\"\u001b[39m, \u001b[39m\"\u001b[39m\u001b[39mvariance_weighted\u001b[39m\u001b[39m\"\u001b[39m)\n",
      "\u001b[0;31mValueError\u001b[0m: y_true and y_pred have different number of output (2!=1)"
     ]
    }
   ],
   "source": [
    "train_preds = model.predict([user_id_train, item_id_train])\n",
    "print(\"Final train MSE: %0.3f\" % mean_squared_error(train_preds, rating_train))\n",
    "print(\"Final train MAE: %0.3f\" % mean_absolute_error(train_preds, rating_train))"
   ]
  },
  {
   "cell_type": "code",
   "execution_count": null,
   "metadata": {},
   "outputs": [],
   "source": [
    "test_preds = model.predict([user_id_test, item_id_test])\n",
    "print(\"Final test MSE: %0.3f\" % mean_squared_error(test_preds, rating_test))\n",
    "print(\"Final test MAE: %0.3f\" % mean_absolute_error(test_preds, rating_test))"
   ]
  },
  {
   "cell_type": "markdown",
   "metadata": {},
   "source": [
    "The performance of this model is not necessarily significantly better than the previous model but you can notice that the gap between train and test is lower, probably thanks to the use of dropout.\n",
    "\n",
    "Furthermore this model is more flexible in the sense that we can extend it to include metadata for hybrid recsys as we will see in the following."
   ]
  },
  {
   "cell_type": "markdown",
   "metadata": {},
   "source": [
    "### Home assignment: \n",
    " - Add another layer, compare train/test error.\n",
    " - Can you improve the test MAE? \n",
    " - Try adding more dropout and change layer sizes.\n",
    " \n",
    " \n",
    "Manual tuning of so many hyperparameters is tedious. In practice it's better to automate the design of the model using an hyperparameter search tool such as:\n",
    "\n",
    "- https://keras-team.github.io/keras-tuner/ (Keras specific)\n",
    "- https://optuna.org/ (any machine learning framework, Keras included)"
   ]
  },
  {
   "cell_type": "markdown",
   "metadata": {},
   "source": [
    "## Using item metadata in the model\n",
    "\n",
    "Using a similar framework as previously, we will build another deep model that can also leverage additional metadata. The resulting system is therefore an **Hybrid Recommender System** that does both **Collaborative Filtering** and **Content-based recommendations**.\n",
    "\n",
    "<img src=\"images/rec_archi_3.svg\" style=\"width: 600px;\" />\n"
   ]
  },
  {
   "cell_type": "code",
   "execution_count": null,
   "metadata": {},
   "outputs": [],
   "source": [
    "from sklearn.preprocessing import QuantileTransformer\n",
    "\n",
    "meta_columns = ['popularity', 'release_year']\n",
    "\n",
    "scaler = QuantileTransformer()\n",
    "item_meta_train = scaler.fit_transform(ratings_train[meta_columns])\n",
    "item_meta_test = scaler.transform(ratings_test[meta_columns])"
   ]
  },
  {
   "cell_type": "code",
   "execution_count": null,
   "metadata": {},
   "outputs": [],
   "source": [
    "class HybridModel(Model):\n",
    "\n",
    "    def __init__(self, embedding_size, max_user_id, max_item_id):\n",
    "        super().__init__()\n",
    "        \n",
    "        self.user_embedding = Embedding(output_dim=embedding_size,\n",
    "                                        input_dim=max_user_id + 1,\n",
    "                                        input_length=1,\n",
    "                                        name='user_embedding')\n",
    "        self.item_embedding = Embedding(output_dim=embedding_size,\n",
    "                                        input_dim=max_item_id + 1,\n",
    "                                        input_length=1,\n",
    "                                        name='item_embedding')\n",
    "        \n",
    "        # The following two layers don't have parameters.\n",
    "        self.flatten = Flatten()\n",
    "        self.concat = Concatenate()\n",
    "        \n",
    "        self.dense1 = Dense(64, activation=\"relu\")\n",
    "        self.dropout = Dropout(0.3)\n",
    "        self.dense2 = Dense(64, activation='relu')\n",
    "        self.dense3 = Dense(1)\n",
    "        \n",
    "    def call(self, inputs, training=False):\n",
    "        user_inputs = inputs[0]\n",
    "        item_inputs = inputs[1]\n",
    "        meta_inputs = inputs[2]\n",
    "\n",
    "        user_vecs = self.flatten(self.user_embedding(user_inputs))\n",
    "        user_vecs = self.dropout(user_vecs, training=training)\n",
    "\n",
    "        item_vecs = self.flatten(self.item_embedding(item_inputs))\n",
    "        item_vecs = self.dropout(item_vecs, training=training)\n",
    "\n",
    "        input_vecs = self.concat([user_vecs, item_vecs, meta_inputs])\n",
    "\n",
    "        y = self.dense1(input_vecs)\n",
    "        y = self.dropout(y, training=training)\n",
    "        y = self.dense2(y)\n",
    "        y = self.dropout(y, training=training)\n",
    "        y = self.dense3(y)\n",
    "        return y\n",
    "        \n",
    "model = HybridModel(64, max_user_id, max_item_id)\n",
    "model.compile(optimizer='adam', loss='mae')\n",
    "\n",
    "initial_train_preds = model.predict([user_id_train,\n",
    "                                     item_id_train,\n",
    "                                     item_meta_train])"
   ]
  },
  {
   "cell_type": "code",
   "execution_count": null,
   "metadata": {},
   "outputs": [],
   "source": [
    "%%time\n",
    "history = model.fit([user_id_train, item_id_train, item_meta_train],\n",
    "                    rating_train,\n",
    "                    batch_size=64, epochs=10, validation_split=0.1,\n",
    "                    shuffle=True)"
   ]
  },
  {
   "cell_type": "code",
   "execution_count": null,
   "metadata": {},
   "outputs": [],
   "source": [
    "test_preds = model.predict([user_id_test, item_id_test, item_meta_test])\n",
    "print(\"Final test MSE: %0.3f\" % mean_squared_error(test_preds, rating_test))\n",
    "print(\"Final test MAE: %0.3f\" % mean_absolute_error(test_preds, rating_test))"
   ]
  },
  {
   "cell_type": "markdown",
   "metadata": {},
   "source": [
    "The additional metadata seems to improve the predictive power of the model a bit but this should be re-run several times to see the impact of the random initialization of the model.\n",
    "\n",
    "\n",
    "### A recommendation function for a given user\n",
    "\n",
    "Once the model is trained, the system can be used to recommend a few items for a user, that he/she hasn't already seen:\n",
    "- we use the `model.predict` to compute the ratings a user would have given to all items\n",
    "- we build a reco function that sorts these items and exclude those the user has already seen"
   ]
  },
  {
   "cell_type": "code",
   "execution_count": null,
   "metadata": {
    "scrolled": true
   },
   "outputs": [],
   "source": [
    "def recommend(user_id, top_n=10):\n",
    "    item_ids = range(1, max_item_id)\n",
    "    seen_mask = all_ratings[\"user_id\"] == user_id\n",
    "    seen_movies = set(all_ratings[seen_mask][\"item_id\"])\n",
    "    item_ids = list(filter(lambda x: x not in seen_movies, item_ids))\n",
    "\n",
    "    print(\"User %d has seen %d movies, including:\" % (user_id, len(seen_movies)))\n",
    "    for title in all_ratings[seen_mask].nlargest(20, 'popularity')['title']:\n",
    "        print(\"   \", title)\n",
    "    print(\"Computing ratings for %d other movies:\" % len(item_ids))\n",
    "    \n",
    "    item_ids = np.array(item_ids)\n",
    "    user_ids = np.zeros_like(item_ids)\n",
    "    user_ids[:] = user_id\n",
    "    items_meta = scaler.transform(indexed_items[meta_columns].loc[item_ids])\n",
    "    \n",
    "    rating_preds = model.predict([user_ids, item_ids, items_meta])\n",
    "    \n",
    "    item_ids = np.argsort(rating_preds[:, 0])[::-1].tolist()\n",
    "    rec_items = item_ids[:top_n]\n",
    "    return [(items[\"title\"][movie], rating_preds[movie][0])\n",
    "            for movie in rec_items]"
   ]
  },
  {
   "cell_type": "code",
   "execution_count": null,
   "metadata": {},
   "outputs": [],
   "source": [
    "for title, pred_rating in recommend(5):\n",
    "    print(\"    %0.1f: %s\" % (pred_rating, title))"
   ]
  },
  {
   "cell_type": "markdown",
   "metadata": {},
   "source": [
    "### Home assignment: Predicting ratings as a classification problem\n",
    "\n",
    "In this dataset, the ratings all belong to a finite set of possible values:"
   ]
  },
  {
   "cell_type": "code",
   "execution_count": null,
   "metadata": {},
   "outputs": [],
   "source": [
    "import numpy as np\n",
    "\n",
    "np.unique(rating_train)"
   ]
  },
  {
   "cell_type": "markdown",
   "metadata": {},
   "source": [
    "Maybe we can help the model by forcing it to predict those values by treating the problem as a multiclassification problem. The only required changes are:\n",
    "\n",
    "- setting the final layer to output class membership probabities using a softmax activation with 5 outputs;\n",
    "- optimize the categorical cross-entropy classification loss instead of a regression loss such as MSE or MAE."
   ]
  },
  {
   "cell_type": "code",
   "execution_count": 56,
   "metadata": {},
   "outputs": [],
   "source": [
    "# %load solutions/classification.py\n",
    "class ClassificationModel(Model):\n",
    "    def __init__(self, embedding_size, max_user_id, max_item_id):\n",
    "        super().__init__()\n",
    "\n",
    "        self.user_embedding = Embedding(output_dim=embedding_size, input_dim=max_user_id + 1,\n",
    "                                        input_length=1, name='user_embedding')\n",
    "        self.item_embedding = Embedding(output_dim=embedding_size, input_dim=max_item_id + 1,\n",
    "                                        input_length=1, name='item_embedding')\n",
    "\n",
    "        # The following two layers don't have parameters.\n",
    "        self.flatten = Flatten()\n",
    "        self.concat = Concatenate()\n",
    "\n",
    "        self.dropout1 = Dropout(0.5)\n",
    "        self.dense1 = Dense(128, activation=\"relu\")\n",
    "        self.dropout2 = Dropout(0.2)\n",
    "        self.dense2 = Dense(128, activation='relu')\n",
    "        self.dense3 = Dense(5, activation=\"softmax\")\n",
    "\n",
    "    def call(self, inputs):\n",
    "        user_inputs = inputs[0]\n",
    "        item_inputs = inputs[1]\n",
    "\n",
    "        user_vecs = self.flatten(self.user_embedding(user_inputs))\n",
    "        item_vecs = self.flatten(self.item_embedding(item_inputs))\n",
    "\n",
    "        input_vecs = self.concat([user_vecs, item_vecs])\n",
    "\n",
    "        y = self.dropout1(input_vecs)\n",
    "        y = self.dense1(y)\n",
    "        y = self.dropout2(y)\n",
    "        y = self.dense2(y)\n",
    "        y = self.dense3(y)\n",
    "\n",
    "        return y\n",
    "\n",
    "model = ClassificationModel(16, max_user_id, max_item_id)\n",
    "model.compile(optimizer='adam', loss='sparse_categorical_crossentropy')\n",
    "\n",
    "initial_train_preds = model.predict([user_id_train, item_id_train]).argmax(axis=1) + 1\n",
    "print(\"Random init MSE: %0.3f\" % mean_squared_error(initial_train_preds, rating_train))\n",
    "print(\"Random init MAE: %0.3f\" % mean_absolute_error(initial_train_preds, rating_train))\n",
    "\n",
    "history = model.fit([user_id_train, item_id_train], rating_train - 1,\n",
    "                    batch_size=64, epochs=15, validation_split=0.1,\n",
    "                    shuffle=True)\n",
    "\n",
    "plt.plot(history.history['loss'], label='train')\n",
    "plt.plot(history.history['val_loss'], label='validation')\n",
    "plt.ylim(0, 2)\n",
    "plt.legend(loc='best')\n",
    "plt.title('loss');\n",
    "\n",
    "test_preds = model.predict([user_id_test, item_id_test]).argmax(axis=1) + 1\n",
    "print(\"Final test MSE: %0.3f\" % mean_squared_error(test_preds, rating_test))\n",
    "print(\"Final test MAE: %0.3f\" % mean_absolute_error(test_preds, rating_test))\n"
   ]
  },
  {
   "cell_type": "code",
   "execution_count": null,
   "metadata": {},
   "outputs": [],
   "source": []
  },
  {
   "cell_type": "code",
   "execution_count": null,
   "metadata": {},
   "outputs": [],
   "source": []
  }
 ],
 "metadata": {
  "kernelspec": {
   "display_name": "Python 3",
   "language": "python",
   "name": "python3"
  },
  "language_info": {
   "codemirror_mode": {
    "name": "ipython",
    "version": 3
   },
   "file_extension": ".py",
   "mimetype": "text/x-python",
   "name": "python",
   "nbconvert_exporter": "python",
   "pygments_lexer": "ipython3",
   "version": "3.9.6"
  },
  "vscode": {
   "interpreter": {
    "hash": "31f2aee4e71d21fbe5cf8b01ff0e069b9275f58929596ceb00d14d90e3e16cd6"
   }
  }
 },
 "nbformat": 4,
 "nbformat_minor": 2
}
